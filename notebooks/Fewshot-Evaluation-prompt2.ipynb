{
 "cells": [
  {
   "cell_type": "markdown",
   "metadata": {},
   "source": [
    "## Few Shot Evaluation"
   ]
  },
  {
   "cell_type": "code",
   "execution_count": 5,
   "metadata": {},
   "outputs": [],
   "source": [
    "import sys\n",
    "import os\n",
    "sys.path.append('..')\n",
    "\n",
    "from Parser import parse_LLM_output\n",
    "from evaluate_tasks import *\n",
    "import json\n",
    "from nltk.sem.logic import *\n",
    "import nltk\n",
    "from nltk.sem.logic import LogicParser, Expression\n",
    "from nltk.sem.evaluate import Valuation, Model\n",
    "import pandas as pd"
   ]
  },
  {
   "cell_type": "markdown",
   "metadata": {},
   "source": [
    "## Evaluation (via Parsers)"
   ]
  },
  {
   "cell_type": "code",
   "execution_count": 6,
   "metadata": {},
   "outputs": [
    {
     "name": "stdout",
     "output_type": "stream",
     "text": [
      "45\n"
     ]
    }
   ],
   "source": [
    "files = [f for f in os.listdir('../results/fewshot-eval/') if f.endswith('.json')]\n",
    "print(len(files))"
   ]
  },
  {
   "cell_type": "code",
   "execution_count": null,
   "metadata": {},
   "outputs": [],
   "source": [
    "results =[]\n",
    "for f in files:\n",
    "    names = f.split('_')\n",
    "    model_name = names[0]\n",
    "    task_name = names[1]\n",
    "    task_name = os.path.splitext(task_name)[0]\n",
    "\n",
    "    dataset = pd.read_json('../results/fewshot-eval/' + f)\n",
    "\n",
    "    if \"task1\" in task_name:\n",
    "        correctIncorrect, gibberish = eval_task1(dataset)\n",
    "    elif \"task2\" in task_name:\n",
    "        correctIncorrect, gibberish = eval_task2(dataset)\n",
    "    elif \"task3\" in task_name:\n",
    "        correctIncorrect, gibberish = eval_task3(dataset)\n",
    "\n",
    "    # add two new columns to df and change original file\n",
    "    dataset['Correct'] = correctIncorrect\n",
    "    dataset['Gibberish'] = gibberish\n",
    "    dataset.to_json('../results/fewshot-eval/' + f)\n",
    "    # correctIncorrect = dataset['Correct']\n",
    "    # gibberish = dataset['Gibberish']\n",
    "\n",
    "    # calculate overall acc + acc without gibberish\n",
    "    accuracy = sum(correctIncorrect) / len(correctIncorrect)\n",
    "    print(accuracy)\n",
    "    if accuracy > 0.0:\n",
    "        accuracyNoGibberish = sum(correctIncorrect) / (len(correctIncorrect) - sum(gibberish))\n",
    "    else:\n",
    "        accuracyNoGibberish = 0.0\n",
    "    \n",
    "    results.append({'Task': task_name, 'Model': model_name, 'Accuracy': accuracy, 'AccuracyNoGibberish': accuracyNoGibberish})\n"
   ]
  },
  {
   "cell_type": "markdown",
   "metadata": {},
   "source": [
    "#### Table / Summary:"
   ]
  },
  {
   "cell_type": "code",
   "execution_count": 8,
   "metadata": {},
   "outputs": [
    {
     "data": {
      "text/html": [
       "<div>\n",
       "<style scoped>\n",
       "    .dataframe tbody tr th:only-of-type {\n",
       "        vertical-align: middle;\n",
       "    }\n",
       "\n",
       "    .dataframe tbody tr th {\n",
       "        vertical-align: top;\n",
       "    }\n",
       "\n",
       "    .dataframe thead tr th {\n",
       "        text-align: left;\n",
       "    }\n",
       "\n",
       "    .dataframe thead tr:last-of-type th {\n",
       "        text-align: right;\n",
       "    }\n",
       "</style>\n",
       "<table border=\"1\" class=\"dataframe\">\n",
       "  <thead>\n",
       "    <tr>\n",
       "      <th></th>\n",
       "      <th colspan=\"9\" halign=\"left\">Accuracy</th>\n",
       "      <th colspan=\"9\" halign=\"left\">AccuracyNoGibberish</th>\n",
       "    </tr>\n",
       "    <tr>\n",
       "      <th>Task</th>\n",
       "      <th>task1-fs1</th>\n",
       "      <th>task1-fs2</th>\n",
       "      <th>task1-fs4</th>\n",
       "      <th>task2-fs1</th>\n",
       "      <th>task2-fs2</th>\n",
       "      <th>task2-fs4</th>\n",
       "      <th>task3-fs1</th>\n",
       "      <th>task3-fs2</th>\n",
       "      <th>task3-fs4</th>\n",
       "      <th>task1-fs1</th>\n",
       "      <th>task1-fs2</th>\n",
       "      <th>task1-fs4</th>\n",
       "      <th>task2-fs1</th>\n",
       "      <th>task2-fs2</th>\n",
       "      <th>task2-fs4</th>\n",
       "      <th>task3-fs1</th>\n",
       "      <th>task3-fs2</th>\n",
       "      <th>task3-fs4</th>\n",
       "    </tr>\n",
       "    <tr>\n",
       "      <th>Model</th>\n",
       "      <th></th>\n",
       "      <th></th>\n",
       "      <th></th>\n",
       "      <th></th>\n",
       "      <th></th>\n",
       "      <th></th>\n",
       "      <th></th>\n",
       "      <th></th>\n",
       "      <th></th>\n",
       "      <th></th>\n",
       "      <th></th>\n",
       "      <th></th>\n",
       "      <th></th>\n",
       "      <th></th>\n",
       "      <th></th>\n",
       "      <th></th>\n",
       "      <th></th>\n",
       "      <th></th>\n",
       "    </tr>\n",
       "  </thead>\n",
       "  <tbody>\n",
       "    <tr>\n",
       "      <th>Llama-2-13b-chat-hf</th>\n",
       "      <td>0.152</td>\n",
       "      <td>0.255</td>\n",
       "      <td>0.398</td>\n",
       "      <td>0.007</td>\n",
       "      <td>0.087</td>\n",
       "      <td>0.207</td>\n",
       "      <td>0.510</td>\n",
       "      <td>0.504</td>\n",
       "      <td>0.503</td>\n",
       "      <td>0.346241</td>\n",
       "      <td>0.358650</td>\n",
       "      <td>0.429342</td>\n",
       "      <td>0.012891</td>\n",
       "      <td>0.223650</td>\n",
       "      <td>0.601744</td>\n",
       "      <td>0.510</td>\n",
       "      <td>0.504</td>\n",
       "      <td>0.503</td>\n",
       "    </tr>\n",
       "    <tr>\n",
       "      <th>Wizard-15b</th>\n",
       "      <td>0.240</td>\n",
       "      <td>0.365</td>\n",
       "      <td>0.500</td>\n",
       "      <td>0.391</td>\n",
       "      <td>0.388</td>\n",
       "      <td>0.418</td>\n",
       "      <td>0.494</td>\n",
       "      <td>0.493</td>\n",
       "      <td>0.495</td>\n",
       "      <td>0.421793</td>\n",
       "      <td>0.425904</td>\n",
       "      <td>0.502513</td>\n",
       "      <td>0.658249</td>\n",
       "      <td>0.656514</td>\n",
       "      <td>0.654147</td>\n",
       "      <td>0.494</td>\n",
       "      <td>0.493</td>\n",
       "      <td>0.495</td>\n",
       "    </tr>\n",
       "    <tr>\n",
       "      <th>falcon-7b</th>\n",
       "      <td>0.299</td>\n",
       "      <td>0.370</td>\n",
       "      <td>0.346</td>\n",
       "      <td>0.162</td>\n",
       "      <td>0.247</td>\n",
       "      <td>0.142</td>\n",
       "      <td>0.493</td>\n",
       "      <td>0.493</td>\n",
       "      <td>0.493</td>\n",
       "      <td>0.378961</td>\n",
       "      <td>0.417136</td>\n",
       "      <td>0.362683</td>\n",
       "      <td>0.451253</td>\n",
       "      <td>0.515658</td>\n",
       "      <td>0.554688</td>\n",
       "      <td>0.493</td>\n",
       "      <td>0.493</td>\n",
       "      <td>0.493</td>\n",
       "    </tr>\n",
       "    <tr>\n",
       "      <th>flan-ul2</th>\n",
       "      <td>0.000</td>\n",
       "      <td>0.000</td>\n",
       "      <td>0.002</td>\n",
       "      <td>0.000</td>\n",
       "      <td>0.000</td>\n",
       "      <td>0.000</td>\n",
       "      <td>0.488</td>\n",
       "      <td>0.481</td>\n",
       "      <td>0.478</td>\n",
       "      <td>0.000000</td>\n",
       "      <td>0.000000</td>\n",
       "      <td>0.057143</td>\n",
       "      <td>0.000000</td>\n",
       "      <td>0.000000</td>\n",
       "      <td>0.000000</td>\n",
       "      <td>0.488</td>\n",
       "      <td>0.481</td>\n",
       "      <td>0.478</td>\n",
       "    </tr>\n",
       "    <tr>\n",
       "      <th>orca-13b</th>\n",
       "      <td>0.233</td>\n",
       "      <td>0.389</td>\n",
       "      <td>0.499</td>\n",
       "      <td>0.112</td>\n",
       "      <td>0.071</td>\n",
       "      <td>0.416</td>\n",
       "      <td>0.492</td>\n",
       "      <td>0.504</td>\n",
       "      <td>0.509</td>\n",
       "      <td>0.571078</td>\n",
       "      <td>0.468675</td>\n",
       "      <td>0.505572</td>\n",
       "      <td>0.227181</td>\n",
       "      <td>0.257246</td>\n",
       "      <td>0.604651</td>\n",
       "      <td>0.492</td>\n",
       "      <td>0.504</td>\n",
       "      <td>0.509</td>\n",
       "    </tr>\n",
       "  </tbody>\n",
       "</table>\n",
       "</div>"
      ],
      "text/plain": [
       "                     Accuracy                                           \n",
       "Task                task1-fs1 task1-fs2 task1-fs4 task2-fs1 task2-fs2   \n",
       "Model                                                                   \n",
       "Llama-2-13b-chat-hf     0.152     0.255     0.398     0.007     0.087  \\\n",
       "Wizard-15b              0.240     0.365     0.500     0.391     0.388   \n",
       "falcon-7b               0.299     0.370     0.346     0.162     0.247   \n",
       "flan-ul2                0.000     0.000     0.002     0.000     0.000   \n",
       "orca-13b                0.233     0.389     0.499     0.112     0.071   \n",
       "\n",
       "                                                              \n",
       "Task                task2-fs4 task3-fs1 task3-fs2 task3-fs4   \n",
       "Model                                                         \n",
       "Llama-2-13b-chat-hf     0.207     0.510     0.504     0.503  \\\n",
       "Wizard-15b              0.418     0.494     0.493     0.495   \n",
       "falcon-7b               0.142     0.493     0.493     0.493   \n",
       "flan-ul2                0.000     0.488     0.481     0.478   \n",
       "orca-13b                0.416     0.492     0.504     0.509   \n",
       "\n",
       "                    AccuracyNoGibberish                                 \n",
       "Task                          task1-fs1 task1-fs2 task1-fs4 task2-fs1   \n",
       "Model                                                                   \n",
       "Llama-2-13b-chat-hf            0.346241  0.358650  0.429342  0.012891  \\\n",
       "Wizard-15b                     0.421793  0.425904  0.502513  0.658249   \n",
       "falcon-7b                      0.378961  0.417136  0.362683  0.451253   \n",
       "flan-ul2                       0.000000  0.000000  0.057143  0.000000   \n",
       "orca-13b                       0.571078  0.468675  0.505572  0.227181   \n",
       "\n",
       "                                                                       \n",
       "Task                task2-fs2 task2-fs4 task3-fs1 task3-fs2 task3-fs4  \n",
       "Model                                                                  \n",
       "Llama-2-13b-chat-hf  0.223650  0.601744     0.510     0.504     0.503  \n",
       "Wizard-15b           0.656514  0.654147     0.494     0.493     0.495  \n",
       "falcon-7b            0.515658  0.554688     0.493     0.493     0.493  \n",
       "flan-ul2             0.000000  0.000000     0.488     0.481     0.478  \n",
       "orca-13b             0.257246  0.604651     0.492     0.504     0.509  "
      ]
     },
     "metadata": {},
     "output_type": "display_data"
    }
   ],
   "source": [
    "summary_df = pd.DataFrame(results, columns=['Task', 'Model', 'Accuracy', 'AccuracyNoGibberish'])\n",
    "summary_df = summary_df.pivot(index='Model', columns='Task', values=['Accuracy', 'AccuracyNoGibberish'])\n",
    "\n",
    "display(summary_df)"
   ]
  },
  {
   "cell_type": "code",
   "execution_count": 9,
   "metadata": {},
   "outputs": [],
   "source": [
    "import matplotlib.pyplot as plt"
   ]
  },
  {
   "cell_type": "code",
   "execution_count": 10,
   "metadata": {},
   "outputs": [],
   "source": [
    "temp_df = pd.DataFrame(results, columns=['Task', 'Model', 'Accuracy', 'AccuracyNoGibberish'])"
   ]
  },
  {
   "cell_type": "code",
   "execution_count": 11,
   "metadata": {},
   "outputs": [],
   "source": [
    "temp_df_t1 = temp_df[temp_df[\"Task\"].isin([\"task1-fs1\", \"task1-fs2\", \"task1-fs4\"])]"
   ]
  },
  {
   "cell_type": "code",
   "execution_count": 12,
   "metadata": {},
   "outputs": [
    {
     "data": {
      "text/html": [
       "<div>\n",
       "<style scoped>\n",
       "    .dataframe tbody tr th:only-of-type {\n",
       "        vertical-align: middle;\n",
       "    }\n",
       "\n",
       "    .dataframe tbody tr th {\n",
       "        vertical-align: top;\n",
       "    }\n",
       "\n",
       "    .dataframe thead th {\n",
       "        text-align: right;\n",
       "    }\n",
       "</style>\n",
       "<table border=\"1\" class=\"dataframe\">\n",
       "  <thead>\n",
       "    <tr style=\"text-align: right;\">\n",
       "      <th></th>\n",
       "      <th>Task</th>\n",
       "      <th>Model</th>\n",
       "      <th>Accuracy</th>\n",
       "      <th>AccuracyNoGibberish</th>\n",
       "    </tr>\n",
       "  </thead>\n",
       "  <tbody>\n",
       "    <tr>\n",
       "      <th>4</th>\n",
       "      <td>task1-fs1</td>\n",
       "      <td>Llama-2-13b-chat-hf</td>\n",
       "      <td>0.152</td>\n",
       "      <td>0.346241</td>\n",
       "    </tr>\n",
       "    <tr>\n",
       "      <th>38</th>\n",
       "      <td>task1-fs2</td>\n",
       "      <td>Llama-2-13b-chat-hf</td>\n",
       "      <td>0.255</td>\n",
       "      <td>0.358650</td>\n",
       "    </tr>\n",
       "    <tr>\n",
       "      <th>30</th>\n",
       "      <td>task1-fs4</td>\n",
       "      <td>Llama-2-13b-chat-hf</td>\n",
       "      <td>0.398</td>\n",
       "      <td>0.429342</td>\n",
       "    </tr>\n",
       "  </tbody>\n",
       "</table>\n",
       "</div>"
      ],
      "text/plain": [
       "         Task                Model  Accuracy  AccuracyNoGibberish\n",
       "4   task1-fs1  Llama-2-13b-chat-hf     0.152             0.346241\n",
       "38  task1-fs2  Llama-2-13b-chat-hf     0.255             0.358650\n",
       "30  task1-fs4  Llama-2-13b-chat-hf     0.398             0.429342"
      ]
     },
     "execution_count": 12,
     "metadata": {},
     "output_type": "execute_result"
    }
   ],
   "source": [
    "temp_df_t1_llama = temp_df_t1[temp_df_t1[\"Model\"]==\"Llama-2-13b-chat-hf\"]\n",
    "temp_df_t1_llama = temp_df_t1_llama.sort_values('Task')\n",
    "temp_df_t1_llama"
   ]
  },
  {
   "cell_type": "code",
   "execution_count": 13,
   "metadata": {},
   "outputs": [
    {
     "data": {
      "text/plain": [
       "<matplotlib.legend.Legend at 0x14f4a90f0>"
      ]
     },
     "execution_count": 13,
     "metadata": {},
     "output_type": "execute_result"
    },
    {
     "data": {
      "image/png": "[encoded data removed]",
      "text/plain": [
       "<Figure size 640x480 with 1 Axes>"
      ]
     },
     "metadata": {},
     "output_type": "display_data"
    }
   ],
   "source": [
    "_, ax = plt.subplots()\n",
    "temp_df_t1_llama[\"AccuracyNoGibberish\"].plot(kind='bar', ax=ax, color='#1B9783', ylim=(0, 1.0), label=\"CorrectedAccuracy\")\n",
    "temp_df_t1_llama[\"Accuracy\"].plot(kind='bar', ax=ax, color='#18206F', ylim=(0, 1.0), label=\"Accuracy\")\n",
    "plt.xticks([0, 1, 2], temp_df_t1_llama['Task'], rotation=\"vertical\")\n",
    "plt.legend(loc=\"upper left\")"
   ]
  },
  {
   "cell_type": "code",
   "execution_count": 14,
   "metadata": {},
   "outputs": [
    {
     "data": {
      "text/html": [
       "<div>\n",
       "<style scoped>\n",
       "    .dataframe tbody tr th:only-of-type {\n",
       "        vertical-align: middle;\n",
       "    }\n",
       "\n",
       "    .dataframe tbody tr th {\n",
       "        vertical-align: top;\n",
       "    }\n",
       "\n",
       "    .dataframe thead th {\n",
       "        text-align: right;\n",
       "    }\n",
       "</style>\n",
       "<table border=\"1\" class=\"dataframe\">\n",
       "  <thead>\n",
       "    <tr style=\"text-align: right;\">\n",
       "      <th></th>\n",
       "      <th>Task</th>\n",
       "      <th>Model</th>\n",
       "      <th>Accuracy</th>\n",
       "      <th>AccuracyNoGibberish</th>\n",
       "    </tr>\n",
       "  </thead>\n",
       "  <tbody>\n",
       "    <tr>\n",
       "      <th>22</th>\n",
       "      <td>task1-fs1</td>\n",
       "      <td>falcon-7b</td>\n",
       "      <td>0.299</td>\n",
       "      <td>0.378961</td>\n",
       "    </tr>\n",
       "    <tr>\n",
       "      <th>23</th>\n",
       "      <td>task1-fs2</td>\n",
       "      <td>falcon-7b</td>\n",
       "      <td>0.370</td>\n",
       "      <td>0.417136</td>\n",
       "    </tr>\n",
       "    <tr>\n",
       "      <th>37</th>\n",
       "      <td>task1-fs4</td>\n",
       "      <td>falcon-7b</td>\n",
       "      <td>0.346</td>\n",
       "      <td>0.362683</td>\n",
       "    </tr>\n",
       "  </tbody>\n",
       "</table>\n",
       "</div>"
      ],
      "text/plain": [
       "         Task      Model  Accuracy  AccuracyNoGibberish\n",
       "22  task1-fs1  falcon-7b     0.299             0.378961\n",
       "23  task1-fs2  falcon-7b     0.370             0.417136\n",
       "37  task1-fs4  falcon-7b     0.346             0.362683"
      ]
     },
     "execution_count": 14,
     "metadata": {},
     "output_type": "execute_result"
    }
   ],
   "source": [
    "temp_df_t1_falcon = temp_df_t1[temp_df_t1[\"Model\"]==\"falcon-7b\"]\n",
    "temp_df_t1_falcon = temp_df_t1_falcon.sort_values('Task')\n",
    "temp_df_t1_falcon"
   ]
  },
  {
   "cell_type": "code",
   "execution_count": 15,
   "metadata": {},
   "outputs": [
    {
     "data": {
      "text/plain": [
       "<matplotlib.legend.Legend at 0x14f54fd60>"
      ]
     },
     "execution_count": 15,
     "metadata": {},
     "output_type": "execute_result"
    },
    {
     "data": {
      "image/png": "[encoded data removed]",
      "text/plain": [
       "<Figure size 640x480 with 1 Axes>"
      ]
     },
     "metadata": {},
     "output_type": "display_data"
    }
   ],
   "source": [
    "_, ax = plt.subplots()\n",
    "temp_df_t1_falcon[\"AccuracyNoGibberish\"].plot(kind='bar', ax=ax, color='#1B9783', ylim=(0, 1.0), label=\"CorrectedAccuracy\")\n",
    "temp_df_t1_falcon[\"Accuracy\"].plot(kind='bar', ax=ax, color='#18206F', ylim=(0, 1.0), label=\"Accuracy\")\n",
    "plt.xticks([0, 1, 2], temp_df_t1_falcon['Task'], rotation=\"vertical\")\n",
    "plt.legend(loc=\"upper left\")"
   ]
  },
  {
   "cell_type": "code",
   "execution_count": 16,
   "metadata": {},
   "outputs": [
    {
     "data": {
      "text/html": [
       "<div>\n",
       "<style scoped>\n",
       "    .dataframe tbody tr th:only-of-type {\n",
       "        vertical-align: middle;\n",
       "    }\n",
       "\n",
       "    .dataframe tbody tr th {\n",
       "        vertical-align: top;\n",
       "    }\n",
       "\n",
       "    .dataframe thead th {\n",
       "        text-align: right;\n",
       "    }\n",
       "</style>\n",
       "<table border=\"1\" class=\"dataframe\">\n",
       "  <thead>\n",
       "    <tr style=\"text-align: right;\">\n",
       "      <th></th>\n",
       "      <th>Task</th>\n",
       "      <th>Model</th>\n",
       "      <th>Accuracy</th>\n",
       "      <th>AccuracyNoGibberish</th>\n",
       "    </tr>\n",
       "  </thead>\n",
       "  <tbody>\n",
       "    <tr>\n",
       "      <th>3</th>\n",
       "      <td>task1-fs1</td>\n",
       "      <td>flan-ul2</td>\n",
       "      <td>0.000</td>\n",
       "      <td>0.000000</td>\n",
       "    </tr>\n",
       "    <tr>\n",
       "      <th>44</th>\n",
       "      <td>task1-fs2</td>\n",
       "      <td>flan-ul2</td>\n",
       "      <td>0.000</td>\n",
       "      <td>0.000000</td>\n",
       "    </tr>\n",
       "    <tr>\n",
       "      <th>29</th>\n",
       "      <td>task1-fs4</td>\n",
       "      <td>flan-ul2</td>\n",
       "      <td>0.002</td>\n",
       "      <td>0.057143</td>\n",
       "    </tr>\n",
       "  </tbody>\n",
       "</table>\n",
       "</div>"
      ],
      "text/plain": [
       "         Task     Model  Accuracy  AccuracyNoGibberish\n",
       "3   task1-fs1  flan-ul2     0.000             0.000000\n",
       "44  task1-fs2  flan-ul2     0.000             0.000000\n",
       "29  task1-fs4  flan-ul2     0.002             0.057143"
      ]
     },
     "execution_count": 16,
     "metadata": {},
     "output_type": "execute_result"
    }
   ],
   "source": [
    "temp_df_t1_ul2 = temp_df_t1[temp_df_t1[\"Model\"]==\"flan-ul2\"]\n",
    "temp_df_t1_ul2 = temp_df_t1_ul2.sort_values('Task')\n",
    "temp_df_t1_ul2"
   ]
  },
  {
   "cell_type": "code",
   "execution_count": 17,
   "metadata": {},
   "outputs": [
    {
     "data": {
      "text/plain": [
       "<matplotlib.legend.Legend at 0x14f608820>"
      ]
     },
     "execution_count": 17,
     "metadata": {},
     "output_type": "execute_result"
    },
    {
     "data": {
      "image/png": "[encoded data removed]",
      "text/plain": [
       "<Figure size 640x480 with 1 Axes>"
      ]
     },
     "metadata": {},
     "output_type": "display_data"
    }
   ],
   "source": [
    "_, ax = plt.subplots()\n",
    "temp_df_t1_ul2[\"AccuracyNoGibberish\"].plot(kind='bar', ax=ax, color='#1B9783', ylim=(0, 1.0), label=\"CorrectedAccuracy\")\n",
    "temp_df_t1_ul2[\"Accuracy\"].plot(kind='bar', ax=ax, color='#18206F', ylim=(0, 1.0), label=\"Accuracy\")\n",
    "plt.xticks([0, 1, 2], temp_df_t1_ul2['Task'], rotation=\"vertical\")\n",
    "plt.legend(loc=\"upper left\")"
   ]
  },
  {
   "cell_type": "code",
   "execution_count": 18,
   "metadata": {},
   "outputs": [
    {
     "data": {
      "text/html": [
       "<div>\n",
       "<style scoped>\n",
       "    .dataframe tbody tr th:only-of-type {\n",
       "        vertical-align: middle;\n",
       "    }\n",
       "\n",
       "    .dataframe tbody tr th {\n",
       "        vertical-align: top;\n",
       "    }\n",
       "\n",
       "    .dataframe thead th {\n",
       "        text-align: right;\n",
       "    }\n",
       "</style>\n",
       "<table border=\"1\" class=\"dataframe\">\n",
       "  <thead>\n",
       "    <tr style=\"text-align: right;\">\n",
       "      <th></th>\n",
       "      <th>Task</th>\n",
       "      <th>Model</th>\n",
       "      <th>Accuracy</th>\n",
       "      <th>AccuracyNoGibberish</th>\n",
       "    </tr>\n",
       "  </thead>\n",
       "  <tbody>\n",
       "    <tr>\n",
       "      <th>28</th>\n",
       "      <td>task1-fs1</td>\n",
       "      <td>orca-13b</td>\n",
       "      <td>0.233</td>\n",
       "      <td>0.571078</td>\n",
       "    </tr>\n",
       "    <tr>\n",
       "      <th>19</th>\n",
       "      <td>task1-fs2</td>\n",
       "      <td>orca-13b</td>\n",
       "      <td>0.389</td>\n",
       "      <td>0.468675</td>\n",
       "    </tr>\n",
       "    <tr>\n",
       "      <th>2</th>\n",
       "      <td>task1-fs4</td>\n",
       "      <td>orca-13b</td>\n",
       "      <td>0.499</td>\n",
       "      <td>0.505572</td>\n",
       "    </tr>\n",
       "  </tbody>\n",
       "</table>\n",
       "</div>"
      ],
      "text/plain": [
       "         Task     Model  Accuracy  AccuracyNoGibberish\n",
       "28  task1-fs1  orca-13b     0.233             0.571078\n",
       "19  task1-fs2  orca-13b     0.389             0.468675\n",
       "2   task1-fs4  orca-13b     0.499             0.505572"
      ]
     },
     "execution_count": 18,
     "metadata": {},
     "output_type": "execute_result"
    }
   ],
   "source": [
    "temp_df_t1_orca = temp_df_t1[temp_df_t1[\"Model\"]==\"orca-13b\"]\n",
    "temp_df_t1_orca = temp_df_t1_orca.sort_values('Task')\n",
    "temp_df_t1_orca"
   ]
  },
  {
   "cell_type": "code",
   "execution_count": 19,
   "metadata": {},
   "outputs": [
    {
     "data": {
      "text/plain": [
       "<matplotlib.legend.Legend at 0x14f6a3370>"
      ]
     },
     "execution_count": 19,
     "metadata": {},
     "output_type": "execute_result"
    },
    {
     "data": {
      "image/png": "[encoded data removed]",
      "text/plain": [
       "<Figure size 640x480 with 1 Axes>"
      ]
     },
     "metadata": {},
     "output_type": "display_data"
    }
   ],
   "source": [
    "_, ax = plt.subplots()\n",
    "temp_df_t1_orca[\"AccuracyNoGibberish\"].plot(kind='bar', ax=ax, color='#1B9783', ylim=(0, 1.0), label=\"CorrectedAccuracy\")\n",
    "temp_df_t1_orca[\"Accuracy\"].plot(kind='bar', ax=ax, color='#18206F', ylim=(0, 1.0), label=\"Accuracy\")\n",
    "plt.xticks([0, 1, 2], temp_df_t1_orca['Task'], rotation=\"vertical\")\n",
    "plt.legend(loc=\"upper left\")"
   ]
  },
  {
   "cell_type": "code",
   "execution_count": 20,
   "metadata": {},
   "outputs": [
    {
     "data": {
      "text/html": [
       "<div>\n",
       "<style scoped>\n",
       "    .dataframe tbody tr th:only-of-type {\n",
       "        vertical-align: middle;\n",
       "    }\n",
       "\n",
       "    .dataframe tbody tr th {\n",
       "        vertical-align: top;\n",
       "    }\n",
       "\n",
       "    .dataframe thead th {\n",
       "        text-align: right;\n",
       "    }\n",
       "</style>\n",
       "<table border=\"1\" class=\"dataframe\">\n",
       "  <thead>\n",
       "    <tr style=\"text-align: right;\">\n",
       "      <th></th>\n",
       "      <th>Task</th>\n",
       "      <th>Model</th>\n",
       "      <th>Accuracy</th>\n",
       "      <th>AccuracyNoGibberish</th>\n",
       "    </tr>\n",
       "  </thead>\n",
       "  <tbody>\n",
       "    <tr>\n",
       "      <th>39</th>\n",
       "      <td>task1-fs1</td>\n",
       "      <td>Wizard-15b</td>\n",
       "      <td>0.240</td>\n",
       "      <td>0.421793</td>\n",
       "    </tr>\n",
       "    <tr>\n",
       "      <th>5</th>\n",
       "      <td>task1-fs2</td>\n",
       "      <td>Wizard-15b</td>\n",
       "      <td>0.365</td>\n",
       "      <td>0.425904</td>\n",
       "    </tr>\n",
       "    <tr>\n",
       "      <th>12</th>\n",
       "      <td>task1-fs4</td>\n",
       "      <td>Wizard-15b</td>\n",
       "      <td>0.500</td>\n",
       "      <td>0.502513</td>\n",
       "    </tr>\n",
       "  </tbody>\n",
       "</table>\n",
       "</div>"
      ],
      "text/plain": [
       "         Task       Model  Accuracy  AccuracyNoGibberish\n",
       "39  task1-fs1  Wizard-15b     0.240             0.421793\n",
       "5   task1-fs2  Wizard-15b     0.365             0.425904\n",
       "12  task1-fs4  Wizard-15b     0.500             0.502513"
      ]
     },
     "execution_count": 20,
     "metadata": {},
     "output_type": "execute_result"
    }
   ],
   "source": [
    "temp_df_t1_wizard = temp_df_t1[temp_df_t1[\"Model\"]==\"Wizard-15b\"]\n",
    "temp_df_t1_wizard = temp_df_t1_wizard.sort_values('Task')\n",
    "temp_df_t1_wizard"
   ]
  },
  {
   "cell_type": "code",
   "execution_count": 21,
   "metadata": {},
   "outputs": [
    {
     "data": {
      "text/plain": [
       "<matplotlib.legend.Legend at 0x14f718910>"
      ]
     },
     "execution_count": 21,
     "metadata": {},
     "output_type": "execute_result"
    },
    {
     "data": {
      "image/png": "[encoded data removed]",
      "text/plain": [
       "<Figure size 640x480 with 1 Axes>"
      ]
     },
     "metadata": {},
     "output_type": "display_data"
    }
   ],
   "source": [
    "_, ax = plt.subplots()\n",
    "temp_df_t1_wizard[\"AccuracyNoGibberish\"].plot(kind='bar', ax=ax, color='#1B9783', ylim=(0, 1.0), label=\"CorrectedAccuracy\")\n",
    "temp_df_t1_wizard[\"Accuracy\"].plot(kind='bar', ax=ax, color='#18206F', ylim=(0, 1.0), label=\"Accuracy\")\n",
    "plt.xticks([0, 1, 2], temp_df_t1_wizard['Task'], rotation=\"vertical\")\n",
    "plt.legend(loc=\"upper left\")"
   ]
  },
  {
   "cell_type": "markdown",
   "metadata": {},
   "source": [
    "# Task 2"
   ]
  },
  {
   "cell_type": "code",
   "execution_count": 22,
   "metadata": {},
   "outputs": [],
   "source": [
    "temp_df_t2 = temp_df[temp_df[\"Task\"].isin([\"task2-fs1\", \"task2-fs2\", \"task2-fs4\"])]"
   ]
  },
  {
   "cell_type": "code",
   "execution_count": 23,
   "metadata": {},
   "outputs": [
    {
     "data": {
      "text/html": [
       "<div>\n",
       "<style scoped>\n",
       "    .dataframe tbody tr th:only-of-type {\n",
       "        vertical-align: middle;\n",
       "    }\n",
       "\n",
       "    .dataframe tbody tr th {\n",
       "        vertical-align: top;\n",
       "    }\n",
       "\n",
       "    .dataframe thead th {\n",
       "        text-align: right;\n",
       "    }\n",
       "</style>\n",
       "<table border=\"1\" class=\"dataframe\">\n",
       "  <thead>\n",
       "    <tr style=\"text-align: right;\">\n",
       "      <th></th>\n",
       "      <th>Task</th>\n",
       "      <th>Model</th>\n",
       "      <th>Accuracy</th>\n",
       "      <th>AccuracyNoGibberish</th>\n",
       "    </tr>\n",
       "  </thead>\n",
       "  <tbody>\n",
       "    <tr>\n",
       "      <th>25</th>\n",
       "      <td>task2-fs1</td>\n",
       "      <td>Llama-2-13b-chat-hf</td>\n",
       "      <td>0.007</td>\n",
       "      <td>0.012891</td>\n",
       "    </tr>\n",
       "    <tr>\n",
       "      <th>15</th>\n",
       "      <td>task2-fs2</td>\n",
       "      <td>Llama-2-13b-chat-hf</td>\n",
       "      <td>0.087</td>\n",
       "      <td>0.223650</td>\n",
       "    </tr>\n",
       "    <tr>\n",
       "      <th>1</th>\n",
       "      <td>task2-fs4</td>\n",
       "      <td>Llama-2-13b-chat-hf</td>\n",
       "      <td>0.207</td>\n",
       "      <td>0.601744</td>\n",
       "    </tr>\n",
       "  </tbody>\n",
       "</table>\n",
       "</div>"
      ],
      "text/plain": [
       "         Task                Model  Accuracy  AccuracyNoGibberish\n",
       "25  task2-fs1  Llama-2-13b-chat-hf     0.007             0.012891\n",
       "15  task2-fs2  Llama-2-13b-chat-hf     0.087             0.223650\n",
       "1   task2-fs4  Llama-2-13b-chat-hf     0.207             0.601744"
      ]
     },
     "execution_count": 23,
     "metadata": {},
     "output_type": "execute_result"
    }
   ],
   "source": [
    "temp_df_t2_llama = temp_df_t2[temp_df_t2[\"Model\"]==\"Llama-2-13b-chat-hf\"]\n",
    "temp_df_t2_llama = temp_df_t2_llama.sort_values('Task')\n",
    "temp_df_t2_llama"
   ]
  },
  {
   "cell_type": "code",
   "execution_count": 24,
   "metadata": {},
   "outputs": [
    {
     "data": {
      "text/plain": [
       "<matplotlib.legend.Legend at 0x14f7ae140>"
      ]
     },
     "execution_count": 24,
     "metadata": {},
     "output_type": "execute_result"
    },
    {
     "data": {
      "image/png": "[encoded data removed]",
      "text/plain": [
       "<Figure size 640x480 with 1 Axes>"
      ]
     },
     "metadata": {},
     "output_type": "display_data"
    }
   ],
   "source": [
    "_, ax = plt.subplots()\n",
    "temp_df_t2_llama[\"AccuracyNoGibberish\"].plot(kind='bar', ax=ax, color='#1B9783', ylim=(0, 1.0), label=\"CorrectedAccuracy\")\n",
    "temp_df_t2_llama[\"Accuracy\"].plot(kind='bar', ax=ax, color='#18206F', ylim=(0, 1.0), label=\"Accuracy\")\n",
    "plt.xticks([0, 1, 2], temp_df_t2_llama['Task'], rotation=\"vertical\")\n",
    "plt.legend(loc=\"upper left\")"
   ]
  },
  {
   "cell_type": "code",
   "execution_count": 25,
   "metadata": {},
   "outputs": [
    {
     "data": {
      "text/html": [
       "<div>\n",
       "<style scoped>\n",
       "    .dataframe tbody tr th:only-of-type {\n",
       "        vertical-align: middle;\n",
       "    }\n",
       "\n",
       "    .dataframe tbody tr th {\n",
       "        vertical-align: top;\n",
       "    }\n",
       "\n",
       "    .dataframe thead th {\n",
       "        text-align: right;\n",
       "    }\n",
       "</style>\n",
       "<table border=\"1\" class=\"dataframe\">\n",
       "  <thead>\n",
       "    <tr style=\"text-align: right;\">\n",
       "      <th></th>\n",
       "      <th>Task</th>\n",
       "      <th>Model</th>\n",
       "      <th>Accuracy</th>\n",
       "      <th>AccuracyNoGibberish</th>\n",
       "    </tr>\n",
       "  </thead>\n",
       "  <tbody>\n",
       "    <tr>\n",
       "      <th>35</th>\n",
       "      <td>task2-fs1</td>\n",
       "      <td>falcon-7b</td>\n",
       "      <td>0.162</td>\n",
       "      <td>0.451253</td>\n",
       "    </tr>\n",
       "    <tr>\n",
       "      <th>11</th>\n",
       "      <td>task2-fs2</td>\n",
       "      <td>falcon-7b</td>\n",
       "      <td>0.247</td>\n",
       "      <td>0.515658</td>\n",
       "    </tr>\n",
       "    <tr>\n",
       "      <th>20</th>\n",
       "      <td>task2-fs4</td>\n",
       "      <td>falcon-7b</td>\n",
       "      <td>0.142</td>\n",
       "      <td>0.554688</td>\n",
       "    </tr>\n",
       "  </tbody>\n",
       "</table>\n",
       "</div>"
      ],
      "text/plain": [
       "         Task      Model  Accuracy  AccuracyNoGibberish\n",
       "35  task2-fs1  falcon-7b     0.162             0.451253\n",
       "11  task2-fs2  falcon-7b     0.247             0.515658\n",
       "20  task2-fs4  falcon-7b     0.142             0.554688"
      ]
     },
     "execution_count": 25,
     "metadata": {},
     "output_type": "execute_result"
    }
   ],
   "source": [
    "temp_df_t2_falcon = temp_df_t2[temp_df_t2[\"Model\"]==\"falcon-7b\"]\n",
    "temp_df_t2_falcon = temp_df_t2_falcon.sort_values('Task')\n",
    "temp_df_t2_falcon"
   ]
  },
  {
   "cell_type": "code",
   "execution_count": 26,
   "metadata": {},
   "outputs": [
    {
     "data": {
      "text/plain": [
       "<matplotlib.legend.Legend at 0x14f823bb0>"
      ]
     },
     "execution_count": 26,
     "metadata": {},
     "output_type": "execute_result"
    },
    {
     "data": {
      "image/png": "[encoded data removed]",
      "text/plain": [
       "<Figure size 640x480 with 1 Axes>"
      ]
     },
     "metadata": {},
     "output_type": "display_data"
    }
   ],
   "source": [
    "_, ax = plt.subplots()\n",
    "temp_df_t2_falcon[\"AccuracyNoGibberish\"].plot(kind='bar', ax=ax, color='#1B9783', ylim=(0, 1.0), label=\"CorrectedAccuracy\")\n",
    "temp_df_t2_falcon[\"Accuracy\"].plot(kind='bar', ax=ax, color='#18206F', ylim=(0, 1.0), label=\"Accuracy\")\n",
    "plt.xticks([0, 1, 2], temp_df_t2_falcon['Task'], rotation=\"vertical\")\n",
    "plt.legend(loc=\"upper left\")"
   ]
  },
  {
   "cell_type": "code",
   "execution_count": 27,
   "metadata": {},
   "outputs": [
    {
     "data": {
      "text/html": [
       "<div>\n",
       "<style scoped>\n",
       "    .dataframe tbody tr th:only-of-type {\n",
       "        vertical-align: middle;\n",
       "    }\n",
       "\n",
       "    .dataframe tbody tr th {\n",
       "        vertical-align: top;\n",
       "    }\n",
       "\n",
       "    .dataframe thead th {\n",
       "        text-align: right;\n",
       "    }\n",
       "</style>\n",
       "<table border=\"1\" class=\"dataframe\">\n",
       "  <thead>\n",
       "    <tr style=\"text-align: right;\">\n",
       "      <th></th>\n",
       "      <th>Task</th>\n",
       "      <th>Model</th>\n",
       "      <th>Accuracy</th>\n",
       "      <th>AccuracyNoGibberish</th>\n",
       "    </tr>\n",
       "  </thead>\n",
       "  <tbody>\n",
       "    <tr>\n",
       "      <th>34</th>\n",
       "      <td>task2-fs1</td>\n",
       "      <td>flan-ul2</td>\n",
       "      <td>0.0</td>\n",
       "      <td>0.0</td>\n",
       "    </tr>\n",
       "    <tr>\n",
       "      <th>13</th>\n",
       "      <td>task2-fs2</td>\n",
       "      <td>flan-ul2</td>\n",
       "      <td>0.0</td>\n",
       "      <td>0.0</td>\n",
       "    </tr>\n",
       "    <tr>\n",
       "      <th>9</th>\n",
       "      <td>task2-fs4</td>\n",
       "      <td>flan-ul2</td>\n",
       "      <td>0.0</td>\n",
       "      <td>0.0</td>\n",
       "    </tr>\n",
       "  </tbody>\n",
       "</table>\n",
       "</div>"
      ],
      "text/plain": [
       "         Task     Model  Accuracy  AccuracyNoGibberish\n",
       "34  task2-fs1  flan-ul2       0.0                  0.0\n",
       "13  task2-fs2  flan-ul2       0.0                  0.0\n",
       "9   task2-fs4  flan-ul2       0.0                  0.0"
      ]
     },
     "execution_count": 27,
     "metadata": {},
     "output_type": "execute_result"
    }
   ],
   "source": [
    "temp_df_t2_ul2 = temp_df_t2[temp_df_t2[\"Model\"]==\"flan-ul2\"]\n",
    "temp_df_t2_ul2 = temp_df_t2_ul2.sort_values('Task')\n",
    "temp_df_t2_ul2"
   ]
  },
  {
   "cell_type": "code",
   "execution_count": 28,
   "metadata": {},
   "outputs": [
    {
     "data": {
      "text/plain": [
       "<matplotlib.legend.Legend at 0x14f8990f0>"
      ]
     },
     "execution_count": 28,
     "metadata": {},
     "output_type": "execute_result"
    },
    {
     "data": {
      "image/png": "[encoded data removed]",
      "text/plain": [
       "<Figure size 640x480 with 1 Axes>"
      ]
     },
     "metadata": {},
     "output_type": "display_data"
    }
   ],
   "source": [
    "_, ax = plt.subplots()\n",
    "temp_df_t2_ul2[\"AccuracyNoGibberish\"].plot(kind='bar', ax=ax, color='#1B9783', ylim=(0, 1.0), label=\"CorrectedAccuracy\")\n",
    "temp_df_t2_ul2[\"Accuracy\"].plot(kind='bar', ax=ax, color='#18206F', ylim=(0, 1.0), label=\"Accuracy\")\n",
    "plt.xticks([0, 1, 2], temp_df_t2_ul2['Task'], rotation=\"vertical\")\n",
    "plt.legend(loc=\"upper left\")"
   ]
  },
  {
   "cell_type": "code",
   "execution_count": 32,
   "metadata": {},
   "outputs": [
    {
     "data": {
      "text/html": [
       "<div>\n",
       "<style scoped>\n",
       "    .dataframe tbody tr th:only-of-type {\n",
       "        vertical-align: middle;\n",
       "    }\n",
       "\n",
       "    .dataframe tbody tr th {\n",
       "        vertical-align: top;\n",
       "    }\n",
       "\n",
       "    .dataframe thead th {\n",
       "        text-align: right;\n",
       "    }\n",
       "</style>\n",
       "<table border=\"1\" class=\"dataframe\">\n",
       "  <thead>\n",
       "    <tr style=\"text-align: right;\">\n",
       "      <th></th>\n",
       "      <th>Task</th>\n",
       "      <th>Model</th>\n",
       "      <th>Accuracy</th>\n",
       "      <th>AccuracyNoGibberish</th>\n",
       "    </tr>\n",
       "  </thead>\n",
       "  <tbody>\n",
       "    <tr>\n",
       "      <th>6</th>\n",
       "      <td>task2-fs1</td>\n",
       "      <td>orca-13b</td>\n",
       "      <td>0.112</td>\n",
       "      <td>0.227181</td>\n",
       "    </tr>\n",
       "    <tr>\n",
       "      <th>41</th>\n",
       "      <td>task2-fs2</td>\n",
       "      <td>orca-13b</td>\n",
       "      <td>0.071</td>\n",
       "      <td>0.257246</td>\n",
       "    </tr>\n",
       "    <tr>\n",
       "      <th>31</th>\n",
       "      <td>task2-fs4</td>\n",
       "      <td>orca-13b</td>\n",
       "      <td>0.416</td>\n",
       "      <td>0.604651</td>\n",
       "    </tr>\n",
       "  </tbody>\n",
       "</table>\n",
       "</div>"
      ],
      "text/plain": [
       "         Task     Model  Accuracy  AccuracyNoGibberish\n",
       "6   task2-fs1  orca-13b     0.112             0.227181\n",
       "41  task2-fs2  orca-13b     0.071             0.257246\n",
       "31  task2-fs4  orca-13b     0.416             0.604651"
      ]
     },
     "execution_count": 32,
     "metadata": {},
     "output_type": "execute_result"
    }
   ],
   "source": [
    "temp_df_t2_orca = temp_df_t2[temp_df_t2[\"Model\"]==\"orca-13b\"]\n",
    "temp_df_t2_orca = temp_df_t2_orca.sort_values('Task')\n",
    "temp_df_t2_orca"
   ]
  },
  {
   "cell_type": "code",
   "execution_count": 33,
   "metadata": {},
   "outputs": [
    {
     "data": {
      "text/plain": [
       "<matplotlib.legend.Legend at 0x14f9a0340>"
      ]
     },
     "execution_count": 33,
     "metadata": {},
     "output_type": "execute_result"
    },
    {
     "data": {
      "image/png": "[encoded data removed]",
      "text/plain": [
       "<Figure size 640x480 with 1 Axes>"
      ]
     },
     "metadata": {},
     "output_type": "display_data"
    }
   ],
   "source": [
    "_, ax = plt.subplots()\n",
    "temp_df_t2_orca[\"AccuracyNoGibberish\"].plot(kind='bar', ax=ax, color='#1B9783', ylim=(0, 1.0), label=\"CorrectedAccuracy\")\n",
    "temp_df_t2_orca[\"Accuracy\"].plot(kind='bar', ax=ax, color='#18206F', ylim=(0, 1.0), label=\"Accuracy\")\n",
    "plt.xticks([0, 1, 2], temp_df_t2_orca['Task'], rotation=\"vertical\")\n",
    "plt.legend(loc=\"upper left\")"
   ]
  },
  {
   "cell_type": "code",
   "execution_count": 34,
   "metadata": {},
   "outputs": [
    {
     "data": {
      "text/html": [
       "<div>\n",
       "<style scoped>\n",
       "    .dataframe tbody tr th:only-of-type {\n",
       "        vertical-align: middle;\n",
       "    }\n",
       "\n",
       "    .dataframe tbody tr th {\n",
       "        vertical-align: top;\n",
       "    }\n",
       "\n",
       "    .dataframe thead th {\n",
       "        text-align: right;\n",
       "    }\n",
       "</style>\n",
       "<table border=\"1\" class=\"dataframe\">\n",
       "  <thead>\n",
       "    <tr style=\"text-align: right;\">\n",
       "      <th></th>\n",
       "      <th>Task</th>\n",
       "      <th>Model</th>\n",
       "      <th>Accuracy</th>\n",
       "      <th>AccuracyNoGibberish</th>\n",
       "    </tr>\n",
       "  </thead>\n",
       "  <tbody>\n",
       "    <tr>\n",
       "      <th>17</th>\n",
       "      <td>task2-fs1</td>\n",
       "      <td>Wizard-15b</td>\n",
       "      <td>0.391</td>\n",
       "      <td>0.658249</td>\n",
       "    </tr>\n",
       "    <tr>\n",
       "      <th>27</th>\n",
       "      <td>task2-fs2</td>\n",
       "      <td>Wizard-15b</td>\n",
       "      <td>0.388</td>\n",
       "      <td>0.656514</td>\n",
       "    </tr>\n",
       "    <tr>\n",
       "      <th>42</th>\n",
       "      <td>task2-fs4</td>\n",
       "      <td>Wizard-15b</td>\n",
       "      <td>0.418</td>\n",
       "      <td>0.654147</td>\n",
       "    </tr>\n",
       "  </tbody>\n",
       "</table>\n",
       "</div>"
      ],
      "text/plain": [
       "         Task       Model  Accuracy  AccuracyNoGibberish\n",
       "17  task2-fs1  Wizard-15b     0.391             0.658249\n",
       "27  task2-fs2  Wizard-15b     0.388             0.656514\n",
       "42  task2-fs4  Wizard-15b     0.418             0.654147"
      ]
     },
     "execution_count": 34,
     "metadata": {},
     "output_type": "execute_result"
    }
   ],
   "source": [
    "temp_df_t2_wizard = temp_df_t2[temp_df_t2[\"Model\"]==\"Wizard-15b\"]\n",
    "temp_df_t2_wizard = temp_df_t2_wizard.sort_values('Task')\n",
    "temp_df_t2_wizard"
   ]
  },
  {
   "cell_type": "code",
   "execution_count": 35,
   "metadata": {},
   "outputs": [
    {
     "data": {
      "text/plain": [
       "<matplotlib.legend.Legend at 0x14fa39cf0>"
      ]
     },
     "execution_count": 35,
     "metadata": {},
     "output_type": "execute_result"
    },
    {
     "data": {
      "image/png": "[encoded data removed]",
      "text/plain": [
       "<Figure size 640x480 with 1 Axes>"
      ]
     },
     "metadata": {},
     "output_type": "display_data"
    }
   ],
   "source": [
    "_, ax = plt.subplots()\n",
    "temp_df_t2_wizard[\"AccuracyNoGibberish\"].plot(kind='bar', ax=ax, color='#1B9783', ylim=(0, 1.0), label=\"CorrectedAccuracy\")\n",
    "temp_df_t2_wizard[\"Accuracy\"].plot(kind='bar', ax=ax, color='#18206F', ylim=(0, 1.0), label=\"Accuracy\")\n",
    "plt.xticks([0, 1, 2], temp_df_t2_wizard['Task'], rotation=\"vertical\")\n",
    "plt.legend(loc=\"upper left\")"
   ]
  },
  {
   "cell_type": "markdown",
   "metadata": {},
   "source": [
    "# Task 3"
   ]
  },
  {
   "cell_type": "code",
   "execution_count": 36,
   "metadata": {},
   "outputs": [],
   "source": [
    "temp_df_t3 = temp_df[temp_df[\"Task\"].isin([\"task3-fs1\", \"task3-fs2\", \"task3-fs4\"])]"
   ]
  },
  {
   "cell_type": "code",
   "execution_count": 37,
   "metadata": {},
   "outputs": [
    {
     "data": {
      "text/html": [
       "<div>\n",
       "<style scoped>\n",
       "    .dataframe tbody tr th:only-of-type {\n",
       "        vertical-align: middle;\n",
       "    }\n",
       "\n",
       "    .dataframe tbody tr th {\n",
       "        vertical-align: top;\n",
       "    }\n",
       "\n",
       "    .dataframe thead th {\n",
       "        text-align: right;\n",
       "    }\n",
       "</style>\n",
       "<table border=\"1\" class=\"dataframe\">\n",
       "  <thead>\n",
       "    <tr style=\"text-align: right;\">\n",
       "      <th></th>\n",
       "      <th>Task</th>\n",
       "      <th>Model</th>\n",
       "      <th>Accuracy</th>\n",
       "      <th>AccuracyNoGibberish</th>\n",
       "    </tr>\n",
       "  </thead>\n",
       "  <tbody>\n",
       "    <tr>\n",
       "      <th>24</th>\n",
       "      <td>task3-fs1</td>\n",
       "      <td>Llama-2-13b-chat-hf</td>\n",
       "      <td>0.510</td>\n",
       "      <td>0.510</td>\n",
       "    </tr>\n",
       "    <tr>\n",
       "      <th>16</th>\n",
       "      <td>task3-fs2</td>\n",
       "      <td>Llama-2-13b-chat-hf</td>\n",
       "      <td>0.504</td>\n",
       "      <td>0.504</td>\n",
       "    </tr>\n",
       "    <tr>\n",
       "      <th>0</th>\n",
       "      <td>task3-fs4</td>\n",
       "      <td>Llama-2-13b-chat-hf</td>\n",
       "      <td>0.503</td>\n",
       "      <td>0.503</td>\n",
       "    </tr>\n",
       "  </tbody>\n",
       "</table>\n",
       "</div>"
      ],
      "text/plain": [
       "         Task                Model  Accuracy  AccuracyNoGibberish\n",
       "24  task3-fs1  Llama-2-13b-chat-hf     0.510                0.510\n",
       "16  task3-fs2  Llama-2-13b-chat-hf     0.504                0.504\n",
       "0   task3-fs4  Llama-2-13b-chat-hf     0.503                0.503"
      ]
     },
     "execution_count": 37,
     "metadata": {},
     "output_type": "execute_result"
    }
   ],
   "source": [
    "temp_df_t3_llama = temp_df_t3[temp_df_t3[\"Model\"]==\"Llama-2-13b-chat-hf\"]\n",
    "temp_df_t3_llama = temp_df_t3_llama.sort_values('Task')\n",
    "temp_df_t3_llama"
   ]
  },
  {
   "cell_type": "code",
   "execution_count": 38,
   "metadata": {},
   "outputs": [
    {
     "data": {
      "text/plain": [
       "<matplotlib.legend.Legend at 0x14faab790>"
      ]
     },
     "execution_count": 38,
     "metadata": {},
     "output_type": "execute_result"
    },
    {
     "data": {
      "image/png": "[encoded data removed]",
      "text/plain": [
       "<Figure size 640x480 with 1 Axes>"
      ]
     },
     "metadata": {},
     "output_type": "display_data"
    }
   ],
   "source": [
    "_, ax = plt.subplots()\n",
    "temp_df_t3_llama[\"AccuracyNoGibberish\"].plot(kind='bar', ax=ax, color='#1B9783', ylim=(0, 1.0), label=\"CorrectedAccuracy\")\n",
    "temp_df_t3_llama[\"Accuracy\"].plot(kind='bar', ax=ax, color='#18206F', ylim=(0, 1.0), label=\"Accuracy\")\n",
    "plt.xticks([0, 1, 2], temp_df_t3_llama['Task'], rotation=\"vertical\")\n",
    "plt.legend(loc=\"upper left\")"
   ]
  },
  {
   "cell_type": "code",
   "execution_count": 39,
   "metadata": {},
   "outputs": [
    {
     "data": {
      "text/html": [
       "<div>\n",
       "<style scoped>\n",
       "    .dataframe tbody tr th:only-of-type {\n",
       "        vertical-align: middle;\n",
       "    }\n",
       "\n",
       "    .dataframe tbody tr th {\n",
       "        vertical-align: top;\n",
       "    }\n",
       "\n",
       "    .dataframe thead th {\n",
       "        text-align: right;\n",
       "    }\n",
       "</style>\n",
       "<table border=\"1\" class=\"dataframe\">\n",
       "  <thead>\n",
       "    <tr style=\"text-align: right;\">\n",
       "      <th></th>\n",
       "      <th>Task</th>\n",
       "      <th>Model</th>\n",
       "      <th>Accuracy</th>\n",
       "      <th>AccuracyNoGibberish</th>\n",
       "    </tr>\n",
       "  </thead>\n",
       "  <tbody>\n",
       "    <tr>\n",
       "      <th>36</th>\n",
       "      <td>task3-fs1</td>\n",
       "      <td>falcon-7b</td>\n",
       "      <td>0.493</td>\n",
       "      <td>0.493</td>\n",
       "    </tr>\n",
       "    <tr>\n",
       "      <th>10</th>\n",
       "      <td>task3-fs2</td>\n",
       "      <td>falcon-7b</td>\n",
       "      <td>0.493</td>\n",
       "      <td>0.493</td>\n",
       "    </tr>\n",
       "    <tr>\n",
       "      <th>21</th>\n",
       "      <td>task3-fs4</td>\n",
       "      <td>falcon-7b</td>\n",
       "      <td>0.493</td>\n",
       "      <td>0.493</td>\n",
       "    </tr>\n",
       "  </tbody>\n",
       "</table>\n",
       "</div>"
      ],
      "text/plain": [
       "         Task      Model  Accuracy  AccuracyNoGibberish\n",
       "36  task3-fs1  falcon-7b     0.493                0.493\n",
       "10  task3-fs2  falcon-7b     0.493                0.493\n",
       "21  task3-fs4  falcon-7b     0.493                0.493"
      ]
     },
     "execution_count": 39,
     "metadata": {},
     "output_type": "execute_result"
    }
   ],
   "source": [
    "temp_df_t3_falcon = temp_df_t3[temp_df_t3[\"Model\"]==\"falcon-7b\"]\n",
    "temp_df_t3_falcon = temp_df_t3_falcon.sort_values('Task')\n",
    "temp_df_t3_falcon"
   ]
  },
  {
   "cell_type": "code",
   "execution_count": 40,
   "metadata": {},
   "outputs": [
    {
     "data": {
      "text/plain": [
       "<matplotlib.legend.Legend at 0x14f9d0310>"
      ]
     },
     "execution_count": 40,
     "metadata": {},
     "output_type": "execute_result"
    },
    {
     "data": {
      "image/png": "[encoded data removed]",
      "text/plain": [
       "<Figure size 640x480 with 1 Axes>"
      ]
     },
     "metadata": {},
     "output_type": "display_data"
    }
   ],
   "source": [
    "_, ax = plt.subplots()\n",
    "temp_df_t3_falcon[\"AccuracyNoGibberish\"].plot(kind='bar', ax=ax, color='#1B9783', ylim=(0, 1.0), label=\"CorrectedAccuracy\")\n",
    "temp_df_t3_falcon[\"Accuracy\"].plot(kind='bar', ax=ax, color='#18206F', ylim=(0, 1.0), label=\"Accuracy\")\n",
    "plt.xticks([0, 1, 2], temp_df_t3_falcon['Task'], rotation=\"vertical\")\n",
    "plt.legend(loc=\"upper left\")"
   ]
  },
  {
   "cell_type": "code",
   "execution_count": 41,
   "metadata": {},
   "outputs": [
    {
     "data": {
      "text/html": [
       "<div>\n",
       "<style scoped>\n",
       "    .dataframe tbody tr th:only-of-type {\n",
       "        vertical-align: middle;\n",
       "    }\n",
       "\n",
       "    .dataframe tbody tr th {\n",
       "        vertical-align: top;\n",
       "    }\n",
       "\n",
       "    .dataframe thead th {\n",
       "        text-align: right;\n",
       "    }\n",
       "</style>\n",
       "<table border=\"1\" class=\"dataframe\">\n",
       "  <thead>\n",
       "    <tr style=\"text-align: right;\">\n",
       "      <th></th>\n",
       "      <th>Task</th>\n",
       "      <th>Model</th>\n",
       "      <th>Accuracy</th>\n",
       "      <th>AccuracyNoGibberish</th>\n",
       "    </tr>\n",
       "  </thead>\n",
       "  <tbody>\n",
       "    <tr>\n",
       "      <th>33</th>\n",
       "      <td>task3-fs1</td>\n",
       "      <td>flan-ul2</td>\n",
       "      <td>0.488</td>\n",
       "      <td>0.488</td>\n",
       "    </tr>\n",
       "    <tr>\n",
       "      <th>14</th>\n",
       "      <td>task3-fs2</td>\n",
       "      <td>flan-ul2</td>\n",
       "      <td>0.481</td>\n",
       "      <td>0.481</td>\n",
       "    </tr>\n",
       "    <tr>\n",
       "      <th>8</th>\n",
       "      <td>task3-fs4</td>\n",
       "      <td>flan-ul2</td>\n",
       "      <td>0.478</td>\n",
       "      <td>0.478</td>\n",
       "    </tr>\n",
       "  </tbody>\n",
       "</table>\n",
       "</div>"
      ],
      "text/plain": [
       "         Task     Model  Accuracy  AccuracyNoGibberish\n",
       "33  task3-fs1  flan-ul2     0.488                0.488\n",
       "14  task3-fs2  flan-ul2     0.481                0.481\n",
       "8   task3-fs4  flan-ul2     0.478                0.478"
      ]
     },
     "execution_count": 41,
     "metadata": {},
     "output_type": "execute_result"
    }
   ],
   "source": [
    "temp_df_t3_ul2 = temp_df_t3[temp_df_t3[\"Model\"]==\"flan-ul2\"]\n",
    "temp_df_t3_ul2 = temp_df_t3_ul2.sort_values('Task')\n",
    "temp_df_t3_ul2"
   ]
  },
  {
   "cell_type": "code",
   "execution_count": 42,
   "metadata": {},
   "outputs": [
    {
     "data": {
      "text/plain": [
       "<matplotlib.legend.Legend at 0x14fba0f40>"
      ]
     },
     "execution_count": 42,
     "metadata": {},
     "output_type": "execute_result"
    },
    {
     "data": {
      "image/png": "[encoded data removed]",
      "text/plain": [
       "<Figure size 640x480 with 1 Axes>"
      ]
     },
     "metadata": {},
     "output_type": "display_data"
    }
   ],
   "source": [
    "_, ax = plt.subplots()\n",
    "temp_df_t3_ul2[\"AccuracyNoGibberish\"].plot(kind='bar', ax=ax, color='#1B9783', ylim=(0, 1.0), label=\"CorrectedAccuracy\")\n",
    "temp_df_t3_ul2[\"Accuracy\"].plot(kind='bar', ax=ax, color='#18206F', ylim=(0, 1.0), label=\"Accuracy\")\n",
    "plt.xticks([0, 1, 2], temp_df_t3_ul2['Task'], rotation=\"vertical\")\n",
    "plt.legend(loc=\"upper left\")"
   ]
  },
  {
   "cell_type": "code",
   "execution_count": 43,
   "metadata": {},
   "outputs": [
    {
     "data": {
      "text/html": [
       "<div>\n",
       "<style scoped>\n",
       "    .dataframe tbody tr th:only-of-type {\n",
       "        vertical-align: middle;\n",
       "    }\n",
       "\n",
       "    .dataframe tbody tr th {\n",
       "        vertical-align: top;\n",
       "    }\n",
       "\n",
       "    .dataframe thead th {\n",
       "        text-align: right;\n",
       "    }\n",
       "</style>\n",
       "<table border=\"1\" class=\"dataframe\">\n",
       "  <thead>\n",
       "    <tr style=\"text-align: right;\">\n",
       "      <th></th>\n",
       "      <th>Task</th>\n",
       "      <th>Model</th>\n",
       "      <th>Accuracy</th>\n",
       "      <th>AccuracyNoGibberish</th>\n",
       "    </tr>\n",
       "  </thead>\n",
       "  <tbody>\n",
       "    <tr>\n",
       "      <th>7</th>\n",
       "      <td>task3-fs1</td>\n",
       "      <td>orca-13b</td>\n",
       "      <td>0.492</td>\n",
       "      <td>0.492</td>\n",
       "    </tr>\n",
       "    <tr>\n",
       "      <th>40</th>\n",
       "      <td>task3-fs2</td>\n",
       "      <td>orca-13b</td>\n",
       "      <td>0.504</td>\n",
       "      <td>0.504</td>\n",
       "    </tr>\n",
       "    <tr>\n",
       "      <th>32</th>\n",
       "      <td>task3-fs4</td>\n",
       "      <td>orca-13b</td>\n",
       "      <td>0.509</td>\n",
       "      <td>0.509</td>\n",
       "    </tr>\n",
       "  </tbody>\n",
       "</table>\n",
       "</div>"
      ],
      "text/plain": [
       "         Task     Model  Accuracy  AccuracyNoGibberish\n",
       "7   task3-fs1  orca-13b     0.492                0.492\n",
       "40  task3-fs2  orca-13b     0.504                0.504\n",
       "32  task3-fs4  orca-13b     0.509                0.509"
      ]
     },
     "execution_count": 43,
     "metadata": {},
     "output_type": "execute_result"
    }
   ],
   "source": [
    "temp_df_t3_orca = temp_df_t3[temp_df_t3[\"Model\"]==\"orca-13b\"]\n",
    "temp_df_t3_orca = temp_df_t3_orca.sort_values('Task')\n",
    "temp_df_t3_orca"
   ]
  },
  {
   "cell_type": "code",
   "execution_count": 44,
   "metadata": {},
   "outputs": [
    {
     "data": {
      "text/plain": [
       "<matplotlib.legend.Legend at 0x14f987b80>"
      ]
     },
     "execution_count": 44,
     "metadata": {},
     "output_type": "execute_result"
    },
    {
     "data": {
      "image/png": "[encoded data removed]",
      "text/plain": [
       "<Figure size 640x480 with 1 Axes>"
      ]
     },
     "metadata": {},
     "output_type": "display_data"
    }
   ],
   "source": [
    "_, ax = plt.subplots()\n",
    "temp_df_t3_orca[\"AccuracyNoGibberish\"].plot(kind='bar', ax=ax, color='#1B9783', ylim=(0, 1.0), label=\"CorrectedAccuracy\")\n",
    "temp_df_t3_orca[\"Accuracy\"].plot(kind='bar', ax=ax, color='#18206F', ylim=(0, 1.0), label=\"Accuracy\")\n",
    "plt.xticks([0, 1, 2], temp_df_t3_orca['Task'], rotation=\"vertical\")\n",
    "plt.legend(loc=\"upper left\")"
   ]
  },
  {
   "cell_type": "code",
   "execution_count": 45,
   "metadata": {},
   "outputs": [
    {
     "data": {
      "text/html": [
       "<div>\n",
       "<style scoped>\n",
       "    .dataframe tbody tr th:only-of-type {\n",
       "        vertical-align: middle;\n",
       "    }\n",
       "\n",
       "    .dataframe tbody tr th {\n",
       "        vertical-align: top;\n",
       "    }\n",
       "\n",
       "    .dataframe thead th {\n",
       "        text-align: right;\n",
       "    }\n",
       "</style>\n",
       "<table border=\"1\" class=\"dataframe\">\n",
       "  <thead>\n",
       "    <tr style=\"text-align: right;\">\n",
       "      <th></th>\n",
       "      <th>Task</th>\n",
       "      <th>Model</th>\n",
       "      <th>Accuracy</th>\n",
       "      <th>AccuracyNoGibberish</th>\n",
       "    </tr>\n",
       "  </thead>\n",
       "  <tbody>\n",
       "    <tr>\n",
       "      <th>33</th>\n",
       "      <td>task3-fs1</td>\n",
       "      <td>flan-ul2</td>\n",
       "      <td>0.488</td>\n",
       "      <td>0.488</td>\n",
       "    </tr>\n",
       "    <tr>\n",
       "      <th>14</th>\n",
       "      <td>task3-fs2</td>\n",
       "      <td>flan-ul2</td>\n",
       "      <td>0.481</td>\n",
       "      <td>0.481</td>\n",
       "    </tr>\n",
       "    <tr>\n",
       "      <th>8</th>\n",
       "      <td>task3-fs4</td>\n",
       "      <td>flan-ul2</td>\n",
       "      <td>0.478</td>\n",
       "      <td>0.478</td>\n",
       "    </tr>\n",
       "  </tbody>\n",
       "</table>\n",
       "</div>"
      ],
      "text/plain": [
       "         Task     Model  Accuracy  AccuracyNoGibberish\n",
       "33  task3-fs1  flan-ul2     0.488                0.488\n",
       "14  task3-fs2  flan-ul2     0.481                0.481\n",
       "8   task3-fs4  flan-ul2     0.478                0.478"
      ]
     },
     "execution_count": 45,
     "metadata": {},
     "output_type": "execute_result"
    }
   ],
   "source": [
    "temp_df_t3_wizard = temp_df_t3[temp_df_t3[\"Model\"]==\"flan-ul2\"]\n",
    "temp_df_t3_wizard = temp_df_t3_wizard.sort_values('Task')\n",
    "temp_df_t3_wizard"
   ]
  },
  {
   "cell_type": "code",
   "execution_count": 46,
   "metadata": {},
   "outputs": [
    {
     "data": {
      "text/plain": [
       "<matplotlib.legend.Legend at 0x14fc83610>"
      ]
     },
     "execution_count": 46,
     "metadata": {},
     "output_type": "execute_result"
    },
    {
     "data": {
      "image/png": "[encoded data removed]",
      "text/plain": [
       "<Figure size 640x480 with 1 Axes>"
      ]
     },
     "metadata": {},
     "output_type": "display_data"
    }
   ],
   "source": [
    "_, ax = plt.subplots()\n",
    "temp_df_t3_wizard[\"AccuracyNoGibberish\"].plot(kind='bar', ax=ax, color='#1B9783', ylim=(0, 1.0), label=\"CorrectedAccuracy\")\n",
    "temp_df_t3_wizard[\"Accuracy\"].plot(kind='bar', ax=ax, color='#18206F', ylim=(0, 1.0), label=\"Accuracy\")\n",
    "plt.xticks([0, 1, 2], temp_df_t3_wizard['Task'], rotation=\"vertical\")\n",
    "plt.legend(loc=\"upper left\")"
   ]
  },
  {
   "cell_type": "code",
   "execution_count": null,
   "metadata": {},
   "outputs": [],
   "source": []
  },
  {
   "cell_type": "code",
   "execution_count": null,
   "metadata": {},
   "outputs": [],
   "source": []
  }
 ],
 "metadata": {
  "colab": {
   "provenance": []
  },
  "kernelspec": {
   "display_name": "Python 3 (ipykernel)",
   "language": "python",
   "name": "python3"
  },
  "language_info": {
   "codemirror_mode": {
    "name": "ipython",
    "version": 3
   },
   "file_extension": ".py",
   "mimetype": "text/x-python",
   "name": "python",
   "nbconvert_exporter": "python",
   "pygments_lexer": "ipython3",
   "version": "3.10.12"
  },
  "vscode": {
   "interpreter": {
    "hash": "b0fa6594d8f4cbf19f97940f81e996739fb7646882a419484c72d19e05852a7e"
   }
  }
 },
 "nbformat": 4,
 "nbformat_minor": 4
}
