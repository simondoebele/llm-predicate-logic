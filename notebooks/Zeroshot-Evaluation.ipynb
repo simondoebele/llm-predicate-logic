{
 "cells": [
  {
   "cell_type": "markdown",
   "metadata": {},
   "source": [
    "## Zero Shot Evaluation"
   ]
  },
  {
   "cell_type": "code",
   "execution_count": 4,
   "metadata": {},
   "outputs": [],
   "source": [
    "import sys\n",
    "import os\n",
    "sys.path.append('..')\n",
    "\n",
    "from Parser import parse_LLM_output\n",
    "from evaluate_tasks import *\n",
    "import json\n",
    "from nltk.sem.logic import *\n",
    "import nltk\n",
    "from nltk.sem.logic import LogicParser, Expression\n",
    "from nltk.sem.evaluate import Valuation, Model\n",
    "import pandas as pd"
   ]
  },
  {
   "cell_type": "markdown",
   "metadata": {},
   "source": [
    "## Evaluation (via Parsers)"
   ]
  },
  {
   "cell_type": "code",
   "execution_count": 5,
   "metadata": {},
   "outputs": [
    {
     "name": "stdout",
     "output_type": "stream",
     "text": [
      "Llama-2-13b-chat-hf_task2.json\n",
      "0.0\n",
      "orca-13b_task3.json\n",
      "0.474\n",
      "falcon-7b_task3.json\n",
      "0.027\n",
      "Wizard-15b_task3.json\n",
      "0.49\n",
      "Wizard-15b_task2.json\n",
      "0.0\n",
      "falcon-7b_task2.json\n",
      "0.0\n",
      "orca-13b_task2.json\n",
      "0.0\n",
      "Llama-2-13b-chat-hf_task3.json\n",
      "0.401\n",
      "flan-ul2_task3.json\n",
      "0.513\n",
      "flan-ul2_task2.json\n",
      "0.0\n",
      "flan-ul2_task1.json\n",
      "0.0\n",
      "Wizard-15b_task1.json\n",
      "0.0\n",
      "falcon-7b_task1.json\n",
      "0.0\n",
      "orca-13b_task1.json\n",
      "0.0\n",
      "Llama-2-13b-chat-hf_task1.json\n",
      "0.0\n"
     ]
    }
   ],
   "source": [
    "files = [f for f in os.listdir('../results/zeroshot-eval') if f.endswith('.json')]\n",
    "results =[]\n",
    "for f in files:\n",
    "    print(f)\n",
    "    names = f.split('_')\n",
    "    model_name = names[0]\n",
    "    task_name = names[1]\n",
    "    task_name = os.path.splitext(task_name)[0]\n",
    "\n",
    "    dataset = pd.read_json('../results/zeroshot-eval/' + f)\n",
    "\n",
    "    if task_name == \"task1\":\n",
    "        correctIncorrect, gibberish = eval_task1(dataset)\n",
    "    elif task_name == \"task2\":\n",
    "        correctIncorrect, gibberish = eval_task2(dataset)\n",
    "    elif task_name == \"task3\":\n",
    "        correctIncorrect, gibberish = eval_task3(dataset)\n",
    "\n",
    "    # add two new columns to df and change original file\n",
    "    dataset['Correct'] = correctIncorrect\n",
    "    dataset['Gibberish'] = gibberish\n",
    "    dataset.to_json('../results/zeroshot-eval/' + f)\n",
    "\n",
    "    # calculate overall acc + acc without gibberish\n",
    "    accuracy = sum(correctIncorrect) / len(correctIncorrect)\n",
    "    print(accuracy)\n",
    "    if accuracy > 0.0:\n",
    "        accuracyNoGibberish = sum(correctIncorrect) / (len(correctIncorrect) - sum(gibberish))\n",
    "    else:\n",
    "        accuracyNoGibberish = 0.0\n",
    "    \n",
    "    results.append({'Task': task_name, 'Model': model_name, 'Accuracy': accuracy, 'AccuracyNoGibberish': accuracyNoGibberish})\n",
    "\n"
   ]
  },
  {
   "cell_type": "code",
   "execution_count": 6,
   "metadata": {},
   "outputs": [
    {
     "data": {
      "text/plain": [
       "[{'Task': 'task2',\n",
       "  'Model': 'Llama-2-13b-chat-hf',\n",
       "  'Accuracy': 0.0,\n",
       "  'AccuracyNoGibberish': 0.0},\n",
       " {'Task': 'task3',\n",
       "  'Model': 'orca-13b',\n",
       "  'Accuracy': 0.474,\n",
       "  'AccuracyNoGibberish': 0.474},\n",
       " {'Task': 'task3',\n",
       "  'Model': 'falcon-7b',\n",
       "  'Accuracy': 0.027,\n",
       "  'AccuracyNoGibberish': 0.02710843373493976},\n",
       " {'Task': 'task3',\n",
       "  'Model': 'Wizard-15b',\n",
       "  'Accuracy': 0.49,\n",
       "  'AccuracyNoGibberish': 0.49},\n",
       " {'Task': 'task2',\n",
       "  'Model': 'Wizard-15b',\n",
       "  'Accuracy': 0.0,\n",
       "  'AccuracyNoGibberish': 0.0},\n",
       " {'Task': 'task2',\n",
       "  'Model': 'falcon-7b',\n",
       "  'Accuracy': 0.0,\n",
       "  'AccuracyNoGibberish': 0.0},\n",
       " {'Task': 'task2',\n",
       "  'Model': 'orca-13b',\n",
       "  'Accuracy': 0.0,\n",
       "  'AccuracyNoGibberish': 0.0},\n",
       " {'Task': 'task3',\n",
       "  'Model': 'Llama-2-13b-chat-hf',\n",
       "  'Accuracy': 0.401,\n",
       "  'AccuracyNoGibberish': 0.46845794392523366},\n",
       " {'Task': 'task3',\n",
       "  'Model': 'flan-ul2',\n",
       "  'Accuracy': 0.513,\n",
       "  'AccuracyNoGibberish': 0.513},\n",
       " {'Task': 'task2',\n",
       "  'Model': 'flan-ul2',\n",
       "  'Accuracy': 0.0,\n",
       "  'AccuracyNoGibberish': 0.0},\n",
       " {'Task': 'task1',\n",
       "  'Model': 'flan-ul2',\n",
       "  'Accuracy': 0.0,\n",
       "  'AccuracyNoGibberish': 0.0},\n",
       " {'Task': 'task1',\n",
       "  'Model': 'Wizard-15b',\n",
       "  'Accuracy': 0.0,\n",
       "  'AccuracyNoGibberish': 0.0},\n",
       " {'Task': 'task1',\n",
       "  'Model': 'falcon-7b',\n",
       "  'Accuracy': 0.0,\n",
       "  'AccuracyNoGibberish': 0.0},\n",
       " {'Task': 'task1',\n",
       "  'Model': 'orca-13b',\n",
       "  'Accuracy': 0.0,\n",
       "  'AccuracyNoGibberish': 0.0},\n",
       " {'Task': 'task1',\n",
       "  'Model': 'Llama-2-13b-chat-hf',\n",
       "  'Accuracy': 0.0,\n",
       "  'AccuracyNoGibberish': 0.0}]"
      ]
     },
     "execution_count": 6,
     "metadata": {},
     "output_type": "execute_result"
    }
   ],
   "source": [
    "results"
   ]
  },
  {
   "cell_type": "markdown",
   "metadata": {},
   "source": [
    "## Table"
   ]
  },
  {
   "cell_type": "markdown",
   "metadata": {},
   "source": [
    "#### Table / Summary:"
   ]
  },
  {
   "cell_type": "code",
   "execution_count": 7,
   "metadata": {},
   "outputs": [
    {
     "data": {
      "text/html": [
       "<div>\n",
       "<style scoped>\n",
       "    .dataframe tbody tr th:only-of-type {\n",
       "        vertical-align: middle;\n",
       "    }\n",
       "\n",
       "    .dataframe tbody tr th {\n",
       "        vertical-align: top;\n",
       "    }\n",
       "\n",
       "    .dataframe thead tr th {\n",
       "        text-align: left;\n",
       "    }\n",
       "\n",
       "    .dataframe thead tr:last-of-type th {\n",
       "        text-align: right;\n",
       "    }\n",
       "</style>\n",
       "<table border=\"1\" class=\"dataframe\">\n",
       "  <thead>\n",
       "    <tr>\n",
       "      <th></th>\n",
       "      <th colspan=\"3\" halign=\"left\">Accuracy</th>\n",
       "      <th colspan=\"3\" halign=\"left\">AccuracyNoGibberish</th>\n",
       "    </tr>\n",
       "    <tr>\n",
       "      <th>Task</th>\n",
       "      <th>task1</th>\n",
       "      <th>task2</th>\n",
       "      <th>task3</th>\n",
       "      <th>task1</th>\n",
       "      <th>task2</th>\n",
       "      <th>task3</th>\n",
       "    </tr>\n",
       "    <tr>\n",
       "      <th>Model</th>\n",
       "      <th></th>\n",
       "      <th></th>\n",
       "      <th></th>\n",
       "      <th></th>\n",
       "      <th></th>\n",
       "      <th></th>\n",
       "    </tr>\n",
       "  </thead>\n",
       "  <tbody>\n",
       "    <tr>\n",
       "      <th>Llama-2-13b-chat-hf</th>\n",
       "      <td>0.0</td>\n",
       "      <td>0.0</td>\n",
       "      <td>0.401</td>\n",
       "      <td>0.0</td>\n",
       "      <td>0.0</td>\n",
       "      <td>0.468458</td>\n",
       "    </tr>\n",
       "    <tr>\n",
       "      <th>Wizard-15b</th>\n",
       "      <td>0.0</td>\n",
       "      <td>0.0</td>\n",
       "      <td>0.490</td>\n",
       "      <td>0.0</td>\n",
       "      <td>0.0</td>\n",
       "      <td>0.490000</td>\n",
       "    </tr>\n",
       "    <tr>\n",
       "      <th>falcon-7b</th>\n",
       "      <td>0.0</td>\n",
       "      <td>0.0</td>\n",
       "      <td>0.027</td>\n",
       "      <td>0.0</td>\n",
       "      <td>0.0</td>\n",
       "      <td>0.027108</td>\n",
       "    </tr>\n",
       "    <tr>\n",
       "      <th>flan-ul2</th>\n",
       "      <td>0.0</td>\n",
       "      <td>0.0</td>\n",
       "      <td>0.513</td>\n",
       "      <td>0.0</td>\n",
       "      <td>0.0</td>\n",
       "      <td>0.513000</td>\n",
       "    </tr>\n",
       "    <tr>\n",
       "      <th>orca-13b</th>\n",
       "      <td>0.0</td>\n",
       "      <td>0.0</td>\n",
       "      <td>0.474</td>\n",
       "      <td>0.0</td>\n",
       "      <td>0.0</td>\n",
       "      <td>0.474000</td>\n",
       "    </tr>\n",
       "  </tbody>\n",
       "</table>\n",
       "</div>"
      ],
      "text/plain": [
       "                    Accuracy              AccuracyNoGibberish                \n",
       "Task                   task1 task2  task3               task1 task2     task3\n",
       "Model                                                                        \n",
       "Llama-2-13b-chat-hf      0.0   0.0  0.401                 0.0   0.0  0.468458\n",
       "Wizard-15b               0.0   0.0  0.490                 0.0   0.0  0.490000\n",
       "falcon-7b                0.0   0.0  0.027                 0.0   0.0  0.027108\n",
       "flan-ul2                 0.0   0.0  0.513                 0.0   0.0  0.513000\n",
       "orca-13b                 0.0   0.0  0.474                 0.0   0.0  0.474000"
      ]
     },
     "metadata": {},
     "output_type": "display_data"
    }
   ],
   "source": [
    "summary_df = pd.DataFrame(results, columns=['Task', 'Model', 'Accuracy', 'AccuracyNoGibberish'])\n",
    "summary_df = summary_df.pivot(index='Model', columns='Task', values=['Accuracy', 'AccuracyNoGibberish'])\n",
    "\n",
    "display(summary_df)"
   ]
  },
  {
   "cell_type": "code",
   "execution_count": null,
   "metadata": {},
   "outputs": [],
   "source": []
  }
 ],
 "metadata": {
  "colab": {
   "provenance": []
  },
  "kernelspec": {
   "display_name": "Python 3 (ipykernel)",
   "language": "python",
   "name": "python3"
  },
  "language_info": {
   "codemirror_mode": {
    "name": "ipython",
    "version": 3
   },
   "file_extension": ".py",
   "mimetype": "text/x-python",
   "name": "python",
   "nbconvert_exporter": "python",
   "pygments_lexer": "ipython3",
   "version": "3.10.12"
  },
  "vscode": {
   "interpreter": {
    "hash": "b0fa6594d8f4cbf19f97940f81e996739fb7646882a419484c72d19e05852a7e"
   }
  }
 },
 "nbformat": 4,
 "nbformat_minor": 4
}
