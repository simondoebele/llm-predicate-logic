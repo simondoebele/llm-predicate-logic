{
  "cells": [
    {
      "cell_type": "markdown",
      "metadata": {
        "id": "TUwWdisbYlzb"
      },
      "source": [
        "# Dataset Generation with new PROMPT\n"
      ]
    },
    {
      "attachments": {},
      "cell_type": "markdown",
      "metadata": {},
      "source": [
        "Prompt: Context + Instruction + Question (+ Intent) (+ Examples) + Response Format\n",
        "\n",
        "prompt_template = f\"### CONTEXT\\n{context}\\n\\n### QUESTION\\n{question}\\n\\n### ANSWER\\n{answer}</s>”\n",
        "\n",
        "Task 1: context = You will receive a problem in first-order predicate logic to solve. This problem contains statements about the world (let us call it a “world model”) and a mapping from things in this world to variables representing these things (we call that mapping the “keys”). You are then asked to provide a formula in first-order predicate logic that is either satisfied or unsatisfied. Please return only the formula, written in the nltk python library’s format.Question = World model: … . \\n Keys: … . Please provide a formula in first-order predicate logic that is {satisfied}.Answer = {formula}\n",
        "\n",
        "Task 2: context = You will receive a problem in first-order predicate logic to solve. This problem contains a formula in first-order predicate logic, written in the format of the nltk python library for which you are asked to create “world model” and “keys” that either satisfy or do not satisfy the formula. Here, a world model is a set of statements about a simple world that only talks about persons and adjectives that are either true or not true of these persons, e.g. “George is blunt”. Keys are a mapping from things in this world to variables representing these things, e.g. “a: George”. Please return the world model with “World model:”, and after a new line the keys with “Keys:”. Always map persons to lower case characters of the alphabet and adjectives to upper case characters of the alphabet.Question = Consider the following formula: all x.F(x). Provide a world model and keys that {satisfy} the formula.Answer = {World model: … . \\n Keys: … .}\n",
        "\n",
        "Task 3: context = You will receive a problem in first-order predicate logic to solve. This problem contains a formula in first-order predicate logic, written in the nltk python library’s format, a set of statements about a world (“world model”) and a mapping from things in this world to variables representing these things (“keys”). Please return in one word whether the formula is “satisfied” or “unsatisfied” given the world model and keys.Question = Consider the following formula in first-order predicate logic: {formula}. World Model: … .Keys: … .Is the provided formula “satisfied” or “unsatisfied” given the world model and keys?Answer = {satisfied}"
      ]
    },
    {
      "cell_type": "markdown",
      "metadata": {},
      "source": [
        "Also:\n",
        "\n",
        "Bisher:\n",
        "\n",
        "Here is a world model:  Violet is Conservative. George is Conservative. Waverly is not Conservative. Maximiliano is Conservative. Deacon is Conservative. Ashlynn is Conservative. Cheyenne is not Conservative. Jackson is Conservative. Let us interpret predicates and names as follows: F: Conservative. q: Violet. l: George. n: Waverly. j: Maximiliano. s: Deacon. d: Ashlynn. m: Cheyenne. p: Jackson.. Provide a formula in first-order predicate logic that is unsatisfied given the above situation and interpretation (keys).\n",
        "\n",
        "Neu:\n",
        "\n",
        "Context:\n",
        "\n",
        "You will receive a problem in first-order predicate logic to solve. This problem contains statements about the world (let us call it a “world model”) and a mapping from things in this world to variables representing these things (we call that mapping the “keys”). You are then asked to provide a formula in first-order predicate logic that is either satisfied or unsatisfied. Please return only the formula, written in the nltk python library’s format. \n",
        "\n",
        "Question: \n",
        "\n",
        "Here is a world model:  \n",
        "\n",
        "Violet is Conservative. George is Conservative. Waverly is not Conservative. Maximiliano is Conservative. Deacon is Conservative. Ashlynn is Conservative. Cheyenne is not Conservative. Jackson is Conservative.\n",
        "\n",
        "Here are the keys: \n",
        "\n",
        "F: Conservative. q: Violet. l: George. n: Waverly. j: Maximiliano. s: Deacon. d: Ashlynn. m: Cheyenne. p: Jackson.\n",
        "\n",
        "Please write down only one formula in first-order predicate logic that is unsatisfied given the above world model and keys.\n",
        "\n",
        "Answer:"
      ]
    },
    {
      "cell_type": "code",
      "execution_count": null,
      "metadata": {},
      "outputs": [],
      "source": [
        "import pandas as pd\n",
        "import json"
      ]
    },
    {
      "cell_type": "code",
      "execution_count": null,
      "metadata": {},
      "outputs": [],
      "source": [
        "df = pd.read_json('base_pred_logic_data.json')"
      ]
    },
    {
      "cell_type": "code",
      "execution_count": null,
      "metadata": {},
      "outputs": [],
      "source": [
        "def make_task1_inputs(df):\n",
        "    keys_list = df['Keys'].tolist()\n",
        "    world_models = df['World Model'].tolist()\n",
        "    sat_list = df['Satisfied'].tolist()\n",
        "    #satisfied_list = ['satisfied' if x == \"sati\" else 'unsatisfied' for x in sat_list]\n",
        "\n",
        "    context = \"Context:\\n\\nYou will receive a problem in first-order predicate logic to solve. \\\n",
        "        This problem contains a set of statements about the world (let us call it a 'world model') \\\n",
        "        and a mapping from things in this world to variables representing these things \\\n",
        "        (we call that mapping the 'keys'). You are then asked to provide a formula in first-order predicate logic \\\n",
        "        that is either satisfied or unsatisfied given the world model and keys.\\\n",
        "        Please return only the formula, written in the format of the python library nltk.\\n\\n\"\n",
        "    instruction_p1 = \"Question:\\n\\n Here is a world model:\\n\\n\"\n",
        "    instruction_p2 = \"\\n\\nHere are the keys:\\n\\n\"\n",
        "    question_p1 = \"\\n\\nPlease write down only one formula in first-order predicate logic that is \" \n",
        "    question_p2 = \" given the above world model and keys.\\n\\n\"\n",
        "    answer = \"Answer:\"\n",
        "\n",
        "    prompts = []\n",
        "    #sat_list = []\n",
        "    for keys, model, sat in zip(keys_list, world_models, sat_list):\n",
        "      #sat = random.choice([\"satisfied\", \"unsatisfied\"])\n",
        "      prompt = context + instruction_p1 + model + instruction_p2 + keys + question_p1 + sat + question_p2 + answer\n",
        "      prompts.append(prompt)\n",
        "      #sat_list.append(sat)\n",
        "    \n",
        "    return prompts\n",
        "\n",
        "\n",
        "\n",
        "def make_task2_inputs(df):\n",
        "    formulas = df['Formula'].tolist()\n",
        "    sat_list = df['Satisfied'].tolist()\n",
        "    #satisfied_list = ['satisfied' if x == \"satisfied\" else 'unsatisfied' for x in sat_list]\n",
        "\n",
        "    context = \"Context:\\n\\nYou will receive a problem in first-order predicate logic to solve. \\\n",
        "      This problem contains a formula in first-order predicate logic, written in the format of the python library nltk \\\n",
        "      for which you are asked to create a 'world model' and 'keys' that either satisfy or do not satisfy the formula. \\\n",
        "      A world model is a set of statements about whether one or more predicates apply to things in this world.\\\n",
        "      Keys are a mapping from things to (lower case) variables and predicates to (upper case) variables.\\n\\n\"\n",
        "    instruction_p1 = \"Question:\\n\\nConsider the following formula:\"\n",
        "    instruction_p2 = \". Provide a world model and keys such that the formula is \"\n",
        "    instruction_p3 = \". Please answer by returning the world model starting with 'World model:', followed by the keys starting with 'Keys:'.\" \n",
        "    answer = \"\\n\\nAnswer:\"\n",
        "\n",
        "    prompts = []\n",
        "    #sat_list = []\n",
        "    for formula, sat in zip(formulas, sat_list):\n",
        "      #sat = random.choice([\"satisfied\", \"unsatisfied\"])\n",
        "      prompt = context + instruction_p1 + formula + instruction_p2 + sat + instruction_p3 + answer\n",
        "      prompts.append(prompt)\n",
        "      sat_list.append(sat) \n",
        "    \n",
        "    return prompts\n",
        "\n",
        "\n",
        "\n",
        "def make_task3_inputs(df):\n",
        "    formulas = df['Formula'].tolist()\n",
        "    keys_list = df['Keys'].tolist()\n",
        "    world_models = df['World Model'].tolist()\n",
        "\n",
        "    context = \"Context:\\n\\nYou will receive a problem in first-order predicate logic to solve. \\\n",
        "      This problem contains a formula in first-order predicate logic, written in the format of the python library nltk \\\n",
        "      a set of statements about a world ('world model') and a mapping ('keys') from things in this world to variables \\\n",
        "      representing these things. Please return in one word whether the formula is satisfied or unsatisfied given the world model and keys.\\n\\n\"\n",
        "    instruction_p1 = \"Question:\\n\\nConsider the following formula:\"\n",
        "    instruction_p2 = \"\\n\\nHere is a world model:\\n\\n\"\n",
        "    instruction_p3 = \"\\n\\nHere are the keys:\\n\\n\"\n",
        "    instruction_p4 = \"Is the provided formula satisfied or unsatisfied given the world model and keys?\"\n",
        "    answer = \"\\n\\nAnswer:\"\n",
        "\n",
        "    # TODO: Einfügen: \\n + (A) Satisfied -> zufällig A und B auswählen (50/50)\n",
        "    # \\n + (B) Unsatisfied\n",
        "\n",
        "    prompts = []\n",
        "    unique_ids = [] # to be changed (and returned), if we make these datasets a different size than the original one that we map to.\n",
        "    for i, (formula, keys, model) in enumerate(zip(formulas, keys_list, world_models)):\n",
        "      prompt = context + instruction_p1 + formula + instruction_p2 + model + instruction_p3 + keys + instruction_p4 + answer\n",
        "      prompts.append(prompt)\n",
        "      unique_ids.append(i)\n",
        "    \n",
        "    return prompts"
      ]
    },
    {
      "attachments": {},
      "cell_type": "markdown",
      "metadata": {},
      "source": [
        "#### TASK 3"
      ]
    },
    {
      "attachments": {},
      "cell_type": "markdown",
      "metadata": {},
      "source": [
        "Input: Formula + Keys + World Model\n",
        "\n",
        "Output: true / false (sat / unsat)"
      ]
    },
    {
      "cell_type": "code",
      "execution_count": null,
      "metadata": {},
      "outputs": [],
      "source": [
        "inputs = make_task3_inputs(df)\n",
        "targets = df['Satisfied'].tolist()\n",
        "\n",
        "d = {'Input':inputs,'Target':targets}\n",
        "df_task3 = pd.DataFrame(d)\n",
        "df_task3.to_json('Task3-dataset.json')"
      ]
    },
    {
      "attachments": {},
      "cell_type": "markdown",
      "metadata": {},
      "source": [
        "#### TASK 1\n",
        "\n",
        "Input: World Model + Keys + Satisfied\n",
        "\n",
        "Target: formula (but not necessarily the one from the original dataset, as multiple formulas are possible.)"
      ]
    },
    {
      "cell_type": "code",
      "execution_count": null,
      "metadata": {},
      "outputs": [],
      "source": [
        "def convert_valuation(valuation):\n",
        "    # this is necessary, as jsonl can not serialize sets, so we convert them to lists here and back afterwards.\n",
        "    return [(v[0], list(v[1])) if v[0].isupper() else v for v in valuation]"
      ]
    },
    {
      "cell_type": "code",
      "execution_count": null,
      "metadata": {},
      "outputs": [],
      "source": [
        "prompts = make_task1_inputs(df)\n",
        "target_sats = df['Satisfied'].tolist()\n",
        "# Object of type set is not JSON serializable, so we convert it to a list and convert back afterwards.\n",
        "valuations = df[\"Valuation\"].tolist()\n",
        "print(valuations[0])\n",
        "targets = df['Formula'].tolist()\n",
        "\n",
        "\n",
        "d = {'Input':prompts,\"Target-sat\": target_sats,\"Valuation\": valuations,'Target':targets}\n",
        "df_task1 = pd.DataFrame(d)"
      ]
    },
    {
      "cell_type": "code",
      "execution_count": null,
      "metadata": {},
      "outputs": [],
      "source": [
        "df[\"Valuation\"].to_dict()"
      ]
    },
    {
      "cell_type": "code",
      "execution_count": null,
      "metadata": {},
      "outputs": [],
      "source": [
        "df_task1.iloc[0:19].to_json('Task1-20-datapoints.json')"
      ]
    },
    {
      "cell_type": "code",
      "execution_count": null,
      "metadata": {},
      "outputs": [],
      "source": [
        "df_task1.to_json('Task1-dataset.json')"
      ]
    },
    {
      "attachments": {},
      "cell_type": "markdown",
      "metadata": {},
      "source": [
        "#### TASK 2:\n",
        "\n",
        "Input: Formula + Satisfied\n",
        "\n",
        "Target: World Model + Keys"
      ]
    },
    {
      "cell_type": "code",
      "execution_count": null,
      "metadata": {},
      "outputs": [],
      "source": [
        "inputs = make_task2_inputs(df)\n",
        "models = df['World Model'].tolist()\n",
        "target_sats = df['Satisfied'].tolist()\n",
        "formulas = df['Formula'].tolist()\n",
        "keys = df['Keys'].tolist()\n",
        "targets = [m + \" \" + k for m, k in zip(models, keys)]\n",
        "\n",
        "d = {'Input':inputs,\"Target-sat\": target_sats, \"Formulas\": formulas, 'Target':targets}\n",
        "df_task2 = pd.DataFrame(d)"
      ]
    },
    {
      "cell_type": "code",
      "execution_count": null,
      "metadata": {},
      "outputs": [],
      "source": [
        "df_task2"
      ]
    },
    {
      "cell_type": "code",
      "execution_count": null,
      "metadata": {},
      "outputs": [],
      "source": [
        "df_task2.to_json('Task2-dataset.json')"
      ]
    },
    {
      "cell_type": "code",
      "execution_count": null,
      "metadata": {},
      "outputs": [],
      "source": [
        "len(df_task2)"
      ]
    },
    {
      "cell_type": "markdown",
      "metadata": {},
      "source": []
    }
  ],
  "metadata": {
    "colab": {
      "provenance": []
    },
    "kernelspec": {
      "display_name": "Python 3",
      "language": "python",
      "name": "python3"
    },
    "language_info": {
      "codemirror_mode": {
        "name": "ipython",
        "version": 3
      },
      "file_extension": ".py",
      "mimetype": "text/x-python",
      "name": "python",
      "nbconvert_exporter": "python",
      "pygments_lexer": "ipython3",
      "version": "3.10.12"
    },
    "vscode": {
      "interpreter": {
        "hash": "b0fa6594d8f4cbf19f97940f81e996739fb7646882a419484c72d19e05852a7e"
      }
    }
  },
  "nbformat": 4,
  "nbformat_minor": 0
}
