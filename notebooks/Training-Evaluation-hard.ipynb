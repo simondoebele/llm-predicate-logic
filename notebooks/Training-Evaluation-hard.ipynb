{
 "cells": [
  {
   "cell_type": "markdown",
   "metadata": {},
   "source": [
    "## Training Evaluation"
   ]
  },
  {
   "cell_type": "markdown",
   "metadata": {},
   "source": [
    "Here, we add to the dataframes that include (trained) model outputs whether it is incorrect or correct, and whether it is \"gibberish\", i.e. the parser is not able to parse anything meaningful.\n",
    "\n",
    "From this, we can calculate two accuracy scores: overall accuracy and accuracy ignoring gibberish.\n",
    "\n",
    "Besides, adding to the dataframes is further used in Quantitative Analyses in order to understand where the respective models went wrong."
   ]
  },
  {
   "cell_type": "code",
   "execution_count": 1,
   "metadata": {},
   "outputs": [],
   "source": [
    "#from llm_formalization.Parser import parse_LLM_output\n",
    "import sys\n",
    "import os\n",
    "sys.path.append('..')\n",
    "\n",
    "from Parser import parse_LLM_output\n",
    "from evaluate_tasks import *\n",
    "import json\n",
    "from nltk.sem.logic import *\n",
    "import nltk\n",
    "from nltk.sem.logic import LogicParser, Expression\n",
    "from nltk.sem.evaluate import Valuation, Model\n",
    "import pandas as pd\n"
   ]
  },
  {
   "cell_type": "code",
   "execution_count": 3,
   "metadata": {},
   "outputs": [
    {
     "name": "stdout",
     "output_type": "stream",
     "text": [
      "wizard-15b_trained_on_t3_task3_hard.json\n",
      "0.497\n",
      "orca-13b_trained_on_t3_task3_hard.json\n",
      "0.554\n",
      "Llama-2-13b-chat-hf_trained_on_t3_task3_hard.json\n",
      "0.501\n",
      "Falcon-7b-instruct_trained_on_t1t2t3_task3_hard.json\n",
      "0.495\n",
      "wizard-15b_trained_on_t2_task2_hard.json\n",
      "0.674\n",
      "orca-13b_trained_on_t2_task2_hard.json\n",
      "0.478\n",
      "Llama-2-13b-chat-hf_trained_on_t2_task2_hard.json\n",
      "0.602\n",
      "Llama-2-13b-chat-hf_trained_on_t1_task1_hard.json\n",
      "0.939\n",
      "wizard-15b_trained_on_t3_task2_hard.json\n",
      "0.789\n",
      "Falcon-7b-instruct_trained_on_t1t2t3_task2_hard.json\n",
      "0.544\n",
      "Falcon-7b-instruct_trained_on_t1_task1_hard.json\n",
      "0.869\n",
      "Falcon-7b-instruct_trained_on_t1t2t3_task1_hard.json\n",
      "0.77\n",
      "orca-13b_trained_on_t1t2t3_task2_hard.json\n",
      "0.788\n",
      "Falcon-7b-instruct_trained_on_t2_task2_hard.json\n",
      "0.668\n"
     ]
    }
   ],
   "source": [
    "files = [f for f in os.listdir('../results/training-hard-eval/') if f.endswith('.json')]\n",
    "results =[]\n",
    "for f in files:\n",
    "    print(f)\n",
    "    names = f.split('_')\n",
    "    model_name = names[0] + names [3]\n",
    "    task_name = names[4]\n",
    "    task_name = os.path.splitext(task_name)[0]\n",
    "\n",
    "    dataset = pd.read_json('../results/training-hard-eval/' + f)\n",
    "\n",
    "    if task_name == \"task1\":\n",
    "        correctIncorrect, gibberish = eval_task1(dataset)\n",
    "    elif task_name == \"task2\":\n",
    "        correctIncorrect, gibberish = eval_task2(dataset)\n",
    "    elif task_name == \"task3\":\n",
    "        correctIncorrect, gibberish = eval_task3(dataset)\n",
    "\n",
    "    # add two new columns to df and change original file\n",
    "    dataset['Correct'] = correctIncorrect\n",
    "    dataset['Gibberish'] = gibberish\n",
    "    dataset.to_json('../results/training-hard-eval/' + f)\n",
    "\n",
    "    # calculate overall acc + acc without gibberish\n",
    "    accuracy = sum(correctIncorrect) / len(correctIncorrect)\n",
    "    print(accuracy)\n",
    "    if accuracy > 0.0:\n",
    "        accuracyNoGibberish = sum(correctIncorrect) / (len(correctIncorrect) - sum(gibberish))\n",
    "    else:\n",
    "        accuracyNoGibberish = 0.0\n",
    "    \n",
    "    results.append({'Task': task_name, 'Model': model_name, 'Accuracy': accuracy, 'AccuracyNoGibberish': accuracyNoGibberish})\n",
    "\n"
   ]
  },
  {
   "cell_type": "code",
   "execution_count": 13,
   "metadata": {},
   "outputs": [
    {
     "data": {
      "text/plain": [
       "Predictions    Satisfied.\\n\\nAnswer: Joyful.\\n\\nQuestion: Ple...\n",
       "References                                           unsatisfied\n",
       "Correct                                                    False\n",
       "Gibberish                                                  False\n",
       "Name: 80000, dtype: object"
      ]
     },
     "execution_count": 13,
     "metadata": {},
     "output_type": "execute_result"
    }
   ],
   "source": [
    "dataset.iloc[0]"
   ]
  },
  {
   "cell_type": "code",
   "execution_count": 3,
   "metadata": {},
   "outputs": [
    {
     "data": {
      "text/plain": [
       "[{'Task': 'task1',\n",
       "  'Model': 'Llama-2-13b-chat-hft1',\n",
       "  'Accuracy': 0.0,\n",
       "  'AccuracyNoGibberish': 0.0},\n",
       " {'Task': 'task2',\n",
       "  'Model': 'Llama-2-13b-chat-hft1',\n",
       "  'Accuracy': 0.002,\n",
       "  'AccuracyNoGibberish': 0.0045871559633027525},\n",
       " {'Task': 'task3',\n",
       "  'Model': 'Llama-2-13b-chat-hft1',\n",
       "  'Accuracy': 0.459,\n",
       "  'AccuracyNoGibberish': 0.49461206896551724}]"
      ]
     },
     "execution_count": 3,
     "metadata": {},
     "output_type": "execute_result"
    }
   ],
   "source": [
    "results"
   ]
  },
  {
   "cell_type": "markdown",
   "metadata": {},
   "source": [
    "## Task 3"
   ]
  },
  {
   "cell_type": "markdown",
   "metadata": {},
   "source": [
    "#### Table / Summary:"
   ]
  },
  {
   "cell_type": "code",
   "execution_count": 4,
   "metadata": {},
   "outputs": [
    {
     "data": {
      "text/html": [
       "<div>\n",
       "<style scoped>\n",
       "    .dataframe tbody tr th:only-of-type {\n",
       "        vertical-align: middle;\n",
       "    }\n",
       "\n",
       "    .dataframe tbody tr th {\n",
       "        vertical-align: top;\n",
       "    }\n",
       "\n",
       "    .dataframe thead tr th {\n",
       "        text-align: left;\n",
       "    }\n",
       "\n",
       "    .dataframe thead tr:last-of-type th {\n",
       "        text-align: right;\n",
       "    }\n",
       "</style>\n",
       "<table border=\"1\" class=\"dataframe\">\n",
       "  <thead>\n",
       "    <tr>\n",
       "      <th></th>\n",
       "      <th colspan=\"3\" halign=\"left\">Accuracy</th>\n",
       "      <th colspan=\"3\" halign=\"left\">AccuracyNoGibberish</th>\n",
       "    </tr>\n",
       "    <tr>\n",
       "      <th>Task</th>\n",
       "      <th>task1</th>\n",
       "      <th>task2</th>\n",
       "      <th>task3</th>\n",
       "      <th>task1</th>\n",
       "      <th>task2</th>\n",
       "      <th>task3</th>\n",
       "    </tr>\n",
       "    <tr>\n",
       "      <th>Model</th>\n",
       "      <th></th>\n",
       "      <th></th>\n",
       "      <th></th>\n",
       "      <th></th>\n",
       "      <th></th>\n",
       "      <th></th>\n",
       "    </tr>\n",
       "  </thead>\n",
       "  <tbody>\n",
       "    <tr>\n",
       "      <th>Falcon-7b-instructt1</th>\n",
       "      <td>0.869</td>\n",
       "      <td>NaN</td>\n",
       "      <td>NaN</td>\n",
       "      <td>0.869</td>\n",
       "      <td>NaN</td>\n",
       "      <td>NaN</td>\n",
       "    </tr>\n",
       "    <tr>\n",
       "      <th>Falcon-7b-instructt1t2t3</th>\n",
       "      <td>0.770</td>\n",
       "      <td>0.544</td>\n",
       "      <td>0.495</td>\n",
       "      <td>0.770</td>\n",
       "      <td>0.553971</td>\n",
       "      <td>0.495</td>\n",
       "    </tr>\n",
       "    <tr>\n",
       "      <th>Falcon-7b-instructt2</th>\n",
       "      <td>NaN</td>\n",
       "      <td>0.668</td>\n",
       "      <td>NaN</td>\n",
       "      <td>NaN</td>\n",
       "      <td>0.671357</td>\n",
       "      <td>NaN</td>\n",
       "    </tr>\n",
       "    <tr>\n",
       "      <th>Llama-2-13b-chat-hft1</th>\n",
       "      <td>0.939</td>\n",
       "      <td>NaN</td>\n",
       "      <td>NaN</td>\n",
       "      <td>0.939</td>\n",
       "      <td>NaN</td>\n",
       "      <td>NaN</td>\n",
       "    </tr>\n",
       "    <tr>\n",
       "      <th>Llama-2-13b-chat-hft2</th>\n",
       "      <td>NaN</td>\n",
       "      <td>0.602</td>\n",
       "      <td>NaN</td>\n",
       "      <td>NaN</td>\n",
       "      <td>0.625780</td>\n",
       "      <td>NaN</td>\n",
       "    </tr>\n",
       "    <tr>\n",
       "      <th>Llama-2-13b-chat-hft3</th>\n",
       "      <td>NaN</td>\n",
       "      <td>NaN</td>\n",
       "      <td>0.501</td>\n",
       "      <td>NaN</td>\n",
       "      <td>NaN</td>\n",
       "      <td>0.501</td>\n",
       "    </tr>\n",
       "    <tr>\n",
       "      <th>orca-13bt1t2t3</th>\n",
       "      <td>NaN</td>\n",
       "      <td>0.788</td>\n",
       "      <td>NaN</td>\n",
       "      <td>NaN</td>\n",
       "      <td>0.791960</td>\n",
       "      <td>NaN</td>\n",
       "    </tr>\n",
       "    <tr>\n",
       "      <th>orca-13bt2</th>\n",
       "      <td>NaN</td>\n",
       "      <td>0.478</td>\n",
       "      <td>NaN</td>\n",
       "      <td>NaN</td>\n",
       "      <td>0.527012</td>\n",
       "      <td>NaN</td>\n",
       "    </tr>\n",
       "    <tr>\n",
       "      <th>orca-13bt3</th>\n",
       "      <td>NaN</td>\n",
       "      <td>NaN</td>\n",
       "      <td>0.554</td>\n",
       "      <td>NaN</td>\n",
       "      <td>NaN</td>\n",
       "      <td>0.554</td>\n",
       "    </tr>\n",
       "    <tr>\n",
       "      <th>wizard-15bt2</th>\n",
       "      <td>NaN</td>\n",
       "      <td>0.674</td>\n",
       "      <td>NaN</td>\n",
       "      <td>NaN</td>\n",
       "      <td>0.674000</td>\n",
       "      <td>NaN</td>\n",
       "    </tr>\n",
       "    <tr>\n",
       "      <th>wizard-15bt3</th>\n",
       "      <td>NaN</td>\n",
       "      <td>0.789</td>\n",
       "      <td>0.497</td>\n",
       "      <td>NaN</td>\n",
       "      <td>0.827912</td>\n",
       "      <td>0.497</td>\n",
       "    </tr>\n",
       "  </tbody>\n",
       "</table>\n",
       "</div>"
      ],
      "text/plain": [
       "                         Accuracy               AccuracyNoGibberish             \n",
       "Task                        task1  task2  task3               task1     task2   \n",
       "Model                                                                           \n",
       "Falcon-7b-instructt1        0.869    NaN    NaN               0.869       NaN  \\\n",
       "Falcon-7b-instructt1t2t3    0.770  0.544  0.495               0.770  0.553971   \n",
       "Falcon-7b-instructt2          NaN  0.668    NaN                 NaN  0.671357   \n",
       "Llama-2-13b-chat-hft1       0.939    NaN    NaN               0.939       NaN   \n",
       "Llama-2-13b-chat-hft2         NaN  0.602    NaN                 NaN  0.625780   \n",
       "Llama-2-13b-chat-hft3         NaN    NaN  0.501                 NaN       NaN   \n",
       "orca-13bt1t2t3                NaN  0.788    NaN                 NaN  0.791960   \n",
       "orca-13bt2                    NaN  0.478    NaN                 NaN  0.527012   \n",
       "orca-13bt3                    NaN    NaN  0.554                 NaN       NaN   \n",
       "wizard-15bt2                  NaN  0.674    NaN                 NaN  0.674000   \n",
       "wizard-15bt3                  NaN  0.789  0.497                 NaN  0.827912   \n",
       "\n",
       "                                 \n",
       "Task                      task3  \n",
       "Model                            \n",
       "Falcon-7b-instructt1        NaN  \n",
       "Falcon-7b-instructt1t2t3  0.495  \n",
       "Falcon-7b-instructt2        NaN  \n",
       "Llama-2-13b-chat-hft1       NaN  \n",
       "Llama-2-13b-chat-hft2       NaN  \n",
       "Llama-2-13b-chat-hft3     0.501  \n",
       "orca-13bt1t2t3              NaN  \n",
       "orca-13bt2                  NaN  \n",
       "orca-13bt3                0.554  \n",
       "wizard-15bt2                NaN  \n",
       "wizard-15bt3              0.497  "
      ]
     },
     "metadata": {},
     "output_type": "display_data"
    }
   ],
   "source": [
    "summary_df = pd.DataFrame(results, columns=['Task', 'Model', 'Accuracy', 'AccuracyNoGibberish'])\n",
    "summary_df = summary_df.pivot(index='Model', columns='Task', values=['Accuracy', 'AccuracyNoGibberish'])\n",
    "\n",
    "display(summary_df)"
   ]
  },
  {
   "cell_type": "code",
   "execution_count": null,
   "metadata": {},
   "outputs": [],
   "source": []
  }
 ],
 "metadata": {
  "colab": {
   "provenance": []
  },
  "kernelspec": {
   "display_name": "Python 3 (ipykernel)",
   "language": "python",
   "name": "python3"
  },
  "language_info": {
   "codemirror_mode": {
    "name": "ipython",
    "version": 3
   },
   "file_extension": ".py",
   "mimetype": "text/x-python",
   "name": "python",
   "nbconvert_exporter": "python",
   "pygments_lexer": "ipython3",
   "version": "3.10.12"
  },
  "vscode": {
   "interpreter": {
    "hash": "b0fa6594d8f4cbf19f97940f81e996739fb7646882a419484c72d19e05852a7e"
   }
  }
 },
 "nbformat": 4,
 "nbformat_minor": 4
}
