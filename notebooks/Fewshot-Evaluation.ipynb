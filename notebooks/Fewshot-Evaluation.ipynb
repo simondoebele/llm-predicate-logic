{
 "cells": [
  {
   "cell_type": "markdown",
   "metadata": {},
   "source": [
    "## Few Shot Evaluation"
   ]
  },
  {
   "cell_type": "code",
   "execution_count": 1,
   "metadata": {},
   "outputs": [],
   "source": [
    "import sys\n",
    "import os\n",
    "sys.path.append('..')\n",
    "\n",
    "from Parser import parse_LLM_output\n",
    "from evaluate_tasks import *\n",
    "import json\n",
    "from nltk.sem.logic import *\n",
    "import nltk\n",
    "from nltk.sem.logic import LogicParser, Expression\n",
    "from nltk.sem.evaluate import Valuation, Model\n",
    "import pandas as pd"
   ]
  },
  {
   "cell_type": "markdown",
   "metadata": {},
   "source": [
    "## Evaluation (via Parsers)"
   ]
  },
  {
   "cell_type": "code",
   "execution_count": 2,
   "metadata": {},
   "outputs": [
    {
     "name": "stdout",
     "output_type": "stream",
     "text": [
      "45\n"
     ]
    }
   ],
   "source": [
    "files = [f for f in os.listdir('../results/fewshot-eval/first_prompt/') if f.endswith('.json')]\n",
    "print(len(files))"
   ]
  },
  {
   "cell_type": "code",
   "execution_count": null,
   "metadata": {},
   "outputs": [],
   "source": [
    "results =[]\n",
    "for f in files:\n",
    "    names = f.split('_')\n",
    "    model_name = names[0]\n",
    "    task_name = names[1]\n",
    "    task_name = os.path.splitext(task_name)[0]\n",
    "\n",
    "    dataset = pd.read_json('../results/fewshot-eval/first_prompt/' + f)\n",
    "\n",
    "    if \"task1\" in task_name:\n",
    "        correctIncorrect, gibberish = eval_task1(dataset)\n",
    "    elif \"task2\" in task_name:\n",
    "        correctIncorrect, gibberish = eval_task2(dataset)\n",
    "    elif \"task3\" in task_name:\n",
    "        correctIncorrect, gibberish = eval_task3(dataset)\n",
    "\n",
    "    # add two new columns to df and change original file\n",
    "    dataset['Correct'] = correctIncorrect\n",
    "    dataset['Gibberish'] = gibberish\n",
    "    dataset.to_json('../results/fewshot-eval/first_prompt/' + f)\n",
    "\n",
    "    # calculate overall acc + acc without gibberish\n",
    "    accuracy = sum(correctIncorrect) / len(correctIncorrect)\n",
    "    print(accuracy)\n",
    "    if accuracy > 0.0:\n",
    "        accuracyNoGibberish = sum(correctIncorrect) / (len(correctIncorrect) - sum(gibberish))\n",
    "    else:\n",
    "        accuracyNoGibberish = 0.0\n",
    "    \n",
    "    results.append({'Task': task_name, 'Model': model_name, 'Accuracy': accuracy, 'AccuracyNoGibberish': accuracyNoGibberish})\n",
    "\n",
    "\n"
   ]
  },
  {
   "cell_type": "markdown",
   "metadata": {},
   "source": [
    "#### Table / Summary:"
   ]
  },
  {
   "cell_type": "code",
   "execution_count": 4,
   "metadata": {},
   "outputs": [
    {
     "data": {
      "text/html": [
       "<div>\n",
       "<style scoped>\n",
       "    .dataframe tbody tr th:only-of-type {\n",
       "        vertical-align: middle;\n",
       "    }\n",
       "\n",
       "    .dataframe tbody tr th {\n",
       "        vertical-align: top;\n",
       "    }\n",
       "\n",
       "    .dataframe thead tr th {\n",
       "        text-align: left;\n",
       "    }\n",
       "\n",
       "    .dataframe thead tr:last-of-type th {\n",
       "        text-align: right;\n",
       "    }\n",
       "</style>\n",
       "<table border=\"1\" class=\"dataframe\">\n",
       "  <thead>\n",
       "    <tr>\n",
       "      <th></th>\n",
       "      <th colspan=\"9\" halign=\"left\">Accuracy</th>\n",
       "      <th colspan=\"9\" halign=\"left\">AccuracyNoGibberish</th>\n",
       "    </tr>\n",
       "    <tr>\n",
       "      <th>Task</th>\n",
       "      <th>task1-fs1</th>\n",
       "      <th>task1-fs2</th>\n",
       "      <th>task1-fs4</th>\n",
       "      <th>task2-fs1</th>\n",
       "      <th>task2-fs2</th>\n",
       "      <th>task2-fs4</th>\n",
       "      <th>task3-fs1</th>\n",
       "      <th>task3-fs2</th>\n",
       "      <th>task3-fs4</th>\n",
       "      <th>task1-fs1</th>\n",
       "      <th>task1-fs2</th>\n",
       "      <th>task1-fs4</th>\n",
       "      <th>task2-fs1</th>\n",
       "      <th>task2-fs2</th>\n",
       "      <th>task2-fs4</th>\n",
       "      <th>task3-fs1</th>\n",
       "      <th>task3-fs2</th>\n",
       "      <th>task3-fs4</th>\n",
       "    </tr>\n",
       "    <tr>\n",
       "      <th>Model</th>\n",
       "      <th></th>\n",
       "      <th></th>\n",
       "      <th></th>\n",
       "      <th></th>\n",
       "      <th></th>\n",
       "      <th></th>\n",
       "      <th></th>\n",
       "      <th></th>\n",
       "      <th></th>\n",
       "      <th></th>\n",
       "      <th></th>\n",
       "      <th></th>\n",
       "      <th></th>\n",
       "      <th></th>\n",
       "      <th></th>\n",
       "      <th></th>\n",
       "      <th></th>\n",
       "      <th></th>\n",
       "    </tr>\n",
       "  </thead>\n",
       "  <tbody>\n",
       "    <tr>\n",
       "      <th>Llama-2-13b-chat-hf</th>\n",
       "      <td>0.151</td>\n",
       "      <td>0.256</td>\n",
       "      <td>0.397</td>\n",
       "      <td>0.007</td>\n",
       "      <td>0.088</td>\n",
       "      <td>0.205</td>\n",
       "      <td>0.510</td>\n",
       "      <td>0.504</td>\n",
       "      <td>0.503</td>\n",
       "      <td>0.343964</td>\n",
       "      <td>0.360056</td>\n",
       "      <td>0.428263</td>\n",
       "      <td>0.012891</td>\n",
       "      <td>0.226221</td>\n",
       "      <td>0.595930</td>\n",
       "      <td>0.510</td>\n",
       "      <td>0.504</td>\n",
       "      <td>0.503</td>\n",
       "    </tr>\n",
       "    <tr>\n",
       "      <th>Wizard-15b</th>\n",
       "      <td>0.409</td>\n",
       "      <td>0.432</td>\n",
       "      <td>0.468</td>\n",
       "      <td>0.591</td>\n",
       "      <td>0.468</td>\n",
       "      <td>0.511</td>\n",
       "      <td>0.486</td>\n",
       "      <td>0.511</td>\n",
       "      <td>0.506</td>\n",
       "      <td>0.433263</td>\n",
       "      <td>0.441718</td>\n",
       "      <td>0.476578</td>\n",
       "      <td>0.606154</td>\n",
       "      <td>0.560479</td>\n",
       "      <td>0.577401</td>\n",
       "      <td>0.486</td>\n",
       "      <td>0.511</td>\n",
       "      <td>0.506</td>\n",
       "    </tr>\n",
       "    <tr>\n",
       "      <th>falcon-7b</th>\n",
       "      <td>0.300</td>\n",
       "      <td>0.372</td>\n",
       "      <td>0.345</td>\n",
       "      <td>0.164</td>\n",
       "      <td>0.243</td>\n",
       "      <td>0.144</td>\n",
       "      <td>0.493</td>\n",
       "      <td>0.493</td>\n",
       "      <td>0.493</td>\n",
       "      <td>0.380228</td>\n",
       "      <td>0.419391</td>\n",
       "      <td>0.361635</td>\n",
       "      <td>0.456825</td>\n",
       "      <td>0.507307</td>\n",
       "      <td>0.562500</td>\n",
       "      <td>0.493</td>\n",
       "      <td>0.493</td>\n",
       "      <td>0.493</td>\n",
       "    </tr>\n",
       "    <tr>\n",
       "      <th>flan-ul2</th>\n",
       "      <td>0.000</td>\n",
       "      <td>0.000</td>\n",
       "      <td>0.002</td>\n",
       "      <td>0.000</td>\n",
       "      <td>0.000</td>\n",
       "      <td>0.000</td>\n",
       "      <td>0.488</td>\n",
       "      <td>0.481</td>\n",
       "      <td>0.478</td>\n",
       "      <td>0.000000</td>\n",
       "      <td>0.000000</td>\n",
       "      <td>0.057143</td>\n",
       "      <td>0.000000</td>\n",
       "      <td>0.000000</td>\n",
       "      <td>0.000000</td>\n",
       "      <td>0.488</td>\n",
       "      <td>0.481</td>\n",
       "      <td>0.478</td>\n",
       "    </tr>\n",
       "    <tr>\n",
       "      <th>orca-13b</th>\n",
       "      <td>0.057</td>\n",
       "      <td>0.190</td>\n",
       "      <td>0.357</td>\n",
       "      <td>0.597</td>\n",
       "      <td>0.696</td>\n",
       "      <td>0.626</td>\n",
       "      <td>0.501</td>\n",
       "      <td>0.494</td>\n",
       "      <td>0.497</td>\n",
       "      <td>0.313187</td>\n",
       "      <td>0.424107</td>\n",
       "      <td>0.495833</td>\n",
       "      <td>0.601208</td>\n",
       "      <td>0.708037</td>\n",
       "      <td>0.654812</td>\n",
       "      <td>0.501</td>\n",
       "      <td>0.494</td>\n",
       "      <td>0.497</td>\n",
       "    </tr>\n",
       "  </tbody>\n",
       "</table>\n",
       "</div>"
      ],
      "text/plain": [
       "                     Accuracy                                           \n",
       "Task                task1-fs1 task1-fs2 task1-fs4 task2-fs1 task2-fs2   \n",
       "Model                                                                   \n",
       "Llama-2-13b-chat-hf     0.151     0.256     0.397     0.007     0.088  \\\n",
       "Wizard-15b              0.409     0.432     0.468     0.591     0.468   \n",
       "falcon-7b               0.300     0.372     0.345     0.164     0.243   \n",
       "flan-ul2                0.000     0.000     0.002     0.000     0.000   \n",
       "orca-13b                0.057     0.190     0.357     0.597     0.696   \n",
       "\n",
       "                                                              \n",
       "Task                task2-fs4 task3-fs1 task3-fs2 task3-fs4   \n",
       "Model                                                         \n",
       "Llama-2-13b-chat-hf     0.205     0.510     0.504     0.503  \\\n",
       "Wizard-15b              0.511     0.486     0.511     0.506   \n",
       "falcon-7b               0.144     0.493     0.493     0.493   \n",
       "flan-ul2                0.000     0.488     0.481     0.478   \n",
       "orca-13b                0.626     0.501     0.494     0.497   \n",
       "\n",
       "                    AccuracyNoGibberish                                 \n",
       "Task                          task1-fs1 task1-fs2 task1-fs4 task2-fs1   \n",
       "Model                                                                   \n",
       "Llama-2-13b-chat-hf            0.343964  0.360056  0.428263  0.012891  \\\n",
       "Wizard-15b                     0.433263  0.441718  0.476578  0.606154   \n",
       "falcon-7b                      0.380228  0.419391  0.361635  0.456825   \n",
       "flan-ul2                       0.000000  0.000000  0.057143  0.000000   \n",
       "orca-13b                       0.313187  0.424107  0.495833  0.601208   \n",
       "\n",
       "                                                                       \n",
       "Task                task2-fs2 task2-fs4 task3-fs1 task3-fs2 task3-fs4  \n",
       "Model                                                                  \n",
       "Llama-2-13b-chat-hf  0.226221  0.595930     0.510     0.504     0.503  \n",
       "Wizard-15b           0.560479  0.577401     0.486     0.511     0.506  \n",
       "falcon-7b            0.507307  0.562500     0.493     0.493     0.493  \n",
       "flan-ul2             0.000000  0.000000     0.488     0.481     0.478  \n",
       "orca-13b             0.708037  0.654812     0.501     0.494     0.497  "
      ]
     },
     "metadata": {},
     "output_type": "display_data"
    }
   ],
   "source": [
    "# Prompt 1:\n",
    "summary_df = pd.DataFrame(results, columns=['Task', 'Model', 'Accuracy', 'AccuracyNoGibberish'])\n",
    "summary_df = summary_df.pivot(index='Model', columns='Task', values=['Accuracy', 'AccuracyNoGibberish'])\n",
    "\n",
    "display(summary_df)"
   ]
  },
  {
   "cell_type": "code",
   "execution_count": 5,
   "metadata": {},
   "outputs": [],
   "source": [
    "import matplotlib.pyplot as plt"
   ]
  },
  {
   "cell_type": "markdown",
   "metadata": {},
   "source": [
    "# Task 1"
   ]
  },
  {
   "cell_type": "code",
   "execution_count": 6,
   "metadata": {},
   "outputs": [],
   "source": [
    "temp_df = pd.DataFrame(results, columns=['Task', 'Model', 'Accuracy', 'AccuracyNoGibberish'])"
   ]
  },
  {
   "cell_type": "code",
   "execution_count": 7,
   "metadata": {},
   "outputs": [],
   "source": [
    "temp_df_t1 = temp_df[temp_df[\"Task\"].isin([\"task1-fs1\", \"task1-fs2\", \"task1-fs4\"])]"
   ]
  },
  {
   "cell_type": "code",
   "execution_count": 8,
   "metadata": {},
   "outputs": [
    {
     "data": {
      "text/html": [
       "<div>\n",
       "<style scoped>\n",
       "    .dataframe tbody tr th:only-of-type {\n",
       "        vertical-align: middle;\n",
       "    }\n",
       "\n",
       "    .dataframe tbody tr th {\n",
       "        vertical-align: top;\n",
       "    }\n",
       "\n",
       "    .dataframe thead th {\n",
       "        text-align: right;\n",
       "    }\n",
       "</style>\n",
       "<table border=\"1\" class=\"dataframe\">\n",
       "  <thead>\n",
       "    <tr style=\"text-align: right;\">\n",
       "      <th></th>\n",
       "      <th>Task</th>\n",
       "      <th>Model</th>\n",
       "      <th>Accuracy</th>\n",
       "      <th>AccuracyNoGibberish</th>\n",
       "    </tr>\n",
       "  </thead>\n",
       "  <tbody>\n",
       "    <tr>\n",
       "      <th>4</th>\n",
       "      <td>task1-fs1</td>\n",
       "      <td>Llama-2-13b-chat-hf</td>\n",
       "      <td>0.151</td>\n",
       "      <td>0.343964</td>\n",
       "    </tr>\n",
       "    <tr>\n",
       "      <th>38</th>\n",
       "      <td>task1-fs2</td>\n",
       "      <td>Llama-2-13b-chat-hf</td>\n",
       "      <td>0.256</td>\n",
       "      <td>0.360056</td>\n",
       "    </tr>\n",
       "    <tr>\n",
       "      <th>30</th>\n",
       "      <td>task1-fs4</td>\n",
       "      <td>Llama-2-13b-chat-hf</td>\n",
       "      <td>0.397</td>\n",
       "      <td>0.428263</td>\n",
       "    </tr>\n",
       "  </tbody>\n",
       "</table>\n",
       "</div>"
      ],
      "text/plain": [
       "         Task                Model  Accuracy  AccuracyNoGibberish\n",
       "4   task1-fs1  Llama-2-13b-chat-hf     0.151             0.343964\n",
       "38  task1-fs2  Llama-2-13b-chat-hf     0.256             0.360056\n",
       "30  task1-fs4  Llama-2-13b-chat-hf     0.397             0.428263"
      ]
     },
     "execution_count": 8,
     "metadata": {},
     "output_type": "execute_result"
    }
   ],
   "source": [
    "temp_df_t1_llama = temp_df_t1[temp_df_t1[\"Model\"]==\"Llama-2-13b-chat-hf\"]\n",
    "temp_df_t1_llama = temp_df_t1_llama.sort_values('Task')\n",
    "temp_df_t1_llama"
   ]
  },
  {
   "cell_type": "code",
   "execution_count": 9,
   "metadata": {},
   "outputs": [
    {
     "data": {
      "text/plain": [
       "<matplotlib.legend.Legend at 0x148fa4610>"
      ]
     },
     "execution_count": 9,
     "metadata": {},
     "output_type": "execute_result"
    },
    {
     "data": {
      "image/png": "[encoded data removed]",
      "text/plain": [
       "<Figure size 640x480 with 1 Axes>"
      ]
     },
     "metadata": {},
     "output_type": "display_data"
    }
   ],
   "source": [
    "_, ax = plt.subplots()\n",
    "temp_df_t1_llama[\"AccuracyNoGibberish\"].plot(kind='bar', ax=ax, color='#1B9783', ylim=(0, 1.0), label=\"CorrectedAccuracy\")\n",
    "temp_df_t1_llama[\"Accuracy\"].plot(kind='bar', ax=ax, color='#18206F', ylim=(0, 1.0), label=\"Accuracy\")\n",
    "plt.xticks([0, 1, 2], temp_df_t1_llama['Task'], rotation=\"vertical\")\n",
    "plt.legend(loc=\"upper left\")\n"
   ]
  },
  {
   "cell_type": "code",
   "execution_count": 10,
   "metadata": {},
   "outputs": [
    {
     "data": {
      "text/html": [
       "<div>\n",
       "<style scoped>\n",
       "    .dataframe tbody tr th:only-of-type {\n",
       "        vertical-align: middle;\n",
       "    }\n",
       "\n",
       "    .dataframe tbody tr th {\n",
       "        vertical-align: top;\n",
       "    }\n",
       "\n",
       "    .dataframe thead th {\n",
       "        text-align: right;\n",
       "    }\n",
       "</style>\n",
       "<table border=\"1\" class=\"dataframe\">\n",
       "  <thead>\n",
       "    <tr style=\"text-align: right;\">\n",
       "      <th></th>\n",
       "      <th>Task</th>\n",
       "      <th>Model</th>\n",
       "      <th>Accuracy</th>\n",
       "      <th>AccuracyNoGibberish</th>\n",
       "    </tr>\n",
       "  </thead>\n",
       "  <tbody>\n",
       "    <tr>\n",
       "      <th>22</th>\n",
       "      <td>task1-fs1</td>\n",
       "      <td>falcon-7b</td>\n",
       "      <td>0.300</td>\n",
       "      <td>0.380228</td>\n",
       "    </tr>\n",
       "    <tr>\n",
       "      <th>23</th>\n",
       "      <td>task1-fs2</td>\n",
       "      <td>falcon-7b</td>\n",
       "      <td>0.372</td>\n",
       "      <td>0.419391</td>\n",
       "    </tr>\n",
       "    <tr>\n",
       "      <th>37</th>\n",
       "      <td>task1-fs4</td>\n",
       "      <td>falcon-7b</td>\n",
       "      <td>0.345</td>\n",
       "      <td>0.361635</td>\n",
       "    </tr>\n",
       "  </tbody>\n",
       "</table>\n",
       "</div>"
      ],
      "text/plain": [
       "         Task      Model  Accuracy  AccuracyNoGibberish\n",
       "22  task1-fs1  falcon-7b     0.300             0.380228\n",
       "23  task1-fs2  falcon-7b     0.372             0.419391\n",
       "37  task1-fs4  falcon-7b     0.345             0.361635"
      ]
     },
     "execution_count": 10,
     "metadata": {},
     "output_type": "execute_result"
    }
   ],
   "source": [
    "temp_df_t1_falcon = temp_df_t1[temp_df_t1[\"Model\"]==\"falcon-7b\"]\n",
    "temp_df_t1_falcon = temp_df_t1_falcon.sort_values('Task')\n",
    "temp_df_t1_falcon"
   ]
  },
  {
   "cell_type": "code",
   "execution_count": 11,
   "metadata": {},
   "outputs": [
    {
     "data": {
      "text/plain": [
       "<matplotlib.legend.Legend at 0x1490828f0>"
      ]
     },
     "execution_count": 11,
     "metadata": {},
     "output_type": "execute_result"
    },
    {
     "data": {
      "image/png": "[encoded data removed]",
      "text/plain": [
       "<Figure size 640x480 with 1 Axes>"
      ]
     },
     "metadata": {},
     "output_type": "display_data"
    }
   ],
   "source": [
    "_, ax = plt.subplots()\n",
    "temp_df_t1_falcon[\"AccuracyNoGibberish\"].plot(kind='bar', ax=ax, color='#1B9783', ylim=(0, 1.0), label=\"CorrectedAccuracy\")\n",
    "temp_df_t1_falcon[\"Accuracy\"].plot(kind='bar', ax=ax, color='#18206F', ylim=(0, 1.0), label=\"Accuracy\")\n",
    "plt.xticks([0, 1, 2], temp_df_t1_falcon['Task'], rotation=\"vertical\")\n",
    "plt.legend(loc=\"upper left\")"
   ]
  },
  {
   "cell_type": "code",
   "execution_count": 12,
   "metadata": {},
   "outputs": [
    {
     "data": {
      "text/html": [
       "<div>\n",
       "<style scoped>\n",
       "    .dataframe tbody tr th:only-of-type {\n",
       "        vertical-align: middle;\n",
       "    }\n",
       "\n",
       "    .dataframe tbody tr th {\n",
       "        vertical-align: top;\n",
       "    }\n",
       "\n",
       "    .dataframe thead th {\n",
       "        text-align: right;\n",
       "    }\n",
       "</style>\n",
       "<table border=\"1\" class=\"dataframe\">\n",
       "  <thead>\n",
       "    <tr style=\"text-align: right;\">\n",
       "      <th></th>\n",
       "      <th>Task</th>\n",
       "      <th>Model</th>\n",
       "      <th>Accuracy</th>\n",
       "      <th>AccuracyNoGibberish</th>\n",
       "    </tr>\n",
       "  </thead>\n",
       "  <tbody>\n",
       "    <tr>\n",
       "      <th>3</th>\n",
       "      <td>task1-fs1</td>\n",
       "      <td>flan-ul2</td>\n",
       "      <td>0.000</td>\n",
       "      <td>0.000000</td>\n",
       "    </tr>\n",
       "    <tr>\n",
       "      <th>44</th>\n",
       "      <td>task1-fs2</td>\n",
       "      <td>flan-ul2</td>\n",
       "      <td>0.000</td>\n",
       "      <td>0.000000</td>\n",
       "    </tr>\n",
       "    <tr>\n",
       "      <th>29</th>\n",
       "      <td>task1-fs4</td>\n",
       "      <td>flan-ul2</td>\n",
       "      <td>0.002</td>\n",
       "      <td>0.057143</td>\n",
       "    </tr>\n",
       "  </tbody>\n",
       "</table>\n",
       "</div>"
      ],
      "text/plain": [
       "         Task     Model  Accuracy  AccuracyNoGibberish\n",
       "3   task1-fs1  flan-ul2     0.000             0.000000\n",
       "44  task1-fs2  flan-ul2     0.000             0.000000\n",
       "29  task1-fs4  flan-ul2     0.002             0.057143"
      ]
     },
     "execution_count": 12,
     "metadata": {},
     "output_type": "execute_result"
    }
   ],
   "source": [
    "temp_df_t1_ul2 = temp_df_t1[temp_df_t1[\"Model\"]==\"flan-ul2\"]\n",
    "temp_df_t1_ul2 = temp_df_t1_ul2.sort_values('Task')\n",
    "temp_df_t1_ul2"
   ]
  },
  {
   "cell_type": "code",
   "execution_count": 13,
   "metadata": {},
   "outputs": [
    {
     "data": {
      "text/plain": [
       "<matplotlib.legend.Legend at 0x1490fc670>"
      ]
     },
     "execution_count": 13,
     "metadata": {},
     "output_type": "execute_result"
    },
    {
     "data": {
      "image/png": "[encoded data removed]",
      "text/plain": [
       "<Figure size 640x480 with 1 Axes>"
      ]
     },
     "metadata": {},
     "output_type": "display_data"
    }
   ],
   "source": [
    "_, ax = plt.subplots()\n",
    "temp_df_t1_ul2[\"AccuracyNoGibberish\"].plot(kind='bar', ax=ax, color='#1B9783', ylim=(0, 1.0), label=\"CorrectedAccuracy\")\n",
    "temp_df_t1_ul2[\"Accuracy\"].plot(kind='bar', ax=ax, color='#18206F', ylim=(0, 1.0), label=\"Accuracy\")\n",
    "plt.xticks([0, 1, 2], temp_df_t1_ul2['Task'], rotation=\"vertical\")\n",
    "plt.legend(loc=\"upper left\")"
   ]
  },
  {
   "cell_type": "code",
   "execution_count": 15,
   "metadata": {},
   "outputs": [
    {
     "data": {
      "text/html": [
       "<div>\n",
       "<style scoped>\n",
       "    .dataframe tbody tr th:only-of-type {\n",
       "        vertical-align: middle;\n",
       "    }\n",
       "\n",
       "    .dataframe tbody tr th {\n",
       "        vertical-align: top;\n",
       "    }\n",
       "\n",
       "    .dataframe thead th {\n",
       "        text-align: right;\n",
       "    }\n",
       "</style>\n",
       "<table border=\"1\" class=\"dataframe\">\n",
       "  <thead>\n",
       "    <tr style=\"text-align: right;\">\n",
       "      <th></th>\n",
       "      <th>Task</th>\n",
       "      <th>Model</th>\n",
       "      <th>Accuracy</th>\n",
       "      <th>AccuracyNoGibberish</th>\n",
       "    </tr>\n",
       "  </thead>\n",
       "  <tbody>\n",
       "    <tr>\n",
       "      <th>28</th>\n",
       "      <td>task1-fs1</td>\n",
       "      <td>orca-13b</td>\n",
       "      <td>0.057</td>\n",
       "      <td>0.313187</td>\n",
       "    </tr>\n",
       "    <tr>\n",
       "      <th>19</th>\n",
       "      <td>task1-fs2</td>\n",
       "      <td>orca-13b</td>\n",
       "      <td>0.190</td>\n",
       "      <td>0.424107</td>\n",
       "    </tr>\n",
       "    <tr>\n",
       "      <th>2</th>\n",
       "      <td>task1-fs4</td>\n",
       "      <td>orca-13b</td>\n",
       "      <td>0.357</td>\n",
       "      <td>0.495833</td>\n",
       "    </tr>\n",
       "  </tbody>\n",
       "</table>\n",
       "</div>"
      ],
      "text/plain": [
       "         Task     Model  Accuracy  AccuracyNoGibberish\n",
       "28  task1-fs1  orca-13b     0.057             0.313187\n",
       "19  task1-fs2  orca-13b     0.190             0.424107\n",
       "2   task1-fs4  orca-13b     0.357             0.495833"
      ]
     },
     "execution_count": 15,
     "metadata": {},
     "output_type": "execute_result"
    }
   ],
   "source": [
    "temp_df_t1_orca = temp_df_t1[temp_df_t1[\"Model\"]==\"orca-13b\"]\n",
    "temp_df_t1_orca = temp_df_t1_orca.sort_values('Task')\n",
    "temp_df_t1_orca"
   ]
  },
  {
   "cell_type": "code",
   "execution_count": 16,
   "metadata": {},
   "outputs": [
    {
     "data": {
      "text/plain": [
       "<matplotlib.legend.Legend at 0x14918c970>"
      ]
     },
     "execution_count": 16,
     "metadata": {},
     "output_type": "execute_result"
    },
    {
     "data": {
      "image/png": "[encoded data removed]",
      "text/plain": [
       "<Figure size 640x480 with 1 Axes>"
      ]
     },
     "metadata": {},
     "output_type": "display_data"
    }
   ],
   "source": [
    "_, ax = plt.subplots()\n",
    "temp_df_t1_orca[\"AccuracyNoGibberish\"].plot(kind='bar', ax=ax, color='#1B9783', ylim=(0, 1.0), label=\"CorrectedAccuracy\")\n",
    "temp_df_t1_orca[\"Accuracy\"].plot(kind='bar', ax=ax, color='#18206F', ylim=(0, 1.0), label=\"Accuracy\")\n",
    "plt.xticks([0, 1, 2], temp_df_t1_orca['Task'], rotation=\"vertical\")\n",
    "plt.legend(loc=\"upper left\")"
   ]
  },
  {
   "cell_type": "code",
   "execution_count": 20,
   "metadata": {},
   "outputs": [
    {
     "data": {
      "text/html": [
       "<div>\n",
       "<style scoped>\n",
       "    .dataframe tbody tr th:only-of-type {\n",
       "        vertical-align: middle;\n",
       "    }\n",
       "\n",
       "    .dataframe tbody tr th {\n",
       "        vertical-align: top;\n",
       "    }\n",
       "\n",
       "    .dataframe thead th {\n",
       "        text-align: right;\n",
       "    }\n",
       "</style>\n",
       "<table border=\"1\" class=\"dataframe\">\n",
       "  <thead>\n",
       "    <tr style=\"text-align: right;\">\n",
       "      <th></th>\n",
       "      <th>Task</th>\n",
       "      <th>Model</th>\n",
       "      <th>Accuracy</th>\n",
       "      <th>AccuracyNoGibberish</th>\n",
       "    </tr>\n",
       "  </thead>\n",
       "  <tbody>\n",
       "    <tr>\n",
       "      <th>39</th>\n",
       "      <td>task1-fs1</td>\n",
       "      <td>Wizard-15b</td>\n",
       "      <td>0.409</td>\n",
       "      <td>0.433263</td>\n",
       "    </tr>\n",
       "    <tr>\n",
       "      <th>5</th>\n",
       "      <td>task1-fs2</td>\n",
       "      <td>Wizard-15b</td>\n",
       "      <td>0.432</td>\n",
       "      <td>0.441718</td>\n",
       "    </tr>\n",
       "    <tr>\n",
       "      <th>12</th>\n",
       "      <td>task1-fs4</td>\n",
       "      <td>Wizard-15b</td>\n",
       "      <td>0.468</td>\n",
       "      <td>0.476578</td>\n",
       "    </tr>\n",
       "  </tbody>\n",
       "</table>\n",
       "</div>"
      ],
      "text/plain": [
       "         Task       Model  Accuracy  AccuracyNoGibberish\n",
       "39  task1-fs1  Wizard-15b     0.409             0.433263\n",
       "5   task1-fs2  Wizard-15b     0.432             0.441718\n",
       "12  task1-fs4  Wizard-15b     0.468             0.476578"
      ]
     },
     "execution_count": 20,
     "metadata": {},
     "output_type": "execute_result"
    }
   ],
   "source": [
    "temp_df_t1_wizard = temp_df_t1[temp_df_t1[\"Model\"]==\"Wizard-15b\"]\n",
    "temp_df_t1_wizard = temp_df_t1_wizard.sort_values('Task')\n",
    "temp_df_t1_wizard"
   ]
  },
  {
   "cell_type": "code",
   "execution_count": 21,
   "metadata": {},
   "outputs": [
    {
     "data": {
      "text/plain": [
       "<matplotlib.legend.Legend at 0x1492b5330>"
      ]
     },
     "execution_count": 21,
     "metadata": {},
     "output_type": "execute_result"
    },
    {
     "data": {
      "image/png": "[encoded data removed]",
      "text/plain": [
       "<Figure size 640x480 with 1 Axes>"
      ]
     },
     "metadata": {},
     "output_type": "display_data"
    }
   ],
   "source": [
    "_, ax = plt.subplots()\n",
    "temp_df_t1_wizard[\"AccuracyNoGibberish\"].plot(kind='bar', ax=ax, color='#1B9783', ylim=(0, 1.0), label=\"CorrectedAccuracy\")\n",
    "temp_df_t1_wizard[\"Accuracy\"].plot(kind='bar', ax=ax, color='#18206F', ylim=(0, 1.0), label=\"Accuracy\")\n",
    "plt.xticks([0, 1, 2], temp_df_t1_wizard['Task'], rotation=\"vertical\")\n",
    "plt.legend(loc=\"upper left\")"
   ]
  },
  {
   "cell_type": "markdown",
   "metadata": {},
   "source": [
    "# Task 2"
   ]
  },
  {
   "cell_type": "code",
   "execution_count": 22,
   "metadata": {},
   "outputs": [],
   "source": [
    "temp_df_t2 = temp_df[temp_df[\"Task\"].isin([\"task2-fs1\", \"task2-fs2\", \"task2-fs4\"])]"
   ]
  },
  {
   "cell_type": "code",
   "execution_count": 23,
   "metadata": {},
   "outputs": [
    {
     "data": {
      "text/html": [
       "<div>\n",
       "<style scoped>\n",
       "    .dataframe tbody tr th:only-of-type {\n",
       "        vertical-align: middle;\n",
       "    }\n",
       "\n",
       "    .dataframe tbody tr th {\n",
       "        vertical-align: top;\n",
       "    }\n",
       "\n",
       "    .dataframe thead th {\n",
       "        text-align: right;\n",
       "    }\n",
       "</style>\n",
       "<table border=\"1\" class=\"dataframe\">\n",
       "  <thead>\n",
       "    <tr style=\"text-align: right;\">\n",
       "      <th></th>\n",
       "      <th>Task</th>\n",
       "      <th>Model</th>\n",
       "      <th>Accuracy</th>\n",
       "      <th>AccuracyNoGibberish</th>\n",
       "    </tr>\n",
       "  </thead>\n",
       "  <tbody>\n",
       "    <tr>\n",
       "      <th>25</th>\n",
       "      <td>task2-fs1</td>\n",
       "      <td>Llama-2-13b-chat-hf</td>\n",
       "      <td>0.007</td>\n",
       "      <td>0.012891</td>\n",
       "    </tr>\n",
       "    <tr>\n",
       "      <th>15</th>\n",
       "      <td>task2-fs2</td>\n",
       "      <td>Llama-2-13b-chat-hf</td>\n",
       "      <td>0.088</td>\n",
       "      <td>0.226221</td>\n",
       "    </tr>\n",
       "    <tr>\n",
       "      <th>1</th>\n",
       "      <td>task2-fs4</td>\n",
       "      <td>Llama-2-13b-chat-hf</td>\n",
       "      <td>0.205</td>\n",
       "      <td>0.595930</td>\n",
       "    </tr>\n",
       "  </tbody>\n",
       "</table>\n",
       "</div>"
      ],
      "text/plain": [
       "         Task                Model  Accuracy  AccuracyNoGibberish\n",
       "25  task2-fs1  Llama-2-13b-chat-hf     0.007             0.012891\n",
       "15  task2-fs2  Llama-2-13b-chat-hf     0.088             0.226221\n",
       "1   task2-fs4  Llama-2-13b-chat-hf     0.205             0.595930"
      ]
     },
     "execution_count": 23,
     "metadata": {},
     "output_type": "execute_result"
    }
   ],
   "source": [
    "temp_df_t2_llama = temp_df_t2[temp_df_t2[\"Model\"]==\"Llama-2-13b-chat-hf\"]\n",
    "temp_df_t2_llama = temp_df_t2_llama.sort_values('Task')\n",
    "temp_df_t2_llama"
   ]
  },
  {
   "cell_type": "code",
   "execution_count": 24,
   "metadata": {},
   "outputs": [
    {
     "data": {
      "text/plain": [
       "<matplotlib.legend.Legend at 0x14931e4d0>"
      ]
     },
     "execution_count": 24,
     "metadata": {},
     "output_type": "execute_result"
    },
    {
     "data": {
      "image/png": "[encoded data removed]",
      "text/plain": [
       "<Figure size 640x480 with 1 Axes>"
      ]
     },
     "metadata": {},
     "output_type": "display_data"
    }
   ],
   "source": [
    "_, ax = plt.subplots()\n",
    "temp_df_t2_llama[\"AccuracyNoGibberish\"].plot(kind='bar', ax=ax, color='#1B9783', ylim=(0, 1.0), label=\"CorrectedAccuracy\")\n",
    "temp_df_t2_llama[\"Accuracy\"].plot(kind='bar', ax=ax, color='#18206F', ylim=(0, 1.0), label=\"Accuracy\")\n",
    "plt.xticks([0, 1, 2], temp_df_t2_llama['Task'], rotation=\"vertical\")\n",
    "plt.legend(loc=\"upper left\")"
   ]
  },
  {
   "cell_type": "code",
   "execution_count": 25,
   "metadata": {},
   "outputs": [
    {
     "data": {
      "text/html": [
       "<div>\n",
       "<style scoped>\n",
       "    .dataframe tbody tr th:only-of-type {\n",
       "        vertical-align: middle;\n",
       "    }\n",
       "\n",
       "    .dataframe tbody tr th {\n",
       "        vertical-align: top;\n",
       "    }\n",
       "\n",
       "    .dataframe thead th {\n",
       "        text-align: right;\n",
       "    }\n",
       "</style>\n",
       "<table border=\"1\" class=\"dataframe\">\n",
       "  <thead>\n",
       "    <tr style=\"text-align: right;\">\n",
       "      <th></th>\n",
       "      <th>Task</th>\n",
       "      <th>Model</th>\n",
       "      <th>Accuracy</th>\n",
       "      <th>AccuracyNoGibberish</th>\n",
       "    </tr>\n",
       "  </thead>\n",
       "  <tbody>\n",
       "    <tr>\n",
       "      <th>35</th>\n",
       "      <td>task2-fs1</td>\n",
       "      <td>falcon-7b</td>\n",
       "      <td>0.164</td>\n",
       "      <td>0.456825</td>\n",
       "    </tr>\n",
       "    <tr>\n",
       "      <th>11</th>\n",
       "      <td>task2-fs2</td>\n",
       "      <td>falcon-7b</td>\n",
       "      <td>0.243</td>\n",
       "      <td>0.507307</td>\n",
       "    </tr>\n",
       "    <tr>\n",
       "      <th>20</th>\n",
       "      <td>task2-fs4</td>\n",
       "      <td>falcon-7b</td>\n",
       "      <td>0.144</td>\n",
       "      <td>0.562500</td>\n",
       "    </tr>\n",
       "  </tbody>\n",
       "</table>\n",
       "</div>"
      ],
      "text/plain": [
       "         Task      Model  Accuracy  AccuracyNoGibberish\n",
       "35  task2-fs1  falcon-7b     0.164             0.456825\n",
       "11  task2-fs2  falcon-7b     0.243             0.507307\n",
       "20  task2-fs4  falcon-7b     0.144             0.562500"
      ]
     },
     "execution_count": 25,
     "metadata": {},
     "output_type": "execute_result"
    }
   ],
   "source": [
    "temp_df_t2_falcon = temp_df_t2[temp_df_t2[\"Model\"]==\"falcon-7b\"]\n",
    "temp_df_t2_falcon = temp_df_t2_falcon.sort_values('Task')\n",
    "temp_df_t2_falcon"
   ]
  },
  {
   "cell_type": "code",
   "execution_count": 26,
   "metadata": {},
   "outputs": [
    {
     "data": {
      "text/plain": [
       "<matplotlib.legend.Legend at 0x149397f40>"
      ]
     },
     "execution_count": 26,
     "metadata": {},
     "output_type": "execute_result"
    },
    {
     "data": {
      "image/png": "[encoded data removed]",
      "text/plain": [
       "<Figure size 640x480 with 1 Axes>"
      ]
     },
     "metadata": {},
     "output_type": "display_data"
    }
   ],
   "source": [
    "_, ax = plt.subplots()\n",
    "temp_df_t2_falcon[\"AccuracyNoGibberish\"].plot(kind='bar', ax=ax, color='#1B9783', ylim=(0, 1.0), label=\"CorrectedAccuracy\")\n",
    "temp_df_t2_falcon[\"Accuracy\"].plot(kind='bar', ax=ax, color='#18206F', ylim=(0, 1.0), label=\"Accuracy\")\n",
    "plt.xticks([0, 1, 2], temp_df_t2_falcon['Task'], rotation=\"vertical\")\n",
    "plt.legend(loc=\"upper left\")"
   ]
  },
  {
   "cell_type": "code",
   "execution_count": 27,
   "metadata": {},
   "outputs": [
    {
     "data": {
      "text/html": [
       "<div>\n",
       "<style scoped>\n",
       "    .dataframe tbody tr th:only-of-type {\n",
       "        vertical-align: middle;\n",
       "    }\n",
       "\n",
       "    .dataframe tbody tr th {\n",
       "        vertical-align: top;\n",
       "    }\n",
       "\n",
       "    .dataframe thead th {\n",
       "        text-align: right;\n",
       "    }\n",
       "</style>\n",
       "<table border=\"1\" class=\"dataframe\">\n",
       "  <thead>\n",
       "    <tr style=\"text-align: right;\">\n",
       "      <th></th>\n",
       "      <th>Task</th>\n",
       "      <th>Model</th>\n",
       "      <th>Accuracy</th>\n",
       "      <th>AccuracyNoGibberish</th>\n",
       "    </tr>\n",
       "  </thead>\n",
       "  <tbody>\n",
       "    <tr>\n",
       "      <th>34</th>\n",
       "      <td>task2-fs1</td>\n",
       "      <td>flan-ul2</td>\n",
       "      <td>0.0</td>\n",
       "      <td>0.0</td>\n",
       "    </tr>\n",
       "    <tr>\n",
       "      <th>13</th>\n",
       "      <td>task2-fs2</td>\n",
       "      <td>flan-ul2</td>\n",
       "      <td>0.0</td>\n",
       "      <td>0.0</td>\n",
       "    </tr>\n",
       "    <tr>\n",
       "      <th>9</th>\n",
       "      <td>task2-fs4</td>\n",
       "      <td>flan-ul2</td>\n",
       "      <td>0.0</td>\n",
       "      <td>0.0</td>\n",
       "    </tr>\n",
       "  </tbody>\n",
       "</table>\n",
       "</div>"
      ],
      "text/plain": [
       "         Task     Model  Accuracy  AccuracyNoGibberish\n",
       "34  task2-fs1  flan-ul2       0.0                  0.0\n",
       "13  task2-fs2  flan-ul2       0.0                  0.0\n",
       "9   task2-fs4  flan-ul2       0.0                  0.0"
      ]
     },
     "execution_count": 27,
     "metadata": {},
     "output_type": "execute_result"
    }
   ],
   "source": [
    "temp_df_t2_ul2 = temp_df_t2[temp_df_t2[\"Model\"]==\"flan-ul2\"]\n",
    "temp_df_t2_ul2 = temp_df_t2_ul2.sort_values('Task')\n",
    "temp_df_t2_ul2"
   ]
  },
  {
   "cell_type": "code",
   "execution_count": 28,
   "metadata": {},
   "outputs": [
    {
     "data": {
      "text/plain": [
       "<matplotlib.legend.Legend at 0x14934fe80>"
      ]
     },
     "execution_count": 28,
     "metadata": {},
     "output_type": "execute_result"
    },
    {
     "data": {
      "image/png": "[encoded data removed]",
      "text/plain": [
       "<Figure size 640x480 with 1 Axes>"
      ]
     },
     "metadata": {},
     "output_type": "display_data"
    }
   ],
   "source": [
    "_, ax = plt.subplots()\n",
    "temp_df_t2_ul2[\"AccuracyNoGibberish\"].plot(kind='bar', ax=ax, color='#1B9783', ylim=(0, 1.0), label=\"CorrectedAccuracy\")\n",
    "temp_df_t2_ul2[\"Accuracy\"].plot(kind='bar', ax=ax, color='#18206F', ylim=(0, 1.0), label=\"Accuracy\")\n",
    "plt.xticks([0, 1, 2], temp_df_t2_ul2['Task'], rotation=\"vertical\")\n",
    "plt.legend(loc=\"upper left\")"
   ]
  },
  {
   "cell_type": "code",
   "execution_count": 32,
   "metadata": {},
   "outputs": [
    {
     "data": {
      "text/html": [
       "<div>\n",
       "<style scoped>\n",
       "    .dataframe tbody tr th:only-of-type {\n",
       "        vertical-align: middle;\n",
       "    }\n",
       "\n",
       "    .dataframe tbody tr th {\n",
       "        vertical-align: top;\n",
       "    }\n",
       "\n",
       "    .dataframe thead th {\n",
       "        text-align: right;\n",
       "    }\n",
       "</style>\n",
       "<table border=\"1\" class=\"dataframe\">\n",
       "  <thead>\n",
       "    <tr style=\"text-align: right;\">\n",
       "      <th></th>\n",
       "      <th>Task</th>\n",
       "      <th>Model</th>\n",
       "      <th>Accuracy</th>\n",
       "      <th>AccuracyNoGibberish</th>\n",
       "    </tr>\n",
       "  </thead>\n",
       "  <tbody>\n",
       "    <tr>\n",
       "      <th>6</th>\n",
       "      <td>task2-fs1</td>\n",
       "      <td>orca-13b</td>\n",
       "      <td>0.597</td>\n",
       "      <td>0.601208</td>\n",
       "    </tr>\n",
       "    <tr>\n",
       "      <th>41</th>\n",
       "      <td>task2-fs2</td>\n",
       "      <td>orca-13b</td>\n",
       "      <td>0.696</td>\n",
       "      <td>0.708037</td>\n",
       "    </tr>\n",
       "    <tr>\n",
       "      <th>31</th>\n",
       "      <td>task2-fs4</td>\n",
       "      <td>orca-13b</td>\n",
       "      <td>0.626</td>\n",
       "      <td>0.654812</td>\n",
       "    </tr>\n",
       "  </tbody>\n",
       "</table>\n",
       "</div>"
      ],
      "text/plain": [
       "         Task     Model  Accuracy  AccuracyNoGibberish\n",
       "6   task2-fs1  orca-13b     0.597             0.601208\n",
       "41  task2-fs2  orca-13b     0.696             0.708037\n",
       "31  task2-fs4  orca-13b     0.626             0.654812"
      ]
     },
     "execution_count": 32,
     "metadata": {},
     "output_type": "execute_result"
    }
   ],
   "source": [
    "temp_df_t2_orca = temp_df_t2[temp_df_t2[\"Model\"]==\"orca-13b\"]\n",
    "temp_df_t2_orca = temp_df_t2_orca.sort_values('Task')\n",
    "temp_df_t2_orca"
   ]
  },
  {
   "cell_type": "code",
   "execution_count": 33,
   "metadata": {},
   "outputs": [
    {
     "data": {
      "text/plain": [
       "<matplotlib.legend.Legend at 0x149376dd0>"
      ]
     },
     "execution_count": 33,
     "metadata": {},
     "output_type": "execute_result"
    },
    {
     "data": {
      "image/png": "[encoded data removed]",
      "text/plain": [
       "<Figure size 640x480 with 1 Axes>"
      ]
     },
     "metadata": {},
     "output_type": "display_data"
    }
   ],
   "source": [
    "_, ax = plt.subplots()\n",
    "temp_df_t2_orca[\"AccuracyNoGibberish\"].plot(kind='bar', ax=ax, color='#1B9783', ylim=(0, 1.0), label=\"CorrectedAccuracy\")\n",
    "temp_df_t2_orca[\"Accuracy\"].plot(kind='bar', ax=ax, color='#18206F', ylim=(0, 1.0), label=\"Accuracy\")\n",
    "plt.xticks([0, 1, 2], temp_df_t2_orca['Task'], rotation=\"vertical\")\n",
    "plt.legend(loc=\"upper left\")"
   ]
  },
  {
   "cell_type": "code",
   "execution_count": 45,
   "metadata": {},
   "outputs": [
    {
     "data": {
      "text/html": [
       "<div>\n",
       "<style scoped>\n",
       "    .dataframe tbody tr th:only-of-type {\n",
       "        vertical-align: middle;\n",
       "    }\n",
       "\n",
       "    .dataframe tbody tr th {\n",
       "        vertical-align: top;\n",
       "    }\n",
       "\n",
       "    .dataframe thead th {\n",
       "        text-align: right;\n",
       "    }\n",
       "</style>\n",
       "<table border=\"1\" class=\"dataframe\">\n",
       "  <thead>\n",
       "    <tr style=\"text-align: right;\">\n",
       "      <th></th>\n",
       "      <th>Task</th>\n",
       "      <th>Model</th>\n",
       "      <th>Accuracy</th>\n",
       "      <th>AccuracyNoGibberish</th>\n",
       "    </tr>\n",
       "  </thead>\n",
       "  <tbody>\n",
       "    <tr>\n",
       "      <th>17</th>\n",
       "      <td>task2-fs1</td>\n",
       "      <td>Wizard-15b</td>\n",
       "      <td>0.591</td>\n",
       "      <td>0.606154</td>\n",
       "    </tr>\n",
       "    <tr>\n",
       "      <th>27</th>\n",
       "      <td>task2-fs2</td>\n",
       "      <td>Wizard-15b</td>\n",
       "      <td>0.468</td>\n",
       "      <td>0.560479</td>\n",
       "    </tr>\n",
       "    <tr>\n",
       "      <th>42</th>\n",
       "      <td>task2-fs4</td>\n",
       "      <td>Wizard-15b</td>\n",
       "      <td>0.511</td>\n",
       "      <td>0.577401</td>\n",
       "    </tr>\n",
       "  </tbody>\n",
       "</table>\n",
       "</div>"
      ],
      "text/plain": [
       "         Task       Model  Accuracy  AccuracyNoGibberish\n",
       "17  task2-fs1  Wizard-15b     0.591             0.606154\n",
       "27  task2-fs2  Wizard-15b     0.468             0.560479\n",
       "42  task2-fs4  Wizard-15b     0.511             0.577401"
      ]
     },
     "execution_count": 45,
     "metadata": {},
     "output_type": "execute_result"
    }
   ],
   "source": [
    "temp_df_t2_wizard = temp_df_t2[temp_df_t2[\"Model\"]==\"Wizard-15b\"]\n",
    "temp_df_t2_wizard = temp_df_t2_wizard.sort_values('Task')\n",
    "temp_df_t2_wizard"
   ]
  },
  {
   "cell_type": "code",
   "execution_count": 46,
   "metadata": {},
   "outputs": [
    {
     "data": {
      "text/plain": [
       "<matplotlib.legend.Legend at 0x1497a3ac0>"
      ]
     },
     "execution_count": 46,
     "metadata": {},
     "output_type": "execute_result"
    },
    {
     "data": {
      "image/png": "[encoded data removed]",
      "text/plain": [
       "<Figure size 640x480 with 1 Axes>"
      ]
     },
     "metadata": {},
     "output_type": "display_data"
    }
   ],
   "source": [
    "_, ax = plt.subplots()\n",
    "temp_df_t2_wizard[\"AccuracyNoGibberish\"].plot(kind='bar', ax=ax, color='#1B9783', ylim=(0, 1.0), label=\"CorrectedAccuracy\")\n",
    "temp_df_t2_wizard[\"Accuracy\"].plot(kind='bar', ax=ax, color='#18206F', ylim=(0, 1.0), label=\"Accuracy\")\n",
    "plt.xticks([0, 1, 2], temp_df_t2_wizard['Task'], rotation=\"vertical\")\n",
    "plt.legend(loc=\"upper left\")"
   ]
  },
  {
   "cell_type": "markdown",
   "metadata": {},
   "source": [
    "# Task 3"
   ]
  },
  {
   "cell_type": "code",
   "execution_count": 36,
   "metadata": {},
   "outputs": [],
   "source": [
    "temp_df_t3 = temp_df[temp_df[\"Task\"].isin([\"task3-fs1\", \"task3-fs2\", \"task3-fs4\"])]"
   ]
  },
  {
   "cell_type": "code",
   "execution_count": 37,
   "metadata": {},
   "outputs": [
    {
     "data": {
      "text/html": [
       "<div>\n",
       "<style scoped>\n",
       "    .dataframe tbody tr th:only-of-type {\n",
       "        vertical-align: middle;\n",
       "    }\n",
       "\n",
       "    .dataframe tbody tr th {\n",
       "        vertical-align: top;\n",
       "    }\n",
       "\n",
       "    .dataframe thead th {\n",
       "        text-align: right;\n",
       "    }\n",
       "</style>\n",
       "<table border=\"1\" class=\"dataframe\">\n",
       "  <thead>\n",
       "    <tr style=\"text-align: right;\">\n",
       "      <th></th>\n",
       "      <th>Task</th>\n",
       "      <th>Model</th>\n",
       "      <th>Accuracy</th>\n",
       "      <th>AccuracyNoGibberish</th>\n",
       "    </tr>\n",
       "  </thead>\n",
       "  <tbody>\n",
       "    <tr>\n",
       "      <th>24</th>\n",
       "      <td>task3-fs1</td>\n",
       "      <td>Llama-2-13b-chat-hf</td>\n",
       "      <td>0.510</td>\n",
       "      <td>0.510</td>\n",
       "    </tr>\n",
       "    <tr>\n",
       "      <th>16</th>\n",
       "      <td>task3-fs2</td>\n",
       "      <td>Llama-2-13b-chat-hf</td>\n",
       "      <td>0.504</td>\n",
       "      <td>0.504</td>\n",
       "    </tr>\n",
       "    <tr>\n",
       "      <th>0</th>\n",
       "      <td>task3-fs4</td>\n",
       "      <td>Llama-2-13b-chat-hf</td>\n",
       "      <td>0.503</td>\n",
       "      <td>0.503</td>\n",
       "    </tr>\n",
       "  </tbody>\n",
       "</table>\n",
       "</div>"
      ],
      "text/plain": [
       "         Task                Model  Accuracy  AccuracyNoGibberish\n",
       "24  task3-fs1  Llama-2-13b-chat-hf     0.510                0.510\n",
       "16  task3-fs2  Llama-2-13b-chat-hf     0.504                0.504\n",
       "0   task3-fs4  Llama-2-13b-chat-hf     0.503                0.503"
      ]
     },
     "execution_count": 37,
     "metadata": {},
     "output_type": "execute_result"
    }
   ],
   "source": [
    "temp_df_t3_llama = temp_df_t3[temp_df_t3[\"Model\"]==\"Llama-2-13b-chat-hf\"]\n",
    "temp_df_t3_llama = temp_df_t3_llama.sort_values('Task')\n",
    "temp_df_t3_llama"
   ]
  },
  {
   "cell_type": "code",
   "execution_count": 38,
   "metadata": {},
   "outputs": [
    {
     "data": {
      "text/plain": [
       "<matplotlib.legend.Legend at 0x1496239d0>"
      ]
     },
     "execution_count": 38,
     "metadata": {},
     "output_type": "execute_result"
    },
    {
     "data": {
      "image/png": "[encoded data removed]",
      "text/plain": [
       "<Figure size 640x480 with 1 Axes>"
      ]
     },
     "metadata": {},
     "output_type": "display_data"
    }
   ],
   "source": [
    "_, ax = plt.subplots()\n",
    "temp_df_t3_llama[\"AccuracyNoGibberish\"].plot(kind='bar', ax=ax, color='#1B9783', ylim=(0, 1.0), label=\"CorrectedAccuracy\")\n",
    "temp_df_t3_llama[\"Accuracy\"].plot(kind='bar', ax=ax, color='#18206F', ylim=(0, 1.0), label=\"Accuracy\")\n",
    "plt.xticks([0, 1, 2], temp_df_t3_llama['Task'], rotation=\"vertical\")\n",
    "plt.legend(loc=\"upper left\")"
   ]
  },
  {
   "cell_type": "code",
   "execution_count": 39,
   "metadata": {},
   "outputs": [
    {
     "data": {
      "text/html": [
       "<div>\n",
       "<style scoped>\n",
       "    .dataframe tbody tr th:only-of-type {\n",
       "        vertical-align: middle;\n",
       "    }\n",
       "\n",
       "    .dataframe tbody tr th {\n",
       "        vertical-align: top;\n",
       "    }\n",
       "\n",
       "    .dataframe thead th {\n",
       "        text-align: right;\n",
       "    }\n",
       "</style>\n",
       "<table border=\"1\" class=\"dataframe\">\n",
       "  <thead>\n",
       "    <tr style=\"text-align: right;\">\n",
       "      <th></th>\n",
       "      <th>Task</th>\n",
       "      <th>Model</th>\n",
       "      <th>Accuracy</th>\n",
       "      <th>AccuracyNoGibberish</th>\n",
       "    </tr>\n",
       "  </thead>\n",
       "  <tbody>\n",
       "    <tr>\n",
       "      <th>36</th>\n",
       "      <td>task3-fs1</td>\n",
       "      <td>falcon-7b</td>\n",
       "      <td>0.493</td>\n",
       "      <td>0.493</td>\n",
       "    </tr>\n",
       "    <tr>\n",
       "      <th>10</th>\n",
       "      <td>task3-fs2</td>\n",
       "      <td>falcon-7b</td>\n",
       "      <td>0.493</td>\n",
       "      <td>0.493</td>\n",
       "    </tr>\n",
       "    <tr>\n",
       "      <th>21</th>\n",
       "      <td>task3-fs4</td>\n",
       "      <td>falcon-7b</td>\n",
       "      <td>0.493</td>\n",
       "      <td>0.493</td>\n",
       "    </tr>\n",
       "  </tbody>\n",
       "</table>\n",
       "</div>"
      ],
      "text/plain": [
       "         Task      Model  Accuracy  AccuracyNoGibberish\n",
       "36  task3-fs1  falcon-7b     0.493                0.493\n",
       "10  task3-fs2  falcon-7b     0.493                0.493\n",
       "21  task3-fs4  falcon-7b     0.493                0.493"
      ]
     },
     "execution_count": 39,
     "metadata": {},
     "output_type": "execute_result"
    }
   ],
   "source": [
    "temp_df_t3_falcon = temp_df_t3[temp_df_t3[\"Model\"]==\"falcon-7b\"]\n",
    "temp_df_t3_falcon = temp_df_t3_falcon.sort_values('Task')\n",
    "temp_df_t3_falcon"
   ]
  },
  {
   "cell_type": "code",
   "execution_count": 40,
   "metadata": {},
   "outputs": [
    {
     "data": {
      "text/plain": [
       "<matplotlib.legend.Legend at 0x14969c880>"
      ]
     },
     "execution_count": 40,
     "metadata": {},
     "output_type": "execute_result"
    },
    {
     "data": {
      "image/png": "[encoded data removed]",
      "text/plain": [
       "<Figure size 640x480 with 1 Axes>"
      ]
     },
     "metadata": {},
     "output_type": "display_data"
    }
   ],
   "source": [
    "_, ax = plt.subplots()\n",
    "temp_df_t3_falcon[\"AccuracyNoGibberish\"].plot(kind='bar', ax=ax, color='#1B9783', ylim=(0, 1.0), label=\"CorrectedAccuracy\")\n",
    "temp_df_t3_falcon[\"Accuracy\"].plot(kind='bar', ax=ax, color='#18206F', ylim=(0, 1.0), label=\"Accuracy\")\n",
    "plt.xticks([0, 1, 2], temp_df_t3_falcon['Task'], rotation=\"vertical\")\n",
    "plt.legend(loc=\"upper left\")"
   ]
  },
  {
   "cell_type": "code",
   "execution_count": 41,
   "metadata": {},
   "outputs": [
    {
     "data": {
      "text/html": [
       "<div>\n",
       "<style scoped>\n",
       "    .dataframe tbody tr th:only-of-type {\n",
       "        vertical-align: middle;\n",
       "    }\n",
       "\n",
       "    .dataframe tbody tr th {\n",
       "        vertical-align: top;\n",
       "    }\n",
       "\n",
       "    .dataframe thead th {\n",
       "        text-align: right;\n",
       "    }\n",
       "</style>\n",
       "<table border=\"1\" class=\"dataframe\">\n",
       "  <thead>\n",
       "    <tr style=\"text-align: right;\">\n",
       "      <th></th>\n",
       "      <th>Task</th>\n",
       "      <th>Model</th>\n",
       "      <th>Accuracy</th>\n",
       "      <th>AccuracyNoGibberish</th>\n",
       "    </tr>\n",
       "  </thead>\n",
       "  <tbody>\n",
       "    <tr>\n",
       "      <th>33</th>\n",
       "      <td>task3-fs1</td>\n",
       "      <td>flan-ul2</td>\n",
       "      <td>0.488</td>\n",
       "      <td>0.488</td>\n",
       "    </tr>\n",
       "    <tr>\n",
       "      <th>14</th>\n",
       "      <td>task3-fs2</td>\n",
       "      <td>flan-ul2</td>\n",
       "      <td>0.481</td>\n",
       "      <td>0.481</td>\n",
       "    </tr>\n",
       "    <tr>\n",
       "      <th>8</th>\n",
       "      <td>task3-fs4</td>\n",
       "      <td>flan-ul2</td>\n",
       "      <td>0.478</td>\n",
       "      <td>0.478</td>\n",
       "    </tr>\n",
       "  </tbody>\n",
       "</table>\n",
       "</div>"
      ],
      "text/plain": [
       "         Task     Model  Accuracy  AccuracyNoGibberish\n",
       "33  task3-fs1  flan-ul2     0.488                0.488\n",
       "14  task3-fs2  flan-ul2     0.481                0.481\n",
       "8   task3-fs4  flan-ul2     0.478                0.478"
      ]
     },
     "execution_count": 41,
     "metadata": {},
     "output_type": "execute_result"
    }
   ],
   "source": [
    "temp_df_t3_ul2 = temp_df_t3[temp_df_t3[\"Model\"]==\"flan-ul2\"]\n",
    "temp_df_t3_ul2 = temp_df_t3_ul2.sort_values('Task')\n",
    "temp_df_t3_ul2"
   ]
  },
  {
   "cell_type": "code",
   "execution_count": 42,
   "metadata": {},
   "outputs": [
    {
     "data": {
      "text/plain": [
       "<matplotlib.legend.Legend at 0x14971ffa0>"
      ]
     },
     "execution_count": 42,
     "metadata": {},
     "output_type": "execute_result"
    },
    {
     "data": {
      "image/png": "[encoded data removed]",
      "text/plain": [
       "<Figure size 640x480 with 1 Axes>"
      ]
     },
     "metadata": {},
     "output_type": "display_data"
    }
   ],
   "source": [
    "_, ax = plt.subplots()\n",
    "temp_df_t3_ul2[\"AccuracyNoGibberish\"].plot(kind='bar', ax=ax, color='#1B9783', ylim=(0, 1.0), label=\"CorrectedAccuracy\")\n",
    "temp_df_t3_ul2[\"Accuracy\"].plot(kind='bar', ax=ax, color='#18206F', ylim=(0, 1.0), label=\"Accuracy\")\n",
    "plt.xticks([0, 1, 2], temp_df_t3_ul2['Task'], rotation=\"vertical\")\n",
    "plt.legend(loc=\"upper left\")"
   ]
  },
  {
   "cell_type": "code",
   "execution_count": 47,
   "metadata": {},
   "outputs": [
    {
     "data": {
      "text/html": [
       "<div>\n",
       "<style scoped>\n",
       "    .dataframe tbody tr th:only-of-type {\n",
       "        vertical-align: middle;\n",
       "    }\n",
       "\n",
       "    .dataframe tbody tr th {\n",
       "        vertical-align: top;\n",
       "    }\n",
       "\n",
       "    .dataframe thead th {\n",
       "        text-align: right;\n",
       "    }\n",
       "</style>\n",
       "<table border=\"1\" class=\"dataframe\">\n",
       "  <thead>\n",
       "    <tr style=\"text-align: right;\">\n",
       "      <th></th>\n",
       "      <th>Task</th>\n",
       "      <th>Model</th>\n",
       "      <th>Accuracy</th>\n",
       "      <th>AccuracyNoGibberish</th>\n",
       "    </tr>\n",
       "  </thead>\n",
       "  <tbody>\n",
       "    <tr>\n",
       "      <th>7</th>\n",
       "      <td>task3-fs1</td>\n",
       "      <td>orca-13b</td>\n",
       "      <td>0.501</td>\n",
       "      <td>0.501</td>\n",
       "    </tr>\n",
       "    <tr>\n",
       "      <th>40</th>\n",
       "      <td>task3-fs2</td>\n",
       "      <td>orca-13b</td>\n",
       "      <td>0.494</td>\n",
       "      <td>0.494</td>\n",
       "    </tr>\n",
       "    <tr>\n",
       "      <th>32</th>\n",
       "      <td>task3-fs4</td>\n",
       "      <td>orca-13b</td>\n",
       "      <td>0.497</td>\n",
       "      <td>0.497</td>\n",
       "    </tr>\n",
       "  </tbody>\n",
       "</table>\n",
       "</div>"
      ],
      "text/plain": [
       "         Task     Model  Accuracy  AccuracyNoGibberish\n",
       "7   task3-fs1  orca-13b     0.501                0.501\n",
       "40  task3-fs2  orca-13b     0.494                0.494\n",
       "32  task3-fs4  orca-13b     0.497                0.497"
      ]
     },
     "execution_count": 47,
     "metadata": {},
     "output_type": "execute_result"
    }
   ],
   "source": [
    "temp_df_t3_orca = temp_df_t3[temp_df_t3[\"Model\"]==\"orca-13b\"]\n",
    "temp_df_t3_orca = temp_df_t3_orca.sort_values('Task')\n",
    "temp_df_t3_orca"
   ]
  },
  {
   "cell_type": "code",
   "execution_count": 48,
   "metadata": {},
   "outputs": [
    {
     "data": {
      "text/plain": [
       "<matplotlib.legend.Legend at 0x149807220>"
      ]
     },
     "execution_count": 48,
     "metadata": {},
     "output_type": "execute_result"
    },
    {
     "data": {
      "image/png": "[encoded data removed]",
      "text/plain": [
       "<Figure size 640x480 with 1 Axes>"
      ]
     },
     "metadata": {},
     "output_type": "display_data"
    }
   ],
   "source": [
    "_, ax = plt.subplots()\n",
    "temp_df_t3_orca[\"AccuracyNoGibberish\"].plot(kind='bar', ax=ax, color='#1B9783', ylim=(0, 1.0), label=\"CorrectedAccuracy\")\n",
    "temp_df_t3_orca[\"Accuracy\"].plot(kind='bar', ax=ax, color='#18206F', ylim=(0, 1.0), label=\"Accuracy\")\n",
    "plt.xticks([0, 1, 2], temp_df_t3_orca['Task'], rotation=\"vertical\")\n",
    "plt.legend(loc=\"upper left\")"
   ]
  },
  {
   "cell_type": "code",
   "execution_count": 49,
   "metadata": {},
   "outputs": [
    {
     "data": {
      "text/html": [
       "<div>\n",
       "<style scoped>\n",
       "    .dataframe tbody tr th:only-of-type {\n",
       "        vertical-align: middle;\n",
       "    }\n",
       "\n",
       "    .dataframe tbody tr th {\n",
       "        vertical-align: top;\n",
       "    }\n",
       "\n",
       "    .dataframe thead th {\n",
       "        text-align: right;\n",
       "    }\n",
       "</style>\n",
       "<table border=\"1\" class=\"dataframe\">\n",
       "  <thead>\n",
       "    <tr style=\"text-align: right;\">\n",
       "      <th></th>\n",
       "      <th>Task</th>\n",
       "      <th>Model</th>\n",
       "      <th>Accuracy</th>\n",
       "      <th>AccuracyNoGibberish</th>\n",
       "    </tr>\n",
       "  </thead>\n",
       "  <tbody>\n",
       "    <tr>\n",
       "      <th>18</th>\n",
       "      <td>task3-fs1</td>\n",
       "      <td>Wizard-15b</td>\n",
       "      <td>0.486</td>\n",
       "      <td>0.486</td>\n",
       "    </tr>\n",
       "    <tr>\n",
       "      <th>26</th>\n",
       "      <td>task3-fs2</td>\n",
       "      <td>Wizard-15b</td>\n",
       "      <td>0.511</td>\n",
       "      <td>0.511</td>\n",
       "    </tr>\n",
       "    <tr>\n",
       "      <th>43</th>\n",
       "      <td>task3-fs4</td>\n",
       "      <td>Wizard-15b</td>\n",
       "      <td>0.506</td>\n",
       "      <td>0.506</td>\n",
       "    </tr>\n",
       "  </tbody>\n",
       "</table>\n",
       "</div>"
      ],
      "text/plain": [
       "         Task       Model  Accuracy  AccuracyNoGibberish\n",
       "18  task3-fs1  Wizard-15b     0.486                0.486\n",
       "26  task3-fs2  Wizard-15b     0.511                0.511\n",
       "43  task3-fs4  Wizard-15b     0.506                0.506"
      ]
     },
     "execution_count": 49,
     "metadata": {},
     "output_type": "execute_result"
    }
   ],
   "source": [
    "temp_df_t3_wizard = temp_df_t3[temp_df_t3[\"Model\"]==\"Wizard-15b\"]\n",
    "temp_df_t3_wizard = temp_df_t3_wizard.sort_values('Task')\n",
    "temp_df_t3_wizard"
   ]
  },
  {
   "cell_type": "code",
   "execution_count": 50,
   "metadata": {},
   "outputs": [
    {
     "data": {
      "text/plain": [
       "<matplotlib.legend.Legend at 0x14988ebf0>"
      ]
     },
     "execution_count": 50,
     "metadata": {},
     "output_type": "execute_result"
    },
    {
     "data": {
      "image/png": "[encoded data removed]",
      "text/plain": [
       "<Figure size 640x480 with 1 Axes>"
      ]
     },
     "metadata": {},
     "output_type": "display_data"
    }
   ],
   "source": [
    "_, ax = plt.subplots()\n",
    "temp_df_t3_wizard[\"AccuracyNoGibberish\"].plot(kind='bar', ax=ax, color='#1B9783', ylim=(0, 1.0), label=\"CorrectedAccuracy\")\n",
    "temp_df_t3_wizard[\"Accuracy\"].plot(kind='bar', ax=ax, color='#18206F', ylim=(0, 1.0), label=\"Accuracy\")\n",
    "plt.xticks([0, 1, 2], temp_df_t3_wizard['Task'], rotation=\"vertical\")\n",
    "plt.legend(loc=\"upper left\")"
   ]
  },
  {
   "cell_type": "code",
   "execution_count": null,
   "metadata": {},
   "outputs": [],
   "source": []
  }
 ],
 "metadata": {
  "colab": {
   "provenance": []
  },
  "kernelspec": {
   "display_name": "Python 3 (ipykernel)",
   "language": "python",
   "name": "python3"
  },
  "language_info": {
   "codemirror_mode": {
    "name": "ipython",
    "version": 3
   },
   "file_extension": ".py",
   "mimetype": "text/x-python",
   "name": "python",
   "nbconvert_exporter": "python",
   "pygments_lexer": "ipython3",
   "version": "3.10.12"
  },
  "vscode": {
   "interpreter": {
    "hash": "b0fa6594d8f4cbf19f97940f81e996739fb7646882a419484c72d19e05852a7e"
   }
  }
 },
 "nbformat": 4,
 "nbformat_minor": 4
}
