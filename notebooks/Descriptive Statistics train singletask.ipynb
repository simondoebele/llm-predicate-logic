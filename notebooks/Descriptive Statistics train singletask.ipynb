{
 "cells": [
  {
   "cell_type": "markdown",
   "metadata": {},
   "source": [
    "## Descriptive Statistics"
   ]
  },
  {
   "cell_type": "markdown",
   "metadata": {},
   "source": [
    "i.e. here, I perform an analysis of the training dataset (on a single task): what is it made up of? \n",
    "That is with regards to:\n",
    "- with a certain type of quantifier? (all, exists) (is a certain type of quantifier harder?)\n",
    "- with a certain number of keys? (generally -> or specifically: with a certain number of predicates? / constants?) (is more keys / predicates / constants harder?)\n",
    "- with a certain number of constants?\n",
    "- with a certain number of predicates?\n",
    "- with a certain size of the world model? (is a bigger world model harder?)\n",
    "- with a certain number of operators? (is more operators harder?)\n",
    "- with a certain type of operator? (negation, implication, and-operator) -> especially: is there negation in front of quantifiers or not? // using only no operators vs. unary vs. binary operators // (is a certain type of operator harder (none, unary, binary)? is negation in front of quantifiers harder?)\n",
    "- etc. (e.g. do the models tend to produce tautologies / contradictions?)\n",
    "\n",
    "\n"
   ]
  },
  {
   "cell_type": "code",
   "execution_count": 1,
   "metadata": {},
   "outputs": [],
   "source": [
    "import json\n",
    "import collections\n",
    "import pandas as pd\n",
    "import matplotlib.pyplot as plt\n",
    "from datasets import load_dataset, DatasetDict, Dataset"
   ]
  },
  {
   "cell_type": "code",
   "execution_count": null,
   "metadata": {},
   "outputs": [],
   "source": [
    "filename = 'base_pred_logic_data.json'\n",
    "base_dataset = pd.read_json('../datasets/' + filename)\n",
    "base_dataset = base_dataset.iloc[0:10000]\n",
    "base_dataset.head()"
   ]
  },
  {
   "cell_type": "code",
   "execution_count": null,
   "metadata": {},
   "outputs": [],
   "source": [
    "# save a new base dataset, because Json parser always has a parse error with the valuation column\n",
    "base_dataset = base_dataset.drop(columns=['Valuation'], axis=1)\n",
    "base_dataset\n"
   ]
  },
  {
   "cell_type": "code",
   "execution_count": 4,
   "metadata": {},
   "outputs": [],
   "source": [
    "datasets = Dataset.from_pandas(base_dataset).train_test_split(test_size=0.4, seed = 200)\n",
    "train_dataset = datasets[\"train\"]\n",
    "# convert to pandas dataframe.\n",
    "base_dataset = train_dataset.to_pandas()"
   ]
  },
  {
   "cell_type": "code",
   "execution_count": null,
   "metadata": {},
   "outputs": [],
   "source": [
    "base_dataset.head()"
   ]
  },
  {
   "cell_type": "markdown",
   "metadata": {},
   "source": [
    "#### Descriptive Statistics"
   ]
  },
  {
   "cell_type": "code",
   "execution_count": 7,
   "metadata": {},
   "outputs": [
    {
     "data": {
      "text/plain": [
       "Satisfied\n",
       "unsatisfied    3037\n",
       "satisfied      2963\n",
       "Name: count, dtype: int64"
      ]
     },
     "execution_count": 7,
     "metadata": {},
     "output_type": "execute_result"
    }
   ],
   "source": [
    "satCounts = base_dataset['Satisfied'].value_counts()\n",
    "satCounts"
   ]
  },
  {
   "cell_type": "code",
   "execution_count": 8,
   "metadata": {},
   "outputs": [
    {
     "data": {
      "text/plain": [
       "Quantifiers\n",
       "all       3046\n",
       "exists    2954\n",
       "Name: count, dtype: int64"
      ]
     },
     "execution_count": 8,
     "metadata": {},
     "output_type": "execute_result"
    }
   ],
   "source": [
    "# First: show descriptive statistics of evaluation dataset:\n",
    "# number of quantifiers: all, exists\n",
    "quantifiersCounts = base_dataset['Quantifiers'].value_counts()\n",
    "quantifiersCounts\n"
   ]
  },
  {
   "cell_type": "code",
   "execution_count": 9,
   "metadata": {},
   "outputs": [
    {
     "data": {
      "text/plain": [
       "Predicates\n",
       "[G]       1666\n",
       "[F]       1600\n",
       "[G, F]       1\n",
       "[G, F]       1\n",
       "[G, F]       1\n",
       "          ... \n",
       "[G, F]       1\n",
       "[G, F]       1\n",
       "[G, F]       1\n",
       "[G, F]       1\n",
       "[G, F]       1\n",
       "Name: count, Length: 2736, dtype: int64"
      ]
     },
     "execution_count": 9,
     "metadata": {},
     "output_type": "execute_result"
    }
   ],
   "source": [
    "# distribution of predicates\n",
    "predicatesCounts = base_dataset['Predicates'].value_counts() # then add the singular F and G to one line\n",
    "predicatesCounts"
   ]
  },
  {
   "cell_type": "code",
   "execution_count": 10,
   "metadata": {},
   "outputs": [
    {
     "data": {
      "text/plain": [
       "Counter({1: 262,\n",
       "         5: 712,\n",
       "         6: 665,\n",
       "         10: 684,\n",
       "         4: 641,\n",
       "         3: 557,\n",
       "         8: 691,\n",
       "         9: 690,\n",
       "         7: 643,\n",
       "         2: 455})"
      ]
     },
     "execution_count": 10,
     "metadata": {},
     "output_type": "execute_result"
    }
   ],
   "source": [
    "# distribution of constants \n",
    "oldConstants = base_dataset['Names']\n",
    "constants = []\n",
    "for con in oldConstants:\n",
    "    constants.append(len(con))\n",
    "constantsCounts = collections.Counter(constants) # the keys() is what is counted, and the values() is the count\n",
    "constantsCounts"
   ]
  },
  {
   "cell_type": "code",
   "execution_count": 11,
   "metadata": {},
   "outputs": [
    {
     "data": {
      "text/plain": [
       "<Axes: xlabel='Number_of_constants'>"
      ]
     },
     "execution_count": 11,
     "metadata": {},
     "output_type": "execute_result"
    },
    {
     "data": {
      "image/png": "[encoded data removed]",
      "text/plain": [
       "<Figure size 640x480 with 1 Axes>"
      ]
     },
     "metadata": {},
     "output_type": "display_data"
    }
   ],
   "source": [
    "temp = pd.DataFrame(list(zip(constantsCounts.keys(), constantsCounts.values())), columns=['Number_of_constants','Count']).sort_values('Number_of_constants')\n",
    "temp.plot(kind=\"bar\", x = \"Number_of_constants\")"
   ]
  },
  {
   "cell_type": "code",
   "execution_count": 12,
   "metadata": {},
   "outputs": [
    {
     "data": {
      "text/plain": [
       "Counter({3: 331,\n",
       "         6: 692,\n",
       "         7: 666,\n",
       "         11: 674,\n",
       "         5: 600,\n",
       "         8: 664,\n",
       "         10: 679,\n",
       "         2: 168,\n",
       "         4: 531,\n",
       "         9: 651,\n",
       "         12: 344})"
      ]
     },
     "execution_count": 12,
     "metadata": {},
     "output_type": "execute_result"
    }
   ],
   "source": [
    "# distribution of keys\n",
    "keys_list = base_dataset['Keys']\n",
    "keysTemp = []\n",
    "for keys in keys_list:\n",
    "    keysTemp.append(keys.count(':'))\n",
    "keysCounts = collections.Counter(keysTemp)\n",
    "keysCounts"
   ]
  },
  {
   "cell_type": "code",
   "execution_count": 13,
   "metadata": {},
   "outputs": [
    {
     "data": {
      "text/plain": [
       "<Axes: xlabel='Number_of_keys'>"
      ]
     },
     "execution_count": 13,
     "metadata": {},
     "output_type": "execute_result"
    },
    {
     "data": {
      "image/png": "[encoded data removed]",
      "text/plain": [
       "<Figure size 640x480 with 1 Axes>"
      ]
     },
     "metadata": {},
     "output_type": "display_data"
    }
   ],
   "source": [
    "temp = pd.DataFrame(list(zip(keysCounts.keys(), keysCounts.values())), columns=['Number_of_keys','Count']).sort_values('Number_of_keys')\n",
    "temp.plot(kind=\"bar\", x = \"Number_of_keys\")"
   ]
  },
  {
   "cell_type": "code",
   "execution_count": 14,
   "metadata": {},
   "outputs": [
    {
     "data": {
      "text/plain": [
       "Counter({2: 331,\n",
       "         5: 407,\n",
       "         6: 605,\n",
       "         10: 645,\n",
       "         4: 574,\n",
       "         8: 653,\n",
       "         12: 304,\n",
       "         16: 323,\n",
       "         9: 356,\n",
       "         1: 168,\n",
       "         3: 313,\n",
       "         7: 360,\n",
       "         18: 334,\n",
       "         14: 283,\n",
       "         20: 344})"
      ]
     },
     "execution_count": 14,
     "metadata": {},
     "output_type": "execute_result"
    }
   ],
   "source": [
    "# distribution of world model size\n",
    "worldModel_list = base_dataset['World Model']\n",
    "wmTemp = []\n",
    "for wm in worldModel_list:\n",
    "    wmTemp.append(wm.count('.'))\n",
    "worldModelCounts = collections.Counter(wmTemp)\n",
    "worldModelCounts"
   ]
  },
  {
   "cell_type": "code",
   "execution_count": 16,
   "metadata": {},
   "outputs": [
    {
     "data": {
      "text/plain": [
       "<Axes: xlabel='Number_of_Sentences'>"
      ]
     },
     "execution_count": 16,
     "metadata": {},
     "output_type": "execute_result"
    },
    {
     "data": {
      "image/png": "[encoded data removed]",
      "text/plain": [
       "<Figure size 640x480 with 1 Axes>"
      ]
     },
     "metadata": {},
     "output_type": "display_data"
    }
   ],
   "source": [
    "temp = pd.DataFrame(list(zip(worldModelCounts.keys(), worldModelCounts.values())), columns=['Number_of_Sentences','Count']).sort_values('Number_of_Sentences')\n",
    "temp.plot(kind=\"bar\", x = \"Number_of_Sentences\")"
   ]
  },
  {
   "cell_type": "code",
   "execution_count": 17,
   "metadata": {},
   "outputs": [],
   "source": [
    "# generally: count all negations, implications, and-operators individually for each formula (string-find-count).\n",
    "# from this deduce another list: total number of operators => plot this count. (is more operators harder?)\n",
    "numNegations = []\n",
    "numImplications = []\n",
    "numAnds = []\n",
    "\n",
    "formula_list = base_dataset['Formula']\n",
    "for formula in formula_list:\n",
    "    numNegations.append(formula.count(\"-\"))\n",
    "    numImplications.append(formula.count(\">\"))\n",
    "    numAnds.append(formula.count(\"&\"))\n",
    "\n",
    "numTotalOperators = [a + b + c for (a, b, c) in zip(numNegations,numImplications,numAnds)]"
   ]
  },
  {
   "cell_type": "code",
   "execution_count": 18,
   "metadata": {},
   "outputs": [
    {
     "data": {
      "text/plain": [
       "Counter({3: 1768, 2: 1839, 0: 278, 1: 1068, 4: 892, 5: 155})"
      ]
     },
     "execution_count": 18,
     "metadata": {},
     "output_type": "execute_result"
    }
   ],
   "source": [
    "negationCounts = collections.Counter(numNegations)\n",
    "negationCounts"
   ]
  },
  {
   "cell_type": "code",
   "execution_count": 19,
   "metadata": {},
   "outputs": [
    {
     "data": {
      "text/plain": [
       "<Axes: xlabel='Number_of_Negations'>"
      ]
     },
     "execution_count": 19,
     "metadata": {},
     "output_type": "execute_result"
    },
    {
     "data": {
      "image/png": "[encoded data removed]",
      "text/plain": [
       "<Figure size 640x480 with 1 Axes>"
      ]
     },
     "metadata": {},
     "output_type": "display_data"
    }
   ],
   "source": [
    "temp = pd.DataFrame(list(zip(negationCounts.keys(), negationCounts.values())), columns=['Number_of_Negations','Count']).sort_values('Number_of_Negations')\n",
    "temp.plot(kind=\"bar\", x = \"Number_of_Negations\")"
   ]
  },
  {
   "cell_type": "code",
   "execution_count": 20,
   "metadata": {},
   "outputs": [
    {
     "data": {
      "text/plain": [
       "Counter({1: 2769, 0: 3231})"
      ]
     },
     "execution_count": 20,
     "metadata": {},
     "output_type": "execute_result"
    }
   ],
   "source": [
    "implicationCounts = collections.Counter(numImplications)\n",
    "implicationCounts"
   ]
  },
  {
   "cell_type": "code",
   "execution_count": 21,
   "metadata": {},
   "outputs": [
    {
     "data": {
      "text/plain": [
       "Counter({0: 3140, 1: 2860})"
      ]
     },
     "execution_count": 21,
     "metadata": {},
     "output_type": "execute_result"
    }
   ],
   "source": [
    "andCounts = collections.Counter(numAnds)\n",
    "andCounts"
   ]
  },
  {
   "cell_type": "code",
   "execution_count": 22,
   "metadata": {},
   "outputs": [
    {
     "data": {
      "text/plain": [
       "Counter({4: 1768, 3: 1744, 0: 93, 2: 980, 5: 892, 6: 155, 1: 368})"
      ]
     },
     "execution_count": 22,
     "metadata": {},
     "output_type": "execute_result"
    }
   ],
   "source": [
    "totalOperatorCounts = collections.Counter(numTotalOperators)\n",
    "totalOperatorCounts"
   ]
  },
  {
   "cell_type": "code",
   "execution_count": 23,
   "metadata": {},
   "outputs": [
    {
     "data": {
      "text/plain": [
       "<Axes: xlabel='Number_of_Operators'>"
      ]
     },
     "execution_count": 23,
     "metadata": {},
     "output_type": "execute_result"
    },
    {
     "data": {
      "image/png": "[encoded data removed]",
      "text/plain": [
       "<Figure size 640x480 with 1 Axes>"
      ]
     },
     "metadata": {},
     "output_type": "display_data"
    }
   ],
   "source": [
    "temp = pd.DataFrame(list(zip(totalOperatorCounts.keys(), totalOperatorCounts.values())), columns=['Number_of_Operators','Count']).sort_values('Number_of_Operators')\n",
    "temp.plot(kind=\"bar\", x = \"Number_of_Operators\")"
   ]
  },
  {
   "cell_type": "code",
   "execution_count": 25,
   "metadata": {},
   "outputs": [
    {
     "data": {
      "text/plain": [
       "Counter({True: 3009, False: 2991})"
      ]
     },
     "execution_count": 25,
     "metadata": {},
     "output_type": "execute_result"
    }
   ],
   "source": [
    "# how many times there is negation in front of quantifiers vs. not (is negation in front of quantifiers harder?)\n",
    "numNegationInFront = []\n",
    "for formula in formula_list:\n",
    "    if formula[0] == \"-\":\n",
    "        numNegationInFront.append(True)\n",
    "    else:\n",
    "        numNegationInFront.append(False)\n",
    "negationInFrontCounts = collections.Counter(numNegationInFront)\n",
    "negationInFrontCounts"
   ]
  },
  {
   "cell_type": "code",
   "execution_count": 26,
   "metadata": {},
   "outputs": [],
   "source": [
    "# unary is negationCounts > 0 und implicationCounts == 0 und andCounts == 0.\n",
    "# binary is negationCounts == 0 und implicationCounts > 0 oder andCounts > 0.\n",
    "# unary + binary == \n",
    "unaryOperators = []\n",
    "binaryOperators = []\n",
    "unaryBinaryOperators = []\n",
    "for nega, impl, andop in zip(numNegations, numImplications, numAnds):\n",
    "    if nega > 0:\n",
    "        binaryOperators.append(False)\n",
    "        if impl == 0 and andop == 0:\n",
    "            unaryOperators.append(True)\n",
    "            unaryBinaryOperators.append(False)\n",
    "        else:\n",
    "            unaryOperators.append(False)\n",
    "            unaryBinaryOperators.append(True)\n",
    "    else:\n",
    "        binaryOperators.append(True)\n",
    "        unaryBinaryOperators.append(False)\n",
    "        unaryOperators.append(False)"
   ]
  },
  {
   "cell_type": "code",
   "execution_count": 27,
   "metadata": {},
   "outputs": [
    {
     "data": {
      "text/plain": [
       "Counter({False: 5722, True: 278})"
      ]
     },
     "execution_count": 27,
     "metadata": {},
     "output_type": "execute_result"
    }
   ],
   "source": [
    "unaryOperatorsCounts = collections.Counter(unaryOperators)\n",
    "unaryOperatorsCounts"
   ]
  },
  {
   "cell_type": "code",
   "execution_count": 28,
   "metadata": {},
   "outputs": [
    {
     "data": {
      "text/plain": [
       "Counter({False: 5722, True: 278})"
      ]
     },
     "execution_count": 28,
     "metadata": {},
     "output_type": "execute_result"
    }
   ],
   "source": [
    "binaryOperatorsCounts = collections.Counter(binaryOperators)\n",
    "binaryOperatorsCounts"
   ]
  },
  {
   "cell_type": "code",
   "execution_count": 29,
   "metadata": {},
   "outputs": [
    {
     "data": {
      "text/plain": [
       "Counter({True: 5444, False: 556})"
      ]
     },
     "execution_count": 29,
     "metadata": {},
     "output_type": "execute_result"
    }
   ],
   "source": [
    "unaryBinaryOperatorsCounts = collections.Counter(unaryBinaryOperators)\n",
    "unaryBinaryOperatorsCounts"
   ]
  },
  {
   "cell_type": "markdown",
   "metadata": {},
   "source": [
    "### Tautologies / Contradictions"
   ]
  },
  {
   "cell_type": "code",
   "execution_count": 30,
   "metadata": {},
   "outputs": [],
   "source": [
    "import nltk\n",
    "from nltk.inference.prover9 import BaseProverCommand, Prover, Prover9Command\n",
    "from nltk.sem import Expression\n",
    "from nltk.sem.logic import (\n",
    "    AllExpression,\n",
    "    AndExpression,\n",
    "    EqualityExpression,\n",
    "    ExistsExpression,\n",
    "    Expression,\n",
    "    IffExpression,\n",
    "    ImpExpression,\n",
    "    NegatedExpression,\n",
    "    OrExpression,\n",
    ")\n",
    "from nltk import *\n",
    "from nltk.sem.drt import DrtParser\n",
    "from nltk.sem import logic"
   ]
  },
  {
   "cell_type": "code",
   "execution_count": 31,
   "metadata": {},
   "outputs": [],
   "source": [
    "# a formula without assumptions is generally false (instead of undefined) for ResolutionProver.\n",
    "# Tested the functions below so that tautologies are recognised, contradictions as well, but not other formulas (which are neither contradictions or tautologies)."
   ]
  },
  {
   "cell_type": "code",
   "execution_count": 32,
   "metadata": {},
   "outputs": [],
   "source": [
    "def is_tautology(expression):\n",
    "    # needs to be true, regardless of the input.\n",
    "    # needs to be false when negated, regardless of the input.\n",
    "    if ResolutionProver().prove(expression, [], verbose=True) and not ResolutionProver().prove(NegatedExpression(expression), [], verbose=True):\n",
    "        return True\n",
    "    else:\n",
    "        return False"
   ]
  },
  {
   "cell_type": "code",
   "execution_count": 33,
   "metadata": {},
   "outputs": [],
   "source": [
    "def is_contradiction(expression):\n",
    "    # needs to be false, regardless of the input.\n",
    "    # needs to be true when negated, regardless of the input.\n",
    "    if not ResolutionProver().prove(expression, [], verbose=True) and ResolutionProver().prove(NegatedExpression(expression), [], verbose=True):\n",
    "        return True\n",
    "    else:\n",
    "        return False"
   ]
  },
  {
   "cell_type": "code",
   "execution_count": 34,
   "metadata": {},
   "outputs": [],
   "source": [
    "read_expr = Expression.fromstring"
   ]
  },
  {
   "cell_type": "code",
   "execution_count": 35,
   "metadata": {},
   "outputs": [
    {
     "data": {
      "text/plain": [
       "<NegatedExpression -exists x.-(-G(x) -> -G(x))>"
      ]
     },
     "execution_count": 35,
     "metadata": {},
     "output_type": "execute_result"
    }
   ],
   "source": [
    "formula = read_expr(base_dataset[\"Formula\"].iloc[20])\n",
    "#formula = NegatedExpression(formula) # negating a contradiction makes it a tautology.\n",
    "formula"
   ]
  },
  {
   "cell_type": "code",
   "execution_count": 36,
   "metadata": {},
   "outputs": [
    {
     "name": "stdout",
     "output_type": "stream",
     "text": [
      "[1] {-G(z2)}  A \n",
      "[2] {G(z3)}   A \n",
      "[3] {}        (1, 2) \n",
      "\n"
     ]
    },
    {
     "data": {
      "text/plain": [
       "True"
      ]
     },
     "execution_count": 36,
     "metadata": {},
     "output_type": "execute_result"
    }
   ],
   "source": [
    "res = ResolutionProver().prove(formula, [], verbose=True)\n",
    "res"
   ]
  },
  {
   "cell_type": "markdown",
   "metadata": {},
   "source": [
    "Descriptive Statistics regarding tautologies"
   ]
  },
  {
   "cell_type": "code",
   "execution_count": null,
   "metadata": {},
   "outputs": [],
   "source": [
    "numTautologies = []\n",
    "numContradictions = []\n",
    "for i in range(len(base_dataset)):\n",
    "    formula = base_dataset['Formula'].iloc[i]\n",
    "    numTautologies.append(is_tautology(read_expr(formula)))\n",
    "    numContradictions.append(is_contradiction(read_expr(formula)))"
   ]
  },
  {
   "cell_type": "code",
   "execution_count": 38,
   "metadata": {},
   "outputs": [
    {
     "data": {
      "text/plain": [
       "Counter({False: 5294, True: 706})"
      ]
     },
     "execution_count": 38,
     "metadata": {},
     "output_type": "execute_result"
    }
   ],
   "source": [
    "numTautologies = collections.Counter(numTautologies)\n",
    "numTautologies"
   ]
  },
  {
   "cell_type": "code",
   "execution_count": 39,
   "metadata": {},
   "outputs": [
    {
     "data": {
      "text/plain": [
       "Counter({False: 5258, True: 742})"
      ]
     },
     "execution_count": 39,
     "metadata": {},
     "output_type": "execute_result"
    }
   ],
   "source": [
    "numContradictions = collections.Counter(numContradictions)\n",
    "numContradictions"
   ]
  },
  {
   "cell_type": "code",
   "execution_count": null,
   "metadata": {},
   "outputs": [],
   "source": []
  }
 ],
 "metadata": {
  "colab": {
   "provenance": []
  },
  "kernelspec": {
   "display_name": "Python 3 (ipykernel)",
   "language": "python",
   "name": "python3"
  },
  "language_info": {
   "codemirror_mode": {
    "name": "ipython",
    "version": 3
   },
   "file_extension": ".py",
   "mimetype": "text/x-python",
   "name": "python",
   "nbconvert_exporter": "python",
   "pygments_lexer": "ipython3",
   "version": "3.10.12"
  },
  "vscode": {
   "interpreter": {
    "hash": "b0fa6594d8f4cbf19f97940f81e996739fb7646882a419484c72d19e05852a7e"
   }
  }
 },
 "nbformat": 4,
 "nbformat_minor": 4
}
