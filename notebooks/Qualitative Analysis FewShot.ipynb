{
 "cells": [
  {
   "cell_type": "markdown",
   "metadata": {},
   "source": [
    "## Qualitative Analysis Fewshot"
   ]
  },
  {
   "cell_type": "code",
   "execution_count": null,
   "metadata": {},
   "outputs": [],
   "source": [
    "#from llm_formalization.Parser import parse_LLM_output\n",
    "import sys\n",
    "import os\n",
    "sys.path.append('..')\n",
    "\n",
    "from Parser import parse_LLM_output\n",
    "from evaluate_tasks import *\n",
    "import json\n",
    "from nltk.sem.logic import *\n",
    "import nltk\n",
    "from nltk.sem.logic import LogicParser, Expression\n",
    "from nltk.sem.evaluate import Valuation, Model\n",
    "import pandas as pd\n"
   ]
  },
  {
   "cell_type": "code",
   "execution_count": null,
   "metadata": {},
   "outputs": [],
   "source": [
    "files = [f for f in os.listdir('../results/fewshot-eval/') if f.endswith('.json')]\n",
    "files"
   ]
  },
  {
   "cell_type": "markdown",
   "metadata": {},
   "source": [
    "# Task 1\n"
   ]
  },
  {
   "cell_type": "code",
   "execution_count": null,
   "metadata": {},
   "outputs": [],
   "source": [
    "task1_files = [f for f in files if \"task1\" in f]\n",
    "task1_files"
   ]
  },
  {
   "cell_type": "code",
   "execution_count": null,
   "metadata": {},
   "outputs": [],
   "source": [
    "flanul2_fs4_t1 = pd.read_json('../results/fewshot-eval/' + task1_files[4])"
   ]
  },
  {
   "cell_type": "code",
   "execution_count": null,
   "metadata": {},
   "outputs": [],
   "source": [
    "flanul2_fs4_t1.head()"
   ]
  },
  {
   "cell_type": "code",
   "execution_count": null,
   "metadata": {},
   "outputs": [],
   "source": [
    "flanul2_fs4_t1.loc[flanul2_fs4_t1['Correct'] == True]"
   ]
  },
  {
   "cell_type": "code",
   "execution_count": null,
   "metadata": {},
   "outputs": [],
   "source": [
    "falcon_fs1_t1 = pd.read_json('../results/fewshot-eval/' + task1_files[2])"
   ]
  },
  {
   "cell_type": "code",
   "execution_count": null,
   "metadata": {},
   "outputs": [],
   "source": [
    "falcon_fs1_t1.head()"
   ]
  },
  {
   "cell_type": "code",
   "execution_count": null,
   "metadata": {},
   "outputs": [],
   "source": [
    "falcon_fs1_t1.loc[falcon_fs1_t1['Correct'] == True].sample(n = 30, random_state = 200)"
   ]
  },
  {
   "cell_type": "code",
   "execution_count": null,
   "metadata": {},
   "outputs": [],
   "source": [
    "falcon_fs2_t1 = pd.read_json('../results/fewshot-eval/' + task1_files[3])"
   ]
  },
  {
   "cell_type": "code",
   "execution_count": null,
   "metadata": {},
   "outputs": [],
   "source": [
    "falcon_fs2_t1.loc[falcon_fs2_t1['Correct'] == True].sample(n = 30, random_state = 200)"
   ]
  },
  {
   "cell_type": "code",
   "execution_count": null,
   "metadata": {},
   "outputs": [],
   "source": [
    "falcon_fs4_t1 = pd.read_json('../results/fewshot-eval/' + task1_files[6])"
   ]
  },
  {
   "cell_type": "code",
   "execution_count": null,
   "metadata": {},
   "outputs": [],
   "source": [
    "falcon_fs4_t1.loc[falcon_fs4_t1['Correct'] == True].sample(n = 30, random_state = 200)"
   ]
  },
  {
   "cell_type": "code",
   "execution_count": null,
   "metadata": {},
   "outputs": [],
   "source": [
    "llama_fs1_t1 = pd.read_json('../results/fewshot-eval/' + task1_files[1])"
   ]
  },
  {
   "cell_type": "code",
   "execution_count": null,
   "metadata": {},
   "outputs": [],
   "source": [
    "llama_fs1_t1.loc[llama_fs1_t1['Correct'] == True].sample(n = 30, random_state = 200)"
   ]
  },
  {
   "cell_type": "code",
   "execution_count": null,
   "metadata": {},
   "outputs": [],
   "source": [
    "llama_fs2_t1 = pd.read_json('../results/fewshot-eval/' + task1_files[7])"
   ]
  },
  {
   "cell_type": "code",
   "execution_count": null,
   "metadata": {},
   "outputs": [],
   "source": [
    "llama_fs2_t1.loc[llama_fs2_t1['Correct'] == True].sample(n = 30, random_state = 200)"
   ]
  },
  {
   "cell_type": "code",
   "execution_count": null,
   "metadata": {},
   "outputs": [],
   "source": [
    "llama_fs4_t1 = pd.read_json('../results/fewshot-eval/' + task1_files[5])"
   ]
  },
  {
   "cell_type": "code",
   "execution_count": null,
   "metadata": {},
   "outputs": [],
   "source": [
    "llama_fs4_t1.loc[llama_fs4_t1['Correct'] == True].sample(n = 30, random_state = 200)"
   ]
  },
  {
   "cell_type": "markdown",
   "metadata": {},
   "source": [
    "# Task 2"
   ]
  },
  {
   "cell_type": "code",
   "execution_count": null,
   "metadata": {},
   "outputs": [],
   "source": [
    "task2_files = [f for f in files if \"task2\" in f]\n",
    "task2_files"
   ]
  },
  {
   "cell_type": "code",
   "execution_count": null,
   "metadata": {},
   "outputs": [],
   "source": [
    "llama_fs1_t2 = pd.read_json('../results/fewshot-eval/' + task2_files[6])"
   ]
  },
  {
   "cell_type": "code",
   "execution_count": null,
   "metadata": {},
   "outputs": [],
   "source": [
    "pd.set_option('display.max_colwidth', None)\n",
    "llama_fs1_t2.loc[llama_fs1_t2['Correct'] == True]"
   ]
  },
  {
   "cell_type": "code",
   "execution_count": null,
   "metadata": {},
   "outputs": [],
   "source": [
    "llama_fs2_t2 = pd.read_json('../results/fewshot-eval/' + task2_files[4])"
   ]
  },
  {
   "cell_type": "code",
   "execution_count": null,
   "metadata": {},
   "outputs": [],
   "source": [
    "llama_fs2_t2.loc[llama_fs2_t2['Correct'] == True].sample(n = 30, random_state = 200)"
   ]
  },
  {
   "cell_type": "code",
   "execution_count": null,
   "metadata": {},
   "outputs": [],
   "source": [
    "llama_fs4_t2 = pd.read_json('../results/fewshot-eval/' + task2_files[0])"
   ]
  },
  {
   "cell_type": "code",
   "execution_count": null,
   "metadata": {},
   "outputs": [],
   "source": [
    "llama_fs4_t2.loc[llama_fs4_t2['Correct'] == True].sample(n = 30, random_state = 200)"
   ]
  },
  {
   "cell_type": "code",
   "execution_count": null,
   "metadata": {},
   "outputs": [],
   "source": [
    "falcon_fs1_t2 = pd.read_json('../results/fewshot-eval/' + task2_files[8])"
   ]
  },
  {
   "cell_type": "code",
   "execution_count": null,
   "metadata": {},
   "outputs": [],
   "source": [
    "falcon_fs1_t2.loc[falcon_fs1_t2['Correct'] == True].sample(n = 30, random_state = 200)"
   ]
  },
  {
   "cell_type": "code",
   "execution_count": null,
   "metadata": {},
   "outputs": [],
   "source": [
    "falcon_fs2_t2 = pd.read_json('../results/fewshot-eval/' + task2_files[2])"
   ]
  },
  {
   "cell_type": "code",
   "execution_count": null,
   "metadata": {},
   "outputs": [],
   "source": [
    "falcon_fs2_t2.loc[falcon_fs2_t2['Correct'] == True].sample(n = 30, random_state = 200)"
   ]
  },
  {
   "cell_type": "code",
   "execution_count": null,
   "metadata": {},
   "outputs": [],
   "source": [
    "falcon_fs4_t2 = pd.read_json('../results/fewshot-eval/' + task2_files[5])"
   ]
  },
  {
   "cell_type": "code",
   "execution_count": null,
   "metadata": {},
   "outputs": [],
   "source": [
    "falcon_fs4_t2.loc[falcon_fs4_t2['Correct'] == True].sample(n = 30, random_state = 200)"
   ]
  },
  {
   "cell_type": "code",
   "execution_count": null,
   "metadata": {},
   "outputs": [],
   "source": [
    "flanul2_fs4_t2 = pd.read_json('../results/fewshot-eval/' + task2_files[1])"
   ]
  },
  {
   "cell_type": "code",
   "execution_count": null,
   "metadata": {},
   "outputs": [],
   "source": [
    "flanul2_fs4_t2.loc[flanul2_fs4_t2['Correct'] == False].sample(n = 30, random_state = 200)"
   ]
  },
  {
   "cell_type": "markdown",
   "metadata": {},
   "source": [
    "### Task 3"
   ]
  },
  {
   "cell_type": "code",
   "execution_count": null,
   "metadata": {},
   "outputs": [],
   "source": [
    "task3_files = [f for f in files if \"task3\" in f]\n",
    "task3_files"
   ]
  },
  {
   "cell_type": "code",
   "execution_count": null,
   "metadata": {},
   "outputs": [],
   "source": [
    "flanul2_fs1_t3 = pd.read_json('../results/fewshot-eval/' + task3_files[7])"
   ]
  },
  {
   "cell_type": "code",
   "execution_count": null,
   "metadata": {},
   "outputs": [],
   "source": [
    "flanul2_fs1_t3.loc[flanul2_fs1_t3['Correct'] == True].sample(n = 30, random_state = 200)"
   ]
  },
  {
   "cell_type": "code",
   "execution_count": null,
   "metadata": {},
   "outputs": [],
   "source": [
    "llama_fs4_t3 = pd.read_json('../results/fewshot-eval/' + task3_files[0])"
   ]
  },
  {
   "cell_type": "code",
   "execution_count": null,
   "metadata": {},
   "outputs": [],
   "source": [
    "llama_fs4_t3.loc[llama_fs4_t3['Correct'] == True].sample(n = 30, random_state = 200)"
   ]
  },
  {
   "cell_type": "code",
   "execution_count": null,
   "metadata": {},
   "outputs": [],
   "source": [
    "falcon_fs2_t3 = pd.read_json('../results/fewshot-eval/' + task3_files[2])"
   ]
  },
  {
   "cell_type": "code",
   "execution_count": null,
   "metadata": {},
   "outputs": [],
   "source": [
    "falcon_fs2_t3.loc[falcon_fs2_t3['Correct'] == True].sample(n = 30, random_state = 200)"
   ]
  },
  {
   "cell_type": "markdown",
   "metadata": {},
   "source": [
    "# PROMPT COMPARISON"
   ]
  },
  {
   "cell_type": "code",
   "execution_count": null,
   "metadata": {},
   "outputs": [],
   "source": [
    "files_prompt1 = [f for f in os.listdir('../results/fewshot-eval/first_prompt/') if f.endswith('.json')]"
   ]
  },
  {
   "cell_type": "code",
   "execution_count": null,
   "metadata": {},
   "outputs": [],
   "source": [
    "task2_files_prompt1 = [f for f in files_prompt1 if \"task2\" in f]\n",
    "task2_files_prompt1"
   ]
  },
  {
   "cell_type": "code",
   "execution_count": null,
   "metadata": {},
   "outputs": [],
   "source": [
    "falcon_fs4_t2 = pd.read_json('../results/fewshot-eval/first_prompt/' + task2_files_prompt1[5])"
   ]
  },
  {
   "cell_type": "code",
   "execution_count": null,
   "metadata": {},
   "outputs": [],
   "source": [
    "falcon_fs4_t2.loc[falcon_fs4_t2['Correct'] == False].sample(n = 30, random_state = 200)"
   ]
  },
  {
   "cell_type": "code",
   "execution_count": null,
   "metadata": {},
   "outputs": [],
   "source": [
    "falcon_fs1_t2 = pd.read_json('../results/fewshot-eval/first_prompt/' + task2_files_prompt1[8])"
   ]
  },
  {
   "cell_type": "code",
   "execution_count": null,
   "metadata": {},
   "outputs": [],
   "source": [
    "pd.set_option('display.max_colwidth', None)\n",
    "falcon_fs1_t2.loc[falcon_fs1_t2['Correct'] == False].sample(n = 30, random_state = 200)"
   ]
  },
  {
   "cell_type": "code",
   "execution_count": null,
   "metadata": {},
   "outputs": [],
   "source": [
    "falcon_fs2_t2 = pd.read_json('../results/fewshot-eval/first_prompt/' + task2_files_prompt1[2])"
   ]
  },
  {
   "cell_type": "code",
   "execution_count": null,
   "metadata": {},
   "outputs": [],
   "source": [
    "falcon_fs2_t2.loc[falcon_fs2_t2['Correct'] == False].sample(n = 30, random_state = 200)"
   ]
  },
  {
   "cell_type": "code",
   "execution_count": null,
   "metadata": {},
   "outputs": [],
   "source": [
    "task1_files_prompt1 = [f for f in files_prompt1 if \"task1\" in f]\n",
    "task1_files_prompt1"
   ]
  },
  {
   "cell_type": "code",
   "execution_count": null,
   "metadata": {},
   "outputs": [],
   "source": [
    "llama_fs1_t1 = pd.read_json('../results/fewshot-eval/first_prompt/' + task1_files_prompt1[1])"
   ]
  },
  {
   "cell_type": "code",
   "execution_count": null,
   "metadata": {},
   "outputs": [],
   "source": [
    "llama_fs1_t1.loc[llama_fs1_t1['Correct'] == False].sample(n = 30, random_state = 200)"
   ]
  },
  {
   "cell_type": "code",
   "execution_count": null,
   "metadata": {},
   "outputs": [],
   "source": [
    "llama_fs2_t1 = pd.read_json('../results/fewshot-eval/first_prompt/' + task1_files_prompt1[7])\n",
    "llama_fs2_t1.loc[llama_fs1_t1['Correct'] == False].sample(n = 30, random_state = 200)"
   ]
  },
  {
   "cell_type": "code",
   "execution_count": null,
   "metadata": {},
   "outputs": [],
   "source": [
    "llama_fs4_t1 = pd.read_json('../results/fewshot-eval/first_prompt/' + task1_files_prompt1[5])\n",
    "llama_fs4_t1.loc[llama_fs1_t1['Correct'] == False].sample(n = 30, random_state = 200)"
   ]
  },
  {
   "cell_type": "code",
   "execution_count": null,
   "metadata": {},
   "outputs": [],
   "source": []
  },
  {
   "cell_type": "code",
   "execution_count": null,
   "metadata": {},
   "outputs": [],
   "source": []
  },
  {
   "cell_type": "code",
   "execution_count": null,
   "metadata": {},
   "outputs": [],
   "source": []
  },
  {
   "cell_type": "code",
   "execution_count": null,
   "metadata": {},
   "outputs": [],
   "source": []
  },
  {
   "cell_type": "markdown",
   "metadata": {},
   "source": [
    "# Qualitative Analysis Fewshot also FOR THE NEW MODELS:"
   ]
  },
  {
   "cell_type": "code",
   "execution_count": null,
   "metadata": {},
   "outputs": [],
   "source": [
    "files = [f for f in os.listdir('../results/fewshot-eval/') if f.endswith('.json')]\n",
    "files"
   ]
  },
  {
   "cell_type": "code",
   "execution_count": null,
   "metadata": {},
   "outputs": [],
   "source": [
    "task1_orca_files = [f for f in files if (\"task1\" in f) and (\"orca\" in f)]\n",
    "task1_orca_files"
   ]
  },
  {
   "cell_type": "code",
   "execution_count": null,
   "metadata": {},
   "outputs": [],
   "source": [
    "orca_fs1_t1 = pd.read_json('../results/fewshot-eval/first_prompt/' + task1_orca_files[2])\n",
    "orca_fs1_t1.loc[orca_fs1_t1['Correct'] == True].sample(n = 30, random_state = 200)"
   ]
  },
  {
   "cell_type": "code",
   "execution_count": null,
   "metadata": {},
   "outputs": [],
   "source": [
    "orca_fs2_t1 = pd.read_json('../results/fewshot-eval/first_prompt/' + task1_orca_files[1])\n",
    "orca_fs2_t1.loc[orca_fs2_t1['Correct'] == True].sample(n = 30, random_state = 200)"
   ]
  },
  {
   "cell_type": "code",
   "execution_count": null,
   "metadata": {},
   "outputs": [],
   "source": [
    "orca_fs4_t1 = pd.read_json('../results/fewshot-eval/first_prompt/' + task1_orca_files[1])\n",
    "orca_fs4_t1.loc[orca_fs4_t1['Correct'] == True].sample(n = 30, random_state = 200)"
   ]
  },
  {
   "cell_type": "code",
   "execution_count": null,
   "metadata": {},
   "outputs": [],
   "source": [
    "task1_wiz_files = [f for f in files if (\"task1\" in f) and (\"Wizard\" in f)]\n",
    "task1_wiz_files"
   ]
  },
  {
   "cell_type": "code",
   "execution_count": null,
   "metadata": {},
   "outputs": [],
   "source": [
    "wiz_fs1_t1 = pd.read_json('../results/fewshot-eval/first_prompt/' + task1_wiz_files[2])\n",
    "wiz_fs1_t1.loc[wiz_fs1_t1['Correct'] == True].sample(n = 30, random_state = 200)"
   ]
  },
  {
   "cell_type": "code",
   "execution_count": null,
   "metadata": {},
   "outputs": [],
   "source": [
    "wiz_fs2_t1 = pd.read_json('../results/fewshot-eval/first_prompt/' + task1_wiz_files[0])\n",
    "wiz_fs2_t1.loc[wiz_fs2_t1['Correct'] == True].sample(n = 30, random_state = 200)"
   ]
  },
  {
   "cell_type": "code",
   "execution_count": null,
   "metadata": {},
   "outputs": [],
   "source": [
    "wiz_fs4_t1 = pd.read_json('../results/fewshot-eval/first_prompt/' + task1_wiz_files[1])\n",
    "wiz_fs4_t1.loc[wiz_fs4_t1['Correct'] == True].sample(n = 30, random_state = 200)"
   ]
  },
  {
   "cell_type": "code",
   "execution_count": null,
   "metadata": {},
   "outputs": [],
   "source": [
    "task2_orca_files = [f for f in files if (\"task2\" in f) and (\"orca\" in f)]\n",
    "task2_orca_files"
   ]
  },
  {
   "cell_type": "code",
   "execution_count": null,
   "metadata": {},
   "outputs": [],
   "source": [
    "orca_fs1_t2 = pd.read_json('../results/fewshot-eval/first_prompt/' + task2_orca_files[0])\n",
    "orca_fs1_t2.loc[orca_fs1_t2['Correct'] == False].sample(n = 30, random_state = 200)"
   ]
  },
  {
   "cell_type": "code",
   "execution_count": null,
   "metadata": {},
   "outputs": [],
   "source": [
    "orca_fs2_t2 = pd.read_json('../results/fewshot-eval/first_prompt/' + task2_orca_files[2])\n",
    "orca_fs2_t2.loc[orca_fs2_t2['Correct'] == True].sample(n = 30, random_state = 200)"
   ]
  },
  {
   "cell_type": "code",
   "execution_count": null,
   "metadata": {},
   "outputs": [],
   "source": [
    "orca_fs4_t2 = pd.read_json('../results/fewshot-eval/first_prompt/' + task2_orca_files[1])\n",
    "orca_fs4_t2.loc[orca_fs4_t2['Correct'] == True].sample(n = 30, random_state = 200)"
   ]
  },
  {
   "cell_type": "code",
   "execution_count": null,
   "metadata": {},
   "outputs": [],
   "source": [
    "task2_wizard_files = [f for f in files if (\"task2\" in f) and (\"Wizard\" in f)]\n",
    "task2_wizard_files"
   ]
  },
  {
   "cell_type": "code",
   "execution_count": null,
   "metadata": {},
   "outputs": [],
   "source": [
    "wizard_fs1_t2 = pd.read_json('../results/fewshot-eval/first_prompt/' + task2_wizard_files[0])\n",
    "wizard_fs1_t2.loc[wizard_fs1_t2['Correct'] == True].sample(n = 30, random_state = 200)"
   ]
  },
  {
   "cell_type": "code",
   "execution_count": null,
   "metadata": {},
   "outputs": [],
   "source": [
    "wizard_fs2_t2 = pd.read_json('../results/fewshot-eval/first_prompt/' + task2_wizard_files[1])\n",
    "wizard_fs2_t2.loc[wizard_fs2_t2['Correct'] == True].sample(n = 30, random_state = 200)"
   ]
  },
  {
   "cell_type": "code",
   "execution_count": null,
   "metadata": {},
   "outputs": [],
   "source": [
    "wizard_fs4_t2 = pd.read_json('../results/fewshot-eval/first_prompt/' + task2_wizard_files[2])\n",
    "wizard_fs4_t2.loc[wizard_fs4_t2['Correct'] == False].sample(n = 30, random_state = 200)"
   ]
  },
  {
   "cell_type": "code",
   "execution_count": null,
   "metadata": {},
   "outputs": [],
   "source": [
    "task3_files = [f for f in files if \"task2\" in f]\n",
    "task3_files"
   ]
  },
  {
   "cell_type": "code",
   "execution_count": null,
   "metadata": {},
   "outputs": [],
   "source": []
  }
 ],
 "metadata": {
  "colab": {
   "provenance": []
  },
  "kernelspec": {
   "display_name": "Python 3 (ipykernel)",
   "language": "python",
   "name": "python3"
  },
  "language_info": {
   "codemirror_mode": {
    "name": "ipython",
    "version": 3
   },
   "file_extension": ".py",
   "mimetype": "text/x-python",
   "name": "python",
   "nbconvert_exporter": "python",
   "pygments_lexer": "ipython3",
   "version": "3.10.12"
  },
  "vscode": {
   "interpreter": {
    "hash": "b0fa6594d8f4cbf19f97940f81e996739fb7646882a419484c72d19e05852a7e"
   }
  }
 },
 "nbformat": 4,
 "nbformat_minor": 4
}
