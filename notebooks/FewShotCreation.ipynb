{
 "cells": [
  {
   "cell_type": "markdown",
   "metadata": {},
   "source": [
    "## Creating Few Shot datasets"
   ]
  },
  {
   "cell_type": "code",
   "execution_count": 53,
   "metadata": {},
   "outputs": [],
   "source": [
    "from datasets import load_dataset\n",
    "import pandas as pd\n",
    "import random\n",
    "import json"
   ]
  },
  {
   "cell_type": "code",
   "execution_count": 54,
   "metadata": {},
   "outputs": [],
   "source": [
    "task1_dataset = pd.read_json('Task1-dataset.json')\n",
    "\n",
    "task2_dataset = pd.read_json('Task2-dataset.json')\n",
    "\n",
    "task3_dataset = pd.read_json('Task3-dataset.json')"
   ]
  },
  {
   "cell_type": "code",
   "execution_count": 55,
   "metadata": {},
   "outputs": [],
   "source": [
    "# Utilities:\n",
    "def make_few_shot_inputs(dataset, num_random_examples):\n",
    "    few_shot_inputs = []\n",
    "    stop = len(dataset[\"Input\"]) - 1\n",
    "    for i, input in enumerate(dataset[\"Input\"]):\n",
    "        prompt = \"Please consider the following logic problems carefully and answer the corresponding questions!\"\n",
    "        for j in range(num_random_examples):\n",
    "            example_index = random.randint(0, stop)\n",
    "            example_input = dataset[\"Input\"][example_index]\n",
    "            example_target = dataset[\"Target\"][example_index]\n",
    "            prompt += \"\\n\" + example_input + \"A: \" + example_target\n",
    "        prompt += \"\\n\" + input + \"A: \"\n",
    "        few_shot_inputs.append(prompt)\n",
    "    return few_shot_inputs\n",
    "\n",
    "def convert_pd_to_jsonl(dataframe, filename):\n",
    "    dataset = dataframe.to_dict(orient=\"records\")\n",
    "    with open(filename, \"w\") as f:\n",
    "        for line in dataset:\n",
    "            f.write(json.dumps(line) + \"\\n\")"
   ]
  },
  {
   "cell_type": "code",
   "execution_count": 56,
   "metadata": {},
   "outputs": [],
   "source": [
    "# Task 1:\n",
    "few_shot_inputs_1_example = make_few_shot_inputs(task1_dataset, num_random_examples = 1)\n",
    "few_shot_inputs_2_examples = make_few_shot_inputs(task1_dataset, num_random_examples = 2)\n",
    "few_shot_inputs_4_examples = make_few_shot_inputs(task1_dataset, num_random_examples = 4)\n"
   ]
  },
  {
   "cell_type": "code",
   "execution_count": 57,
   "metadata": {},
   "outputs": [],
   "source": [
    "task1_fs1_dataset = task1_dataset.copy()\n",
    "task1_fs1_dataset['FewShot-1'] = few_shot_inputs_1_example\n",
    "task1_fs1_dataset.to_json('Task1-fs1-dataset.json')\n",
    "\n",
    "task1_fs2_dataset = task1_dataset.copy()\n",
    "task1_fs2_dataset['FewShot-2'] = few_shot_inputs_2_examples\n",
    "task1_fs2_dataset.to_json('Task1-fs2-dataset.json')\n",
    "\n",
    "task1_fs4_dataset = task1_dataset.copy()\n",
    "task1_fs4_dataset['FewShot-4'] = few_shot_inputs_4_examples\n",
    "task1_fs4_dataset.to_json('Task1-fs4-dataset.json')"
   ]
  },
  {
   "cell_type": "code",
   "execution_count": 58,
   "metadata": {},
   "outputs": [],
   "source": [
    "convert_pd_to_jsonl(task1_fs1_dataset, \"Task1-fs1-dataset.jsonl\")\n",
    "convert_pd_to_jsonl(task1_fs2_dataset, \"Task1-fs2-dataset.jsonl\")\n",
    "convert_pd_to_jsonl(task1_fs4_dataset, \"Task1-fs4-dataset.jsonl\")"
   ]
  },
  {
   "cell_type": "code",
   "execution_count": 59,
   "metadata": {},
   "outputs": [],
   "source": [
    "# Task 2:\n",
    "few_shot_inputs_1_example = make_few_shot_inputs(task2_dataset, num_random_examples = 1)\n",
    "few_shot_inputs_2_examples = make_few_shot_inputs(task2_dataset, num_random_examples = 2)\n",
    "few_shot_inputs_4_examples = make_few_shot_inputs(task2_dataset, num_random_examples = 4)\n"
   ]
  },
  {
   "cell_type": "code",
   "execution_count": 60,
   "metadata": {},
   "outputs": [],
   "source": [
    "task2_fs1_dataset = task2_dataset.copy()\n",
    "task2_fs1_dataset['FewShot-1'] = few_shot_inputs_1_example\n",
    "task2_fs1_dataset.to_json('Task2-fs1-dataset.json')\n",
    "\n",
    "task2_fs2_dataset = task2_dataset.copy()\n",
    "task2_fs2_dataset['FewShot-2'] = few_shot_inputs_2_examples\n",
    "task2_fs2_dataset.to_json('Task2-fs2-dataset.json')\n",
    "\n",
    "task2_fs4_dataset = task2_dataset.copy()\n",
    "task2_fs4_dataset['FewShot-4'] = few_shot_inputs_4_examples\n",
    "task2_fs4_dataset.to_json('Task2-fs4-dataset.json')"
   ]
  },
  {
   "cell_type": "code",
   "execution_count": 61,
   "metadata": {},
   "outputs": [],
   "source": [
    "convert_pd_to_jsonl(task2_fs1_dataset, \"Task2-fs1-dataset.jsonl\")\n",
    "convert_pd_to_jsonl(task2_fs2_dataset, \"Task2-fs2-dataset.jsonl\")\n",
    "convert_pd_to_jsonl(task2_fs4_dataset, \"Task2-fs4-dataset.jsonl\")"
   ]
  },
  {
   "cell_type": "code",
   "execution_count": 62,
   "metadata": {},
   "outputs": [],
   "source": [
    "# Task 3:\n",
    "few_shot_inputs_1_example = make_few_shot_inputs(task3_dataset, num_random_examples = 1)\n",
    "few_shot_inputs_2_examples = make_few_shot_inputs(task3_dataset, num_random_examples = 2)\n",
    "few_shot_inputs_4_examples = make_few_shot_inputs(task3_dataset, num_random_examples = 4)"
   ]
  },
  {
   "cell_type": "code",
   "execution_count": 63,
   "metadata": {},
   "outputs": [],
   "source": [
    "task3_fs1_dataset = task3_dataset.copy()\n",
    "task3_fs1_dataset['FewShot-1'] = few_shot_inputs_1_example\n",
    "task3_fs1_dataset.to_json('Task3-fs1-dataset.json')\n",
    "\n",
    "task3_fs2_dataset = task3_dataset.copy()\n",
    "task3_fs2_dataset['FewShot-2'] = few_shot_inputs_2_examples\n",
    "task3_fs2_dataset.to_json('Task3-fs2-dataset.json')\n",
    "\n",
    "task3_fs4_dataset = task3_dataset.copy()\n",
    "task3_fs4_dataset['FewShot-4'] = few_shot_inputs_4_examples\n",
    "task3_fs4_dataset.to_json('Task3-fs4-dataset.json')"
   ]
  },
  {
   "cell_type": "code",
   "execution_count": 64,
   "metadata": {},
   "outputs": [],
   "source": [
    "convert_pd_to_jsonl(task3_fs1_dataset, \"Task3-fs1-dataset.jsonl\")\n",
    "convert_pd_to_jsonl(task3_fs2_dataset, \"Task3-fs2-dataset.jsonl\")\n",
    "convert_pd_to_jsonl(task3_fs4_dataset, \"Task3-fs4-dataset.jsonl\")"
   ]
  },
  {
   "cell_type": "code",
   "execution_count": null,
   "metadata": {},
   "outputs": [],
   "source": []
  }
 ],
 "metadata": {
  "colab": {
   "provenance": []
  },
  "kernelspec": {
   "display_name": "Python 3 (ipykernel)",
   "language": "python",
   "name": "python3"
  },
  "language_info": {
   "codemirror_mode": {
    "name": "ipython",
    "version": 3
   },
   "file_extension": ".py",
   "mimetype": "text/x-python",
   "name": "python",
   "nbconvert_exporter": "python",
   "pygments_lexer": "ipython3",
   "version": "3.10.8"
  },
  "vscode": {
   "interpreter": {
    "hash": "b0fa6594d8f4cbf19f97940f81e996739fb7646882a419484c72d19e05852a7e"
   }
  }
 },
 "nbformat": 4,
 "nbformat_minor": 4
}
